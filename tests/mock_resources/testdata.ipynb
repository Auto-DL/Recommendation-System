{
 "cells": [
  {
   "cell_type": "code",
   "execution_count": 4,
   "source": [
    "import os\r\n",
    "import sys\r\n",
    "\r\n",
    "import github as gh\r\n",
    "\r\n",
    "from selenium import webdriver\r\n",
    "\r\n",
    "from selenium.webdriver.chrome.options import Options\r\n",
    "from webdriver_manager.chrome import ChromeDriverManager\r\n",
    "\r\n",
    "import time\r\n",
    "from tqdm import tqdm\r\n",
    "import pickle\r\n",
    "from uuid import uuid4\r\n",
    "\r\n",
    "import re\r\n",
    "\r\n",
    "def generate_test_data():\r\n",
    "    mock_repository_url='https://github.com/bamblebam/image-classification-rps'\r\n",
    "    mock_python_file_url=f'{mock_repository_url}/blob/master/testmodels.py'\r\n",
    "    options = Options()\r\n",
    "    options.headless = True\r\n",
    "    driver = webdriver.Chrome(\r\n",
    "        ChromeDriverManager(path=\"./\").install(), options=options\r\n",
    "    )  # downloads the latest version of the chrome drivers\r\n",
    "    driver.get(mock_python_file_url)\r\n",
    "    time.sleep(2.5)\r\n",
    "    code_body = driver.find_element_by_xpath(\r\n",
    "                    \"//*[@class='highlight tab-size js-file-line-container']\"  # xpath for code container\r\n",
    "                )\r\n",
    "    with open('test_code.txt','w') as f:\r\n",
    "        f.write(code_body.text)\r\n",
    "    \r\n",
    "generate_test_data()"
   ],
   "outputs": [
    {
     "output_type": "stream",
     "name": "stderr",
     "text": [
      "\n",
      "\n",
      "====== WebDriver manager ======\n",
      "Current google-chrome version is 92.0.4515\n",
      "Get LATEST driver version for 92.0.4515\n",
      "Driver [./\\drivers\\chromedriver\\win32\\92.0.4515.43\\chromedriver.exe] found in cache\n"
     ]
    }
   ],
   "metadata": {}
  },
  {
   "cell_type": "code",
   "execution_count": 5,
   "source": [
    "with open('test_code.txt', 'r') as f:\r\n",
    "    content=f.read()\r\n",
    "print(content)"
   ],
   "outputs": [
    {
     "output_type": "stream",
     "name": "stdout",
     "text": [
      "import matplotlib.pyplot as plt\n",
      "import tensorflow as tf\n",
      "from tensorflow import keras\n",
      "import numpy as np\n",
      "from tensorflow.keras.preprocessing.image import ImageDataGenerator\n",
      "from tensorflow.keras.layers import Dense, Input, Dropout, Flatten, Conv2D, BatchNormalization, Activation, MaxPooling2D\n",
      "from tensorflow.keras.models import Model, Sequential\n",
      "from tensorflow.keras.callbacks import ReduceLROnPlateau, EarlyStopping, ModelCheckpoint\n",
      "# %%\n",
      "train_gen = ImageDataGenerator(horizontal_flip=True, vertical_flip=True)\n",
      "gen_train = train_gen.flow_from_directory(\n",
      "    \"datasets/rps\", class_mode='sparse', batch_size=64, color_mode='grayscale', target_size=(64, 64))\n",
      "# %%\n",
      "test_gen = ImageDataGenerator(horizontal_flip=True, vertical_flip=True)\n",
      "gen_test = test_gen.flow_from_directory(\n",
      "    \"datasets/rps-test-set\", class_mode='sparse', batch_size=64, color_mode='grayscale', target_size=(64, 64))\n",
      "# %%\n",
      "model = Sequential()\n",
      "model.add(Conv2D(128, (3, 3), input_shape=(64, 64, 1), padding='same'))\n",
      "model.add(Conv2D(128, (3, 3), padding='same'))\n",
      "model.add(BatchNormalization())\n",
      "model.add(Activation('relu'))\n",
      "model.add(MaxPooling2D(pool_size=(3, 3)))\n",
      "model.add(Dropout(0.25))\n",
      "model.add(Dense(3, activation='softmax'))\n",
      "model.compile(optimizer='adam',\n",
      "              loss='sparse_categorical_crossentropy', metrics=['accuracy'])\n",
      "# %%\n",
      "model.summary()\n",
      "#for type 1 with keras.layers.[...] syntax\n",
      "model2=Sequential([\n",
      "  keras.layers.Conv2D(128, (3, 3), input_shape=(64, 64, 1), padding='same'),\n",
      "  keras.layers.Conv2D(128, (3, 3), input_shape=(64, 64, 1), padding='same'),\n",
      "  keras.layers.Conv2D(128, (3, 3), input_shape=(64, 64, 1), padding='same'),\n",
      "  keras.layers.Conv2D(128, (3, 3), input_shape=(64, 64, 1), padding='same'),\n",
      "  keras.layers.Dense(3, activation='softmax'),\n",
      "  keras.layers.Dense(3, activation='softmax'),\n",
      "  keras.layers.Dense(3, activation='softmax')\n",
      "])\n",
      "#for type 1 with layers syntax\n",
      "model3=Sequential([\n",
      "  Conv2D(128, (3, 3), input_shape=(64, 64, 1), padding='same'),\n",
      "  Conv2D(128, (3, 3), input_shape=(64, 64, 1), padding='same'),\n",
      "  Conv2D(128, (3, 3), input_shape=(64, 64, 1), padding='same'),\n",
      "  Conv2D(128, (3, 3), input_shape=(64, 64, 1), padding='same'),\n",
      "  Dense(3, activation='softmax'),\n",
      "  Dense(3, activation='softmax'),\n",
      "  Dense(3, activation='softmax')\n",
      "])\n",
      "# %%\n",
      "reduceLR = ReduceLROnPlateau(\n",
      "    monitor='val_loss', factor=0.1, patience=2, verbose=0, mode='auto',\n",
      "    min_delta=0.0001, cooldown=0, min_lr=0)\n",
      "earlyStop = tf.keras.callbacks.EarlyStopping(\n",
      "    monitor='accuracy', min_delta=0.001, patience=10, verbose=0, mode='auto',\n",
      "    baseline=None, restore_best_weights=True)\n",
      "checkpoint = ModelCheckpoint(\n",
      "    'models/model7.h5', save_best_only=True, monitor='val_loss', mode='min')\n",
      "callbacks = [reduceLR, earlyStop, checkpoint]\n",
      "# %%\n",
      "model.fit(x=gen_train, epochs=100,\n",
      "          validation_data=gen_test, callbacks=callbacks)\n",
      "# %%\n",
      "score = model.evaluate(gen_test)\n",
      "print(score[1])\n",
      "# %%\n",
      "model.save('models/final_model.h5')\n",
      "# %%\n"
     ]
    }
   ],
   "metadata": {}
  }
 ],
 "metadata": {
  "orig_nbformat": 4,
  "language_info": {
   "name": "python",
   "version": "3.9.2",
   "mimetype": "text/x-python",
   "codemirror_mode": {
    "name": "ipython",
    "version": 3
   },
   "pygments_lexer": "ipython3",
   "nbconvert_exporter": "python",
   "file_extension": ".py"
  },
  "kernelspec": {
   "name": "python3",
   "display_name": "Python 3.9.2 64-bit ('venv': venv)"
  },
  "interpreter": {
   "hash": "78f4f8306d126378c9562ce753494e28fbcd9f2973a9f9ea6a83cd7fde7d058b"
  }
 },
 "nbformat": 4,
 "nbformat_minor": 2
}