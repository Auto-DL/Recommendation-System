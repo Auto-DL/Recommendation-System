{
 "cells": [
  {
   "cell_type": "code",
   "execution_count": 2,
   "source": [
    "import os\r\n",
    "import sys\r\n",
    "\r\n",
    "import github as gh\r\n",
    "\r\n",
    "from selenium import webdriver\r\n",
    "\r\n",
    "from selenium.webdriver.chrome.options import Options\r\n",
    "from webdriver_manager.chrome import ChromeDriverManager\r\n",
    "\r\n",
    "import time\r\n",
    "from tqdm import tqdm\r\n",
    "import pickle\r\n",
    "from uuid import uuid4\r\n",
    "\r\n",
    "import re\r\n",
    "\r\n",
    "def generate_test_data():\r\n",
    "    mock_repository_url='https://github.com/bamblebam/image-classification-rps'\r\n",
    "    mock_python_file_url=f'{mock_repository_url}/blob/master/testmodels.py'\r\n",
    "    options = Options()\r\n",
    "    options.headless = True\r\n",
    "    driver = webdriver.Chrome(\r\n",
    "        ChromeDriverManager(path=\"./\").install(), options=options\r\n",
    "    )  # downloads the latest version of the chrome drivers\r\n",
    "    driver.get(mock_python_file_url)\r\n",
    "    time.sleep(2.5)\r\n",
    "    code_body = driver.find_element_by_xpath(\r\n",
    "                    \"//*[@class='highlight tab-size js-file-line-container']\"  # xpath for code container\r\n",
    "                )\r\n",
    "    with open('test_code.txt','w') as f:\r\n",
    "        f.write(code_body.text)\r\n",
    "    \r\n",
    "generate_test_data()"
   ],
   "outputs": [
    {
     "output_type": "stream",
     "name": "stderr",
     "text": [
      "\n",
      "\n",
      "====== WebDriver manager ======\n",
      "Current google-chrome version is 92.0.4515\n",
      "Get LATEST driver version for 92.0.4515\n",
      "Driver [./\\drivers\\chromedriver\\win32\\92.0.4515.43\\chromedriver.exe] found in cache\n"
     ]
    }
   ],
   "metadata": {}
  },
  {
   "cell_type": "code",
   "execution_count": 3,
   "source": [
    "def getLayerSequence1helper(code):\r\n",
    "    \"\"\"\r\n",
    "    Helper function to get models of type Sequential([...])\r\n",
    "    :param code: the code from the .py file\r\n",
    "    :return: list in correct sequence of layers\r\n",
    "    :rtype: list model.add(.*)\r\n",
    "    \"\"\"\r\n",
    "    rawLayerSequence = re.findall(\"Sequential\\(\\[([^]]+)\\]\\)\", code, re.DOTALL)\r\n",
    "    layerSequence = list()\r\n",
    "    temp = list()\r\n",
    "    for i in rawLayerSequence:\r\n",
    "        temp = re.findall(\".?(.*)\\)\", i)\r\n",
    "        layerSequence.append(temp)\r\n",
    "    return layerSequence"
   ],
   "outputs": [],
   "metadata": {}
  },
  {
   "cell_type": "code",
   "execution_count": 18,
   "source": [
    "with open('test_code.txt') as f:\r\n",
    "    code = f.read()\r\n",
    "    f.close()\r\n",
    "output=getLayerSequence1helper(code)\r\n",
    "print(output)"
   ],
   "outputs": [
    {
     "output_type": "stream",
     "name": "stdout",
     "text": [
      "[[\" keras.layers.Conv2D(128, (3, 3), input_shape=(64, 64, 1), padding='same'\", \" keras.layers.Conv2D(128, (3, 3), input_shape=(64, 64, 1), padding='same'\", \" keras.layers.Conv2D(128, (3, 3), input_shape=(64, 64, 1), padding='same'\", \" keras.layers.Conv2D(128, (3, 3), input_shape=(64, 64, 1), padding='same'\", \" keras.layers.Dense(3, activation='softmax'\", \" keras.layers.Dense(3, activation='softmax'\", \" keras.layers.Dense(3, activation='softmax'\"], [\" Conv2D(128, (3, 3), input_shape=(64, 64, 1), padding='same'\", \" Conv2D(128, (3, 3), input_shape=(64, 64, 1), padding='same'\", \" Conv2D(128, (3, 3), input_shape=(64, 64, 1), padding='same'\", \" Conv2D(128, (3, 3), input_shape=(64, 64, 1), padding='same'\", \" Dense(3, activation='softmax'\", \" Dense(3, activation='softmax'\", \" Dense(3, activation='softmax'\"], [\" keras.layers.Conv2D(128, (3, 3), input_shape=(64, 64, 1), padding='same'\", \" keras.layers.Conv2D(128, (3, 3), input_shape=(64, 64, 1), padding='same'\", \" keras.layers.Conv2D(128, (3, 3), input_shape=(64, 64, 1), padding='same'\", \" keras.layers.Conv2D(128, (3, 3), input_shape=(64, 64, 1), padding='same'\", \" keras.layers.Activation('relu'\", \" keras.layers.Dense(3, activation='softmax'\", \" keras.layers.Dense(3, activation='softmax'\", \" keras.layers.Dense(3, activation='softmax'\"]]\n"
     ]
    }
   ],
   "metadata": {}
  },
  {
   "cell_type": "code",
   "execution_count": 15,
   "source": [
    "def getLayerSequence2(code, path):\r\n",
    "    \"\"\"\r\n",
    "    Function to get models of type model.add(layerName)\r\n",
    "    :param code: the code from the .py file\r\n",
    "    :param path: path to save the data\r\n",
    "    :return: None\r\n",
    "    :rtype: None\r\n",
    "    \"\"\"\r\n",
    "    layers = [\r\n",
    "        \"Conv2D\",\r\n",
    "        \"Dense\",\r\n",
    "        \"LSTM\",\r\n",
    "        \"SimpleRNN\",\r\n",
    "        \"Dropout\",\r\n",
    "        \"Flatten\",\r\n",
    "        \"ZeroPadding2D\",\r\n",
    "        \"AveragePooling2D\",\r\n",
    "        \"MaxPooling2D\",\r\n",
    "    ]\r\n",
    "    model_names = re.findall(\"(.*) *=.*Sequential\\(\\)\", code)\r\n",
    "    # print(model_names)\r\n",
    "    for model in model_names:\r\n",
    "        print(model)\r\n",
    "        isValid = True\r\n",
    "        modelLayers = []\r\n",
    "        model.strip()\r\n",
    "        model = model.replace(\" \", \"\")\r\n",
    "        rawLayerSequences = re.findall(f\"{model}\\.add\\((.*)\\(\", code)\r\n",
    "        # print(rawLayerSequences)\r\n",
    "        for rawLayerSequence in rawLayerSequences:\r\n",
    "            k = rawLayerSequence.split(\"(\")[0]\r\n",
    "            k = k.split(\".\")[-1]\r\n",
    "            if k not in layers:\r\n",
    "                isValid = False\r\n",
    "                break\r\n",
    "            modelLayers.append(k)\r\n",
    "        print(modelLayers)\r\n",
    "        if len(modelLayers) < 4:\r\n",
    "            isValid = False\r\n",
    "        if isValid:\r\n",
    "            print(model)\r\n",
    "            model_to_pickle(modelLayers, path)\r\n",
    "            \r\n",
    "def model_to_pickle(model, path):\r\n",
    "    \"\"\"\r\n",
    "    Function to convert the model to a pickle object\r\n",
    "    :param model: the model to be converted\r\n",
    "    :param path: path to save the data\r\n",
    "    :return: None\r\n",
    "    :rtype: None\r\n",
    "    \"\"\"\r\n",
    "    fname = str(uuid4().hex[:32]) + \".pkl\"\r\n",
    "    fpath = os.path.join(path, fname)\r\n",
    "    with open(fpath, \"wb\") as f:\r\n",
    "        pickle.dump(model, f)\r\n",
    "        f.close()"
   ],
   "outputs": [],
   "metadata": {}
  },
  {
   "cell_type": "code",
   "execution_count": 19,
   "source": [
    "getLayerSequence2(code,'/')"
   ],
   "outputs": [
    {
     "output_type": "stream",
     "name": "stdout",
     "text": [
      "model \n",
      "['Conv2D', 'Conv2D']\n",
      "model5 \n",
      "['Conv2D', 'Conv2D', 'MaxPooling2D', 'Dropout', 'Dense']\n",
      "model5\n"
     ]
    }
   ],
   "metadata": {}
  }
 ],
 "metadata": {
  "orig_nbformat": 4,
  "language_info": {
   "name": "python",
   "version": "3.9.2",
   "mimetype": "text/x-python",
   "codemirror_mode": {
    "name": "ipython",
    "version": 3
   },
   "pygments_lexer": "ipython3",
   "nbconvert_exporter": "python",
   "file_extension": ".py"
  },
  "kernelspec": {
   "name": "python3",
   "display_name": "Python 3.9.2 64-bit ('venv': venv)"
  },
  "interpreter": {
   "hash": "78f4f8306d126378c9562ce753494e28fbcd9f2973a9f9ea6a83cd7fde7d058b"
  }
 },
 "nbformat": 4,
 "nbformat_minor": 2
}