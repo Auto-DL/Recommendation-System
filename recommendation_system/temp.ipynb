{
 "cells": [
  {
   "cell_type": "markdown",
   "source": [
    "# Imports"
   ],
   "metadata": {}
  },
  {
   "cell_type": "code",
   "execution_count": null,
   "source": [
    "# import tensorflow as tf\r\n",
    "# from tensorflow import keras\r\n",
    "# from tensorflow.keras import layers, Sequential\r\n",
    "import pickle"
   ],
   "outputs": [],
   "metadata": {}
  },
  {
   "cell_type": "markdown",
   "source": [
    "# Data"
   ],
   "metadata": {}
  },
  {
   "cell_type": "code",
   "execution_count": null,
   "source": [
    "# connect to ec2 and get data"
   ],
   "outputs": [],
   "metadata": {}
  },
  {
   "cell_type": "code",
   "execution_count": null,
   "source": [
    "def getDividedArray(array):\r\n",
    "  '''\r\n",
    "  Breaks longer arrays into chunks of length four\r\n",
    "  :param array: array of layer sequence\r\n",
    "  :return array containing chunks of length four\r\n",
    "  :rtype: array\r\n",
    "  '''\r\n",
    "  temp = []\r\n",
    "  if len(array) > 4:\r\n",
    "    for i in range(len(array)-3):\r\n",
    "      temp.append(array[i:i+4])\r\n",
    "  return temp\r\n",
    "\r\n",
    "\r\n",
    "def unpickleData(filename, data):\r\n",
    "  '''\r\n",
    "  Get data from pickled files\r\n",
    "  :param filename: pickle file with model layer sequence\r\n",
    "  :param data: the array containing the model array\r\n",
    "  '''\r\n",
    "  fileObj = open(filename,'rb')\r\n",
    "  array = pickle.load(fileObj)\r\n",
    "  if len(array) > 4:\r\n",
    "    array = getDividedArray(array)\r\n",
    "    data.append( i for i in array)\r\n",
    "  else:\r\n",
    "    data.append(array)\r\n",
    "  fileObj.close()\r\n",
    "  return data"
   ],
   "outputs": [],
   "metadata": {}
  },
  {
   "cell_type": "markdown",
   "source": [
    "# Model"
   ],
   "metadata": {}
  },
  {
   "cell_type": "markdown",
   "source": [
    "Refrenece for the model\r\n",
    "[link](https://stackoverflow.com/questions/64209325/if-i-want-to-predict-the-next-element-in-a-sequence-of-numbers-what-do-i-need-t)\r\n",
    "\r\n",
    "For survey:\r\n",
    "- [Making Predictions with Sequences](https://machinelearningmastery.com/sequence-prediction/)\r\n",
    "- "
   ],
   "metadata": {}
  },
  {
   "cell_type": "code",
   "execution_count": null,
   "source": [
    "model = Sequential()\r\n",
    "model.add(layers.LSTM(units = 4, return_sequences = True))\r\n",
    "model.add(layers.LSTM(units = 2))\r\n",
    "model.add(layers.Dense(units = 1))\r\n",
    "model.compile(optimizer = 'rmsprop', loss = 'mse')"
   ],
   "outputs": [],
   "metadata": {}
  },
  {
   "cell_type": "markdown",
   "source": [
    "# Prediction and analysis"
   ],
   "metadata": {}
  },
  {
   "cell_type": "code",
   "execution_count": null,
   "source": [],
   "outputs": [],
   "metadata": {}
  }
 ],
 "metadata": {
  "orig_nbformat": 4,
  "language_info": {
   "name": "python"
  }
 },
 "nbformat": 4,
 "nbformat_minor": 2
}