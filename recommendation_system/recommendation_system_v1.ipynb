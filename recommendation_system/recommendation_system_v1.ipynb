{
 "cells": [
  {
   "cell_type": "markdown",
   "source": [
    "# Imports"
   ],
   "metadata": {}
  },
  {
   "cell_type": "code",
   "execution_count": 1,
   "source": [
    "import tensorflow as tf\r\n",
    "from tensorflow import keras\r\n",
    "from tensorflow.keras import layers, Sequential\r\n",
    "import pickle\r\n",
    "import numpy as np\r\n",
    "import pandas as pd\r\n",
    "\r\n",
    "import os"
   ],
   "outputs": [],
   "metadata": {}
  },
  {
   "cell_type": "markdown",
   "source": [
    "# Data"
   ],
   "metadata": {}
  },
  {
   "cell_type": "code",
   "execution_count": 30,
   "source": [
    "data = [[\"layer1\", \"layer2\", \"layer3\", \"target\"]]"
   ],
   "outputs": [],
   "metadata": {}
  },
  {
   "cell_type": "code",
   "execution_count": 29,
   "source": [
    "def getDividedArray(array):\r\n",
    "  '''\r\n",
    "  Breaks longer arrays into chunks of length four\r\n",
    "  :param array: array of layer sequence\r\n",
    "  :return array containing chunks of length four\r\n",
    "  :rtype: array\r\n",
    "  '''\r\n",
    "  temp = []\r\n",
    "  if len(array) > 4:\r\n",
    "    for i in range(len(array)-3):\r\n",
    "      temp.append(array[i:i+4])\r\n",
    "  return temp\r\n",
    "\r\n",
    "\r\n",
    "def unpickleData(filename):\r\n",
    "  '''\r\n",
    "  Get data from pickled files\r\n",
    "  :param filename: pickle file with model layer sequence\r\n",
    "  :param data: the array containing the model array\r\n",
    "  '''\r\n",
    "  fileObj = open(filename,'rb')\r\n",
    "  array = pickle.load(fileObj)\r\n",
    "  if len(array) > 4:\r\n",
    "    array = getDividedArray(array)\r\n",
    "    for i in array:\r\n",
    "      data.append(i)\r\n",
    "  else:\r\n",
    "    data.append(array)\r\n",
    "  fileObj.close()\r\n",
    "  return data"
   ],
   "outputs": [],
   "metadata": {}
  },
  {
   "cell_type": "code",
   "execution_count": 32,
   "source": [
    "for file in os.listdir('../data/models'):\r\n",
    "    filename=os.path.join('../data/models',file)\r\n",
    "    unpickleData(filename)\r\n",
    "    break"
   ],
   "outputs": [],
   "metadata": {}
  },
  {
   "cell_type": "code",
   "execution_count": 33,
   "source": [
    "print(data)"
   ],
   "outputs": [
    {
     "output_type": "stream",
     "name": "stdout",
     "text": [
      "[['layer1', 'layer2', 'layer3', 'target'], ['Conv2D', 'Conv2D', 'Conv2D', 'MaxPooling2D'], ['Conv2D', 'Conv2D', 'MaxPooling2D', 'Flatten'], ['Conv2D', 'MaxPooling2D', 'Flatten', 'Dense'], ['MaxPooling2D', 'Flatten', 'Dense', 'Dense'], ['Flatten', 'Dense', 'Dense', 'Dense'], ['Dense', 'Dense', 'Dense', 'Dense']]\n"
     ]
    }
   ],
   "metadata": {}
  },
  {
   "cell_type": "code",
   "execution_count": 34,
   "source": [
    "# Column Names\r\n",
    "# data = [[\"layer1\", \"layer2\", \"layer3\", \"target\"]]\r\n",
    "\r\n",
    "# get all data in data array\r\n",
    "# connect to ec2 and call unpickleData\r\n",
    "\r\n",
    "\r\n",
    "# convert it to csv\r\n",
    "np.savetxt(\"../data/csv/data.csv\", data, delimiter=\",\", fmt='%s')"
   ],
   "outputs": [],
   "metadata": {}
  },
  {
   "cell_type": "code",
   "execution_count": 35,
   "source": [
    "df=pd.read_csv(\"../data/csv/data.csv\")\r\n",
    "df.head()"
   ],
   "outputs": [
    {
     "output_type": "execute_result",
     "data": {
      "text/plain": [
       "         layer1        layer2        layer3        target\n",
       "0        Conv2D        Conv2D        Conv2D  MaxPooling2D\n",
       "1        Conv2D        Conv2D  MaxPooling2D       Flatten\n",
       "2        Conv2D  MaxPooling2D       Flatten         Dense\n",
       "3  MaxPooling2D       Flatten         Dense         Dense\n",
       "4       Flatten         Dense         Dense         Dense"
      ],
      "text/html": [
       "<div>\n",
       "<style scoped>\n",
       "    .dataframe tbody tr th:only-of-type {\n",
       "        vertical-align: middle;\n",
       "    }\n",
       "\n",
       "    .dataframe tbody tr th {\n",
       "        vertical-align: top;\n",
       "    }\n",
       "\n",
       "    .dataframe thead th {\n",
       "        text-align: right;\n",
       "    }\n",
       "</style>\n",
       "<table border=\"1\" class=\"dataframe\">\n",
       "  <thead>\n",
       "    <tr style=\"text-align: right;\">\n",
       "      <th></th>\n",
       "      <th>layer1</th>\n",
       "      <th>layer2</th>\n",
       "      <th>layer3</th>\n",
       "      <th>target</th>\n",
       "    </tr>\n",
       "  </thead>\n",
       "  <tbody>\n",
       "    <tr>\n",
       "      <th>0</th>\n",
       "      <td>Conv2D</td>\n",
       "      <td>Conv2D</td>\n",
       "      <td>Conv2D</td>\n",
       "      <td>MaxPooling2D</td>\n",
       "    </tr>\n",
       "    <tr>\n",
       "      <th>1</th>\n",
       "      <td>Conv2D</td>\n",
       "      <td>Conv2D</td>\n",
       "      <td>MaxPooling2D</td>\n",
       "      <td>Flatten</td>\n",
       "    </tr>\n",
       "    <tr>\n",
       "      <th>2</th>\n",
       "      <td>Conv2D</td>\n",
       "      <td>MaxPooling2D</td>\n",
       "      <td>Flatten</td>\n",
       "      <td>Dense</td>\n",
       "    </tr>\n",
       "    <tr>\n",
       "      <th>3</th>\n",
       "      <td>MaxPooling2D</td>\n",
       "      <td>Flatten</td>\n",
       "      <td>Dense</td>\n",
       "      <td>Dense</td>\n",
       "    </tr>\n",
       "    <tr>\n",
       "      <th>4</th>\n",
       "      <td>Flatten</td>\n",
       "      <td>Dense</td>\n",
       "      <td>Dense</td>\n",
       "      <td>Dense</td>\n",
       "    </tr>\n",
       "  </tbody>\n",
       "</table>\n",
       "</div>"
      ]
     },
     "metadata": {},
     "execution_count": 35
    }
   ],
   "metadata": {}
  },
  {
   "cell_type": "markdown",
   "source": [
    "# Model"
   ],
   "metadata": {}
  },
  {
   "cell_type": "markdown",
   "source": [
    "Refrenece for the model\r\n",
    "[link](https://stackoverflow.com/questions/64209325/if-i-want-to-predict-the-next-element-in-a-sequence-of-numbers-what-do-i-need-t)\r\n",
    "\r\n",
    "For survey:\r\n",
    "- [Making Predictions with Sequences](https://machinelearningmastery.com/sequence-prediction/)\r\n",
    "- "
   ],
   "metadata": {}
  },
  {
   "cell_type": "code",
   "execution_count": null,
   "source": [
    "model = Sequential()\r\n",
    "model.add(layers.LSTM(units = 4, return_sequences = True))\r\n",
    "model.add(layers.LSTM(units = 2))\r\n",
    "model.add(layers.Dense(units = 1))\r\n",
    "model.compile(optimizer = 'rmsprop', loss = 'mse')"
   ],
   "outputs": [],
   "metadata": {}
  },
  {
   "cell_type": "markdown",
   "source": [
    "# Prediction and analysis"
   ],
   "metadata": {}
  },
  {
   "cell_type": "code",
   "execution_count": null,
   "source": [],
   "outputs": [],
   "metadata": {}
  }
 ],
 "metadata": {
  "orig_nbformat": 4,
  "language_info": {
   "name": "python",
   "version": "3.9.2",
   "mimetype": "text/x-python",
   "codemirror_mode": {
    "name": "ipython",
    "version": 3
   },
   "pygments_lexer": "ipython3",
   "nbconvert_exporter": "python",
   "file_extension": ".py"
  },
  "kernelspec": {
   "name": "python3",
   "display_name": "Python 3.9.2 64-bit ('venv': venv)"
  },
  "interpreter": {
   "hash": "78f4f8306d126378c9562ce753494e28fbcd9f2973a9f9ea6a83cd7fde7d058b"
  }
 },
 "nbformat": 4,
 "nbformat_minor": 2
}