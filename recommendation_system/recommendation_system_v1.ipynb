{
 "cells": [
  {
   "cell_type": "markdown",
   "source": [
    "# Imports"
   ],
   "metadata": {}
  },
  {
   "cell_type": "code",
   "execution_count": 1,
   "source": [
    "import tensorflow as tf\r\n",
    "from tensorflow import keras\r\n",
    "from tensorflow.keras import layers, Sequential\r\n",
    "import pickle\r\n",
    "import numpy as np\r\n",
    "import pandas as pd\r\n",
    "import os"
   ],
   "outputs": [],
   "metadata": {}
  },
  {
   "cell_type": "markdown",
   "source": [
    "# Data"
   ],
   "metadata": {}
  },
  {
   "cell_type": "code",
   "execution_count": 59,
   "source": [
    "data = [[\"layer1\", \"layer2\", \"layer3\", \"target\"]]"
   ],
   "outputs": [],
   "metadata": {}
  },
  {
   "cell_type": "code",
   "execution_count": 60,
   "source": [
    "def getDividedArray(array):\r\n",
    "  '''\r\n",
    "  Breaks longer arrays into chunks of length four\r\n",
    "  :param array: array of layer sequence\r\n",
    "  :return array containing chunks of length four\r\n",
    "  :rtype: array\r\n",
    "  '''\r\n",
    "  temp = []\r\n",
    "  if len(array) > 4:\r\n",
    "    for i in range(len(array)-3):\r\n",
    "      temp.append(array[i:i+4])\r\n",
    "  return temp\r\n",
    "\r\n",
    "\r\n",
    "def unpickleData(filename):\r\n",
    "  '''\r\n",
    "  Get data from pickled files\r\n",
    "  :param filename: pickle file with model layer sequence\r\n",
    "  :param data: the array containing the model array\r\n",
    "  '''\r\n",
    "  fileObj = open(filename,'rb')\r\n",
    "  array = pickle.load(fileObj)\r\n",
    "  if len(array) > 4:\r\n",
    "    array = getDividedArray(array)\r\n",
    "    for i in array:\r\n",
    "      data.append(i)\r\n",
    "  else:\r\n",
    "    data.append(array)\r\n",
    "  fileObj.close()\r\n",
    "  return data"
   ],
   "outputs": [],
   "metadata": {}
  },
  {
   "cell_type": "code",
   "execution_count": 61,
   "source": [
    "for file in os.listdir('../data/models'):\r\n",
    "    filename=os.path.join('../data/models',file)\r\n",
    "    unpickleData(filename)"
   ],
   "outputs": [],
   "metadata": {}
  },
  {
   "cell_type": "code",
   "execution_count": 62,
   "source": [
    "# Column Names\r\n",
    "# data = [[\"layer1\", \"layer2\", \"layer3\", \"target\"]]\r\n",
    "\r\n",
    "# get all data in data array\r\n",
    "# connect to ec2 and call unpickleData\r\n",
    "\r\n",
    "\r\n",
    "# convert it to csv\r\n",
    "np.savetxt(\"../data/csv/data.csv\", data, delimiter=\",\", fmt='%s')"
   ],
   "outputs": [],
   "metadata": {}
  },
  {
   "cell_type": "code",
   "execution_count": 63,
   "source": [
    "df=pd.read_csv(\"../data/csv/data.csv\")\r\n",
    "df.head()"
   ],
   "outputs": [
    {
     "output_type": "execute_result",
     "data": {
      "text/plain": [
       "         layer1        layer2        layer3        target\n",
       "0        Conv2D        Conv2D        Conv2D  MaxPooling2D\n",
       "1        Conv2D        Conv2D  MaxPooling2D       Flatten\n",
       "2        Conv2D  MaxPooling2D       Flatten         Dense\n",
       "3  MaxPooling2D       Flatten         Dense         Dense\n",
       "4       Flatten         Dense         Dense         Dense"
      ],
      "text/html": [
       "<div>\n",
       "<style scoped>\n",
       "    .dataframe tbody tr th:only-of-type {\n",
       "        vertical-align: middle;\n",
       "    }\n",
       "\n",
       "    .dataframe tbody tr th {\n",
       "        vertical-align: top;\n",
       "    }\n",
       "\n",
       "    .dataframe thead th {\n",
       "        text-align: right;\n",
       "    }\n",
       "</style>\n",
       "<table border=\"1\" class=\"dataframe\">\n",
       "  <thead>\n",
       "    <tr style=\"text-align: right;\">\n",
       "      <th></th>\n",
       "      <th>layer1</th>\n",
       "      <th>layer2</th>\n",
       "      <th>layer3</th>\n",
       "      <th>target</th>\n",
       "    </tr>\n",
       "  </thead>\n",
       "  <tbody>\n",
       "    <tr>\n",
       "      <th>0</th>\n",
       "      <td>Conv2D</td>\n",
       "      <td>Conv2D</td>\n",
       "      <td>Conv2D</td>\n",
       "      <td>MaxPooling2D</td>\n",
       "    </tr>\n",
       "    <tr>\n",
       "      <th>1</th>\n",
       "      <td>Conv2D</td>\n",
       "      <td>Conv2D</td>\n",
       "      <td>MaxPooling2D</td>\n",
       "      <td>Flatten</td>\n",
       "    </tr>\n",
       "    <tr>\n",
       "      <th>2</th>\n",
       "      <td>Conv2D</td>\n",
       "      <td>MaxPooling2D</td>\n",
       "      <td>Flatten</td>\n",
       "      <td>Dense</td>\n",
       "    </tr>\n",
       "    <tr>\n",
       "      <th>3</th>\n",
       "      <td>MaxPooling2D</td>\n",
       "      <td>Flatten</td>\n",
       "      <td>Dense</td>\n",
       "      <td>Dense</td>\n",
       "    </tr>\n",
       "    <tr>\n",
       "      <th>4</th>\n",
       "      <td>Flatten</td>\n",
       "      <td>Dense</td>\n",
       "      <td>Dense</td>\n",
       "      <td>Dense</td>\n",
       "    </tr>\n",
       "  </tbody>\n",
       "</table>\n",
       "</div>"
      ]
     },
     "metadata": {},
     "execution_count": 63
    }
   ],
   "metadata": {}
  },
  {
   "cell_type": "code",
   "execution_count": 64,
   "source": [
    "layer_map={\r\n",
    "    'Conv2D':0,\r\n",
    "    'Dense':1,\r\n",
    "    'LSTM':2,\r\n",
    "    'SimpleRNN':3,\r\n",
    "    'Dropout':4,\r\n",
    "    'Flatten':5,\r\n",
    "    \"ZeroPadding2D\":6,\r\n",
    "    \"AveragePooling2D\":7,\r\n",
    "    \"MaxPooling2D\":8   \r\n",
    "}"
   ],
   "outputs": [],
   "metadata": {}
  },
  {
   "cell_type": "code",
   "execution_count": 9,
   "source": [
    "def one_hot_encode(data,label_map):\r\n",
    "    '''\r\n",
    "    One hot encode the data according to the label map\r\n",
    "    :param data: the data to be encoded\r\n",
    "    :param label_map: the label map which is to be used to encode the data\r\n",
    "    :return: the encoded data\r\n",
    "    '''\r\n",
    "    one_hot_encoded=list()\r\n",
    "    for i in range(len(data)):\r\n",
    "        temp=[0]*len(label_map)\r\n",
    "        label=df.iloc[i].target\r\n",
    "        temp[label_map[label]]=1\r\n",
    "        one_hot_encoded.append(temp)\r\n",
    "    return pd.DataFrame(one_hot_encoded,columns=label_map.keys())"
   ],
   "outputs": [],
   "metadata": {}
  },
  {
   "cell_type": "code",
   "execution_count": 17,
   "source": [
    "\r\n",
    "def encode_data(data,labeL_map):\r\n",
    "    '''\r\n",
    "    Encode the data according to the provided label map\r\n",
    "    :param data: the data to be encoded\r\n",
    "    :param label_map: the label map which is to be used to encode the data\r\n",
    "    :return: the encoded data\r\n",
    "    '''\r\n",
    "    data=data.copy()\r\n",
    "    encoded_cols=['layer1','layer2','layer3']\r\n",
    "    for col in encoded_cols:\r\n",
    "        data[col]=data[col].apply(lambda x:labeL_map[x])\r\n",
    "    return data"
   ],
   "outputs": [],
   "metadata": {}
  },
  {
   "cell_type": "code",
   "execution_count": 13,
   "source": [
    "def split_data(data,train_percentage):\r\n",
    "    '''\r\n",
    "    Split the data into training and testing data\r\n",
    "    :param data: the data to be split\r\n",
    "    :param train_percentage: the percentage of the data to be used for training\r\n",
    "    :return: the training and testing data\r\n",
    "    '''\r\n",
    "    train_data=data.sample(frac=train_percentage,random_state=1)\r\n",
    "    test_data=data.drop(train_data.index)\r\n",
    "    return train_data,test_data"
   ],
   "outputs": [],
   "metadata": {}
  },
  {
   "cell_type": "code",
   "execution_count": 28,
   "source": [
    "def get_data(data,label_map):\r\n",
    "    '''\r\n",
    "    Get the data from the dataframe\r\n",
    "    :param data: the data to be used\r\n",
    "    :param label_map: the label map which is to be used to encode the data\r\n",
    "    :return: the training and testing data\r\n",
    "    '''\r\n",
    "    df1=encode_data(data,label_map)\r\n",
    "    df2=one_hot_encode(data,label_map)\r\n",
    "    df1.drop(['target'],axis=1,inplace=True)\r\n",
    "    df3=pd.concat([df1,df2],axis=1)\r\n",
    "    train_data,test_data=split_data(df3,0.8)\r\n",
    "    return train_data,test_data"
   ],
   "outputs": [],
   "metadata": {}
  },
  {
   "cell_type": "code",
   "execution_count": 65,
   "source": [
    "train_data,test_data=get_data(df,layer_map)\r\n",
    "X_train,y_train=train_data[['layer1','layer2','layer3']],train_data.drop(['layer1','layer2','layer3'],axis=1)\r\n",
    "X_test,y_test=test_data[['layer1','layer2','layer3']],test_data.drop(['layer1','layer2','layer3'],axis=1)"
   ],
   "outputs": [],
   "metadata": {}
  },
  {
   "cell_type": "code",
   "execution_count": 36,
   "source": [
    "X_train,y_train=np.array(X_train),np.array(y_train)\r\n",
    "X_test,y_test=np.array(X_test),np.array(y_test)"
   ],
   "outputs": [],
   "metadata": {}
  },
  {
   "cell_type": "code",
   "execution_count": 66,
   "source": [
    "\r\n",
    "# print(X_train[0],y_train[0])\r\n",
    "print(len(X_train))"
   ],
   "outputs": [
    {
     "output_type": "stream",
     "name": "stdout",
     "text": [
      "1900\n"
     ]
    }
   ],
   "metadata": {}
  },
  {
   "cell_type": "markdown",
   "source": [
    "# Model"
   ],
   "metadata": {}
  },
  {
   "cell_type": "markdown",
   "source": [
    "Refrenece for the model\r\n",
    "[link](https://stackoverflow.com/questions/64209325/if-i-want-to-predict-the-next-element-in-a-sequence-of-numbers-what-do-i-need-t)\r\n",
    "\r\n",
    "For survey:\r\n",
    "- [Making Predictions with Sequences](https://machinelearningmastery.com/sequence-prediction/)\r\n",
    "- "
   ],
   "metadata": {}
  },
  {
   "cell_type": "code",
   "execution_count": 67,
   "source": [
    "model = Sequential([\r\n",
    "    layers.Dense(64, activation='relu'),\r\n",
    "    layers.Dense(64, activation='relu'),\r\n",
    "    layers.Dropout(0.5),\r\n",
    "    layers.Dense(32, activation='relu'),\r\n",
    "    layers.Dense(32, activation='relu'),\r\n",
    "    layers.Dropout(0.5),\r\n",
    "    layers.Dense(len(layer_map), activation='softmax'),\r\n",
    "])"
   ],
   "outputs": [],
   "metadata": {}
  },
  {
   "cell_type": "code",
   "execution_count": 68,
   "source": [
    "model.compile(optimizer='adam',loss='categorical_crossentropy',metrics=['accuracy'])\r\n",
    "model.fit(X_train,y_train,batch_size=1,epochs=10)"
   ],
   "outputs": [
    {
     "output_type": "stream",
     "name": "stdout",
     "text": [
      "Epoch 1/10\n",
      "1900/1900 [==============================] - 1s 573us/step - loss: 1.1357 - accuracy: 0.6889\n",
      "Epoch 2/10\n",
      "1900/1900 [==============================] - 1s 588us/step - loss: 0.8084 - accuracy: 0.7542\n",
      "Epoch 3/10\n",
      "1900/1900 [==============================] - 1s 699us/step - loss: 0.6946 - accuracy: 0.7821\n",
      "Epoch 4/10\n",
      "1900/1900 [==============================] - 1s 583us/step - loss: 0.6680 - accuracy: 0.7889\n",
      "Epoch 5/10\n",
      "1900/1900 [==============================] - 1s 586us/step - loss: 0.6566 - accuracy: 0.7837\n",
      "Epoch 6/10\n",
      "1900/1900 [==============================] - 1s 579us/step - loss: 0.6425 - accuracy: 0.7800\n",
      "Epoch 7/10\n",
      "1900/1900 [==============================] - 1s 606us/step - loss: 0.6325 - accuracy: 0.7853\n",
      "Epoch 8/10\n",
      "1900/1900 [==============================] - 1s 725us/step - loss: 0.6192 - accuracy: 0.7947\n",
      "Epoch 9/10\n",
      "1900/1900 [==============================] - 1s 616us/step - loss: 0.6225 - accuracy: 0.7884\n",
      "Epoch 10/10\n",
      "1900/1900 [==============================] - 1s 586us/step - loss: 0.6232 - accuracy: 0.7863\n"
     ]
    },
    {
     "output_type": "execute_result",
     "data": {
      "text/plain": [
       "<keras.callbacks.History at 0x26d116a54f0>"
      ]
     },
     "metadata": {},
     "execution_count": 68
    }
   ],
   "metadata": {}
  },
  {
   "cell_type": "code",
   "execution_count": null,
   "source": [
    "model.save('../models/linear_classification_model.h5')"
   ],
   "outputs": [],
   "metadata": {}
  },
  {
   "cell_type": "markdown",
   "source": [
    "# Prediction and analysis"
   ],
   "metadata": {}
  },
  {
   "cell_type": "code",
   "execution_count": 4,
   "source": [
    "model=tf.keras.models.load_model('../models/linear_classification_model.h5')"
   ],
   "outputs": [],
   "metadata": {}
  },
  {
   "cell_type": "code",
   "execution_count": 9,
   "source": [
    "pred=model.predict([[1,1,1]])\r\n",
    "print(pred)"
   ],
   "outputs": [
    {
     "output_type": "stream",
     "name": "stdout",
     "text": [
      "[[3.5328607e-03 9.3743759e-01 3.9375559e-03 6.4367690e-04 5.1750425e-02\n",
      "  2.6787026e-03 2.2631619e-09 4.8344870e-09 1.9206931e-05]]\n"
     ]
    }
   ],
   "metadata": {}
  },
  {
   "cell_type": "code",
   "execution_count": 70,
   "source": [
    "train_data.head()"
   ],
   "outputs": [
    {
     "output_type": "execute_result",
     "data": {
      "text/plain": [
       "      layer1  layer2  layer3  Conv2D  Dense  LSTM  SimpleRNN  Dropout  \\\n",
       "1701       1       1       4       0      1     0          0        0   \n",
       "285        5       1       1       0      1     0          0        0   \n",
       "1179       1       0       0       0      0     0          0        0   \n",
       "1592       1       1       1       0      1     0          0        0   \n",
       "306        0       0       0       1      0     0          0        0   \n",
       "\n",
       "      Flatten  ZeroPadding2D  AveragePooling2D  MaxPooling2D  \n",
       "1701        0              0                 0             0  \n",
       "285         0              0                 0             0  \n",
       "1179        0              0                 0             1  \n",
       "1592        0              0                 0             0  \n",
       "306         0              0                 0             0  "
      ],
      "text/html": [
       "<div>\n",
       "<style scoped>\n",
       "    .dataframe tbody tr th:only-of-type {\n",
       "        vertical-align: middle;\n",
       "    }\n",
       "\n",
       "    .dataframe tbody tr th {\n",
       "        vertical-align: top;\n",
       "    }\n",
       "\n",
       "    .dataframe thead th {\n",
       "        text-align: right;\n",
       "    }\n",
       "</style>\n",
       "<table border=\"1\" class=\"dataframe\">\n",
       "  <thead>\n",
       "    <tr style=\"text-align: right;\">\n",
       "      <th></th>\n",
       "      <th>layer1</th>\n",
       "      <th>layer2</th>\n",
       "      <th>layer3</th>\n",
       "      <th>Conv2D</th>\n",
       "      <th>Dense</th>\n",
       "      <th>LSTM</th>\n",
       "      <th>SimpleRNN</th>\n",
       "      <th>Dropout</th>\n",
       "      <th>Flatten</th>\n",
       "      <th>ZeroPadding2D</th>\n",
       "      <th>AveragePooling2D</th>\n",
       "      <th>MaxPooling2D</th>\n",
       "    </tr>\n",
       "  </thead>\n",
       "  <tbody>\n",
       "    <tr>\n",
       "      <th>1701</th>\n",
       "      <td>1</td>\n",
       "      <td>1</td>\n",
       "      <td>4</td>\n",
       "      <td>0</td>\n",
       "      <td>1</td>\n",
       "      <td>0</td>\n",
       "      <td>0</td>\n",
       "      <td>0</td>\n",
       "      <td>0</td>\n",
       "      <td>0</td>\n",
       "      <td>0</td>\n",
       "      <td>0</td>\n",
       "    </tr>\n",
       "    <tr>\n",
       "      <th>285</th>\n",
       "      <td>5</td>\n",
       "      <td>1</td>\n",
       "      <td>1</td>\n",
       "      <td>0</td>\n",
       "      <td>1</td>\n",
       "      <td>0</td>\n",
       "      <td>0</td>\n",
       "      <td>0</td>\n",
       "      <td>0</td>\n",
       "      <td>0</td>\n",
       "      <td>0</td>\n",
       "      <td>0</td>\n",
       "    </tr>\n",
       "    <tr>\n",
       "      <th>1179</th>\n",
       "      <td>1</td>\n",
       "      <td>0</td>\n",
       "      <td>0</td>\n",
       "      <td>0</td>\n",
       "      <td>0</td>\n",
       "      <td>0</td>\n",
       "      <td>0</td>\n",
       "      <td>0</td>\n",
       "      <td>0</td>\n",
       "      <td>0</td>\n",
       "      <td>0</td>\n",
       "      <td>1</td>\n",
       "    </tr>\n",
       "    <tr>\n",
       "      <th>1592</th>\n",
       "      <td>1</td>\n",
       "      <td>1</td>\n",
       "      <td>1</td>\n",
       "      <td>0</td>\n",
       "      <td>1</td>\n",
       "      <td>0</td>\n",
       "      <td>0</td>\n",
       "      <td>0</td>\n",
       "      <td>0</td>\n",
       "      <td>0</td>\n",
       "      <td>0</td>\n",
       "      <td>0</td>\n",
       "    </tr>\n",
       "    <tr>\n",
       "      <th>306</th>\n",
       "      <td>0</td>\n",
       "      <td>0</td>\n",
       "      <td>0</td>\n",
       "      <td>1</td>\n",
       "      <td>0</td>\n",
       "      <td>0</td>\n",
       "      <td>0</td>\n",
       "      <td>0</td>\n",
       "      <td>0</td>\n",
       "      <td>0</td>\n",
       "      <td>0</td>\n",
       "      <td>0</td>\n",
       "    </tr>\n",
       "  </tbody>\n",
       "</table>\n",
       "</div>"
      ]
     },
     "metadata": {},
     "execution_count": 70
    }
   ],
   "metadata": {}
  }
 ],
 "metadata": {
  "orig_nbformat": 4,
  "language_info": {
   "name": "python",
   "version": "3.9.2",
   "mimetype": "text/x-python",
   "codemirror_mode": {
    "name": "ipython",
    "version": 3
   },
   "pygments_lexer": "ipython3",
   "nbconvert_exporter": "python",
   "file_extension": ".py"
  },
  "kernelspec": {
   "name": "python3",
   "display_name": "Python 3.9.2 64-bit ('venv': venv)"
  },
  "interpreter": {
   "hash": "78f4f8306d126378c9562ce753494e28fbcd9f2973a9f9ea6a83cd7fde7d058b"
  }
 },
 "nbformat": 4,
 "nbformat_minor": 2
}