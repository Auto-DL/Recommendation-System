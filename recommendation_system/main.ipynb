{
 "metadata": {
  "language_info": {
   "codemirror_mode": {
    "name": "ipython",
    "version": 3
   },
   "file_extension": ".py",
   "mimetype": "text/x-python",
   "name": "python",
   "nbconvert_exporter": "python",
   "pygments_lexer": "ipython3",
   "version": "3.9.2"
  },
  "orig_nbformat": 4,
  "kernelspec": {
   "name": "python392jvsc74a57bd078f4f8306d126378c9562ce753494e28fbcd9f2973a9f9ea6a83cd7fde7d058b",
   "display_name": "Python 3.9.2 64-bit ('venv': venv)",
   "language": "python"
  },
  "interpreter": {
   "hash": "78f4f8306d126378c9562ce753494e28fbcd9f2973a9f9ea6a83cd7fde7d058b"
  }
 },
 "nbformat": 4,
 "nbformat_minor": 2,
 "cells": [
  {
   "cell_type": "code",
   "execution_count": 35,
   "metadata": {},
   "outputs": [],
   "source": [
    "from dotenv import load_dotenv\n",
    "import github as gh\n",
    "import bs4 as bs\n",
    "import requests\n",
    "from lxml import etree\n",
    "\n",
    "import selenium\n",
    "from selenium import webdriver\n",
    "\n",
    "from selenium.webdriver.chrome.options import Options\n",
    "from webdriver_manager.chrome import ChromeDriverManager"
   ]
  },
  {
   "cell_type": "code",
   "execution_count": 2,
   "metadata": {},
   "outputs": [],
   "source": [
    "load_dotenv()\n",
    "GITHUB_ACCESS_TOKEN=os.getenv('GITHUB_ACCESS_TOKEN')\n",
    "g=gh.Github(GITHUB_ACCESS_TOKEN)"
   ]
  },
  {
   "cell_type": "code",
   "execution_count": 4,
   "metadata": {},
   "outputs": [
    {
     "output_type": "stream",
     "name": "stdout",
     "text": [
      "AuthenticatedUser(login=None)\n"
     ]
    }
   ],
   "source": [
    "print(g.get_user())"
   ]
  },
  {
   "cell_type": "code",
   "execution_count": 11,
   "metadata": {},
   "outputs": [],
   "source": [
    "query='tensorflow language:python created:2021-04-01..2021-04-02'\n",
    "result=g.search_repositories(query)"
   ]
  },
  {
   "cell_type": "code",
   "execution_count": 12,
   "metadata": {},
   "outputs": [
    {
     "output_type": "stream",
     "name": "stdout",
     "text": [
      "29\n"
     ]
    }
   ],
   "source": [
    "print(result.totalCount)"
   ]
  },
  {
   "cell_type": "code",
   "execution_count": 7,
   "metadata": {},
   "outputs": [
    {
     "output_type": "stream",
     "name": "stdout",
     "text": [
      "['_PaginatedListBase__elements', '_PaginatedListBase__fetchToIndex', '_PaginatedList__contentClass', '_PaginatedList__firstParams', '_PaginatedList__firstUrl', '_PaginatedList__headers', '_PaginatedList__list_item', '_PaginatedList__nextParams', '_PaginatedList__nextUrl', '_PaginatedList__parseLinkHeader', '_PaginatedList__requester', '_PaginatedList__reverse', '_PaginatedList__totalCount', '_Slice', '__class__', '__delattr__', '__dict__', '__dir__', '__doc__', '__eq__', '__format__', '__ge__', '__getattribute__', '__getitem__', '__gt__', '__hash__', '__init__', '__init_subclass__', '__iter__', '__le__', '__lt__', '__module__', '__ne__', '__new__', '__reduce__', '__reduce_ex__', '__repr__', '__setattr__', '__sizeof__', '__str__', '__subclasshook__', '__weakref__', '_couldGrow', '_fetchNextPage', '_getLastPageUrl', '_grow', '_isBiggerThan', '_reversed', 'get_page', 'reversed', 'totalCount']\n"
     ]
    }
   ],
   "source": [
    "print(dir(result))"
   ]
  },
  {
   "cell_type": "code",
   "execution_count": 14,
   "metadata": {},
   "outputs": [
    {
     "output_type": "stream",
     "name": "stdout",
     "text": [
      "https://github.com/Z-yq/TensorflowTTS\nhttps://github.com/Kal213/StarGAN-Tutorial-Tensorflow-2.3\nhttps://github.com/lshug/first-order-model-tf\nhttps://github.com/veeenie/Tensorflow2\nhttps://github.com/hubertkarbowy/awd_lstm_tensorflow2\nhttps://github.com/boa50/tensorflow-styletransfer\nhttps://github.com/sk981102/tensorflow_certificate\nhttps://github.com/fadhil-code/TensorFlowProject3\nhttps://github.com/danilyef/ResNet-Tensorflow\nhttps://github.com/Developik/tensorflow_image_model\nhttps://github.com/Zwyywz/TensorFlowLearningNotes\nhttps://github.com/boa50/tensorflow-pix2pix\nhttps://github.com/Astro-Astre/tensorflow_merger_classifier\nhttps://github.com/aysedemirel/TensorFlow-Pokemon-Course\nhttps://github.com/huww98/torch-tensorflow-wrapper\nhttps://github.com/junyuchen245/Semi-supervised_FCM_Loss_for_Segmentation\nhttps://github.com/artset/image-to-illustration\nhttps://github.com/Vezqi/tf-emotes\nhttps://github.com/wchen777/ASL-recog\nhttps://github.com/The-bot-makers/Neural-Networks\nhttps://github.com/Moulishankar10/Employee-Salary-Classification\nhttps://github.com/AnkitaVyas77/AccidentDetection_SSD-Mobilenet\nhttps://github.com/stoguri11/SentAnalysis\nhttps://github.com/stevenohohohoh/Neural-Style-Transfer\nhttps://github.com/mhnaeem/emotion-detection\nhttps://github.com/nateyoungblood/rnn_titanic\nhttps://github.com/Tyler-Shamsuddoha/python-image-classifier-keras\nhttps://github.com/MalayAgr/MesoNet-DeepfakeDetection-API\nhttps://github.com/sidphbot/AutoKeras-ArcFaceHead\n"
     ]
    }
   ],
   "source": [
    "for repository in result:\n",
    "    # print(dir(repository))\n",
    "    print(repository.html_url)\n"
   ]
  },
  {
   "cell_type": "code",
   "execution_count": 24,
   "metadata": {},
   "outputs": [],
   "source": [
    "url='https://github.com/Tyler-Shamsuddoha/python-image-classifier-keras'\n",
    "url2='https://github.com/bamblebam/image-classification-rps'"
   ]
  },
  {
   "cell_type": "code",
   "execution_count": 36,
   "metadata": {},
   "outputs": [
    {
     "output_type": "stream",
     "name": "stderr",
     "text": [
      "\n",
      "\n",
      "====== WebDriver manager ======\n",
      "Current google-chrome version is 91.0.4472\n",
      "Get LATEST driver version for 91.0.4472\n",
      "There is no [win32] chromedriver for browser 91.0.4472 in cache\n",
      "Get LATEST driver version for 91.0.4472\n",
      "Trying to download new driver from https://chromedriver.storage.googleapis.com/91.0.4472.101/chromedriver_win32.zip\n",
      "Driver has been saved in cache [./\\drivers\\chromedriver\\win32\\91.0.4472.101]\n"
     ]
    }
   ],
   "source": [
    "options=Options()\n",
    "options.headless=True\n",
    "driver=webdriver.Chrome(ChromeDriverManager(path='./').install(),options=options)"
   ]
  },
  {
   "cell_type": "code",
   "execution_count": 38,
   "metadata": {},
   "outputs": [],
   "source": [
    "driver.get(url2)"
   ]
  },
  {
   "cell_type": "code",
   "execution_count": null,
   "metadata": {},
   "outputs": [],
   "source": []
  },
  {
   "cell_type": "code",
   "execution_count": 25,
   "metadata": {},
   "outputs": [],
   "source": [
    "page=requests.get(url2)\n",
    "soup=bs.BeautifulSoup(page.content,'html.parser')\n",
    "dom=etree.HTML(str(soup))"
   ]
  },
  {
   "cell_type": "code",
   "execution_count": 26,
   "metadata": {},
   "outputs": [
    {
     "output_type": "stream",
     "name": "stdout",
     "text": [
      "[<Element div at 0x258059f5fc0>]\n"
     ]
    }
   ],
   "source": [
    "table=dom.xpath(\"//*[@class='Details-content--hidden-not-important js-navigation-container js-active-navigation-container d-md-block']\")\n",
    "print(table)"
   ]
  }
 ]
}