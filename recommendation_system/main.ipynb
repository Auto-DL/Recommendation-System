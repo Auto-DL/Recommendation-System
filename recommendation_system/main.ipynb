{
 "metadata": {
  "language_info": {
   "codemirror_mode": {
    "name": "ipython",
    "version": 3
   },
   "file_extension": ".py",
   "mimetype": "text/x-python",
   "name": "python",
   "nbconvert_exporter": "python",
   "pygments_lexer": "ipython3",
   "version": "3.8.1"
  },
  "orig_nbformat": 4,
  "kernelspec": {
   "name": "python3",
   "display_name": "Python 3.8.1 64-bit ('venv': venv)"
  },
  "interpreter": {
   "hash": "75dbba10fc6620c626cd1fa2436ff69a4b43b4d8107ad1b0d4ae9140f5dc976d"
  }
 },
 "nbformat": 4,
 "nbformat_minor": 2,
 "cells": [
  {
   "cell_type": "code",
   "execution_count": 105,
   "metadata": {},
   "outputs": [],
   "source": [
    "import os\n",
    "import github as gh\n",
    "import bs4 as bs\n",
    "import requests\n",
    "from lxml import etree\n",
    "\n",
    "import selenium\n",
    "from selenium import webdriver\n",
    "\n",
    "from selenium.webdriver.chrome.options import Options\n",
    "from webdriver_manager.chrome import ChromeDriverManager\n",
    "\n",
    "import time\n",
    "from tqdm import tqdm\n",
    "\n",
    "import re"
   ]
  },
  {
   "cell_type": "code",
   "execution_count": 106,
   "metadata": {},
   "outputs": [
    {
     "output_type": "stream",
     "name": "stdout",
     "text": [
      "AuthenticatedUser(login=None)\n"
     ]
    }
   ],
   "source": [
    "GITHUB_ACCESS_TOKEN=os.getenv('GITHUB_ACCESS_TOKEN')\n",
    "g=gh.Github(GITHUB_ACCESS_TOKEN)\n",
    "print(g.get_user())"
   ]
  },
  {
   "cell_type": "code",
   "execution_count": 107,
   "metadata": {},
   "outputs": [],
   "source": [
    "query='tensorflow language:python created:2021-04-01..2021-04-02'\n",
    "urls = []\n",
    "result=g.search_repositories(query)\n",
    "for repository in result:\n",
    "    urls.append(repository.html_url)\n",
    "# print(result.totalCount)\n",
    "# print(dir(result))\n",
    "    "
   ]
  },
  {
   "cell_type": "code",
   "execution_count": 108,
   "metadata": {},
   "outputs": [],
   "source": [
    "url='https://github.com/Tyler-Shamsuddoha/python-image-classifier-keras'\n",
    "url2='https://github.com/bamblebam/image-classification-rps'"
   ]
  },
  {
   "cell_type": "code",
   "execution_count": 109,
   "metadata": {},
   "outputs": [
    {
     "output_type": "stream",
     "name": "stderr",
     "text": [
      "\n",
      "\n",
      "====== WebDriver manager ======\n",
      "Current google-chrome version is 91.0.4472\n",
      "Get LATEST driver version for 91.0.4472\n",
      "Driver [./\\drivers\\chromedriver\\win32\\91.0.4472.101\\chromedriver.exe] found in cache\n"
     ]
    }
   ],
   "source": [
    "options=Options()\n",
    "options.headless=True\n",
    "driver=webdriver.Chrome(ChromeDriverManager(path='./').install(),options=options)\n",
    "driver.get(url2)"
   ]
  },
  {
   "cell_type": "code",
   "execution_count": 110,
   "metadata": {},
   "outputs": [],
   "source": [
    "table=driver.find_element_by_xpath(\"//*[@class='Details-content--hidden-not-important js-navigation-container js-active-navigation-container d-md-block']\")"
   ]
  },
  {
   "cell_type": "code",
   "execution_count": 111,
   "metadata": {},
   "outputs": [],
   "source": [
    "# links=table.find_elements_by_tag_name('a')\n",
    "# print(len(links))\n",
    "# for link in links:\n",
    "#     href=link.get_attribute('href')\n",
    "#     if 'tree' in href or '.py' in href:\n",
    "#         stack.append(href)\n",
    "\n",
    "# driver.get(url2)\n",
    "# table=driver.find_element_by_xpath(\"//*[@class='Details-content--hidden-not-important js-navigation-container js-active-navigation-container d-md-block']\")\n",
    "# links=table.find_elements_by_tag_name('a')\n",
    "# for link in links:\n",
    "#     href=link.get_attribute('href')\n",
    "#     if '/tree/' in href or '.py' in href:\n",
    "#         stack.append(href)"
   ]
  },
  {
   "cell_type": "code",
   "execution_count": 125,
   "metadata": {},
   "outputs": [],
   "source": [
    "queue=list()\n",
    "full_list=list()\n",
    "links_list = set()\n",
    "sequential_list=list()"
   ]
  },
  {
   "cell_type": "code",
   "execution_count": 113,
   "metadata": {},
   "outputs": [],
   "source": [
    "def push_to_queue(links):\n",
    "    for link in links:\n",
    "        href=link.get_attribute('href')\n",
    "        if href in links_list:\n",
    "            continue\n",
    "        if '/tree/' in href or '.py' in href:\n",
    "            links_list.add(href)\n",
    "            queue.append(href)"
   ]
  },
  {
   "cell_type": "code",
   "execution_count": 114,
   "metadata": {},
   "outputs": [],
   "source": [
    "# def if_sequential():\n",
    "#     code_body=driver.find_element_by_xpath(\"//*[@class='Box-body p-0 blob-wrapper data type-python  gist-border-0']\")\n",
    "#     if 'Sequential' in code_body.text:\n",
    "#             count+=1\n",
    "#     return count"
   ]
  },
  {
   "cell_type": "code",
   "execution_count": 115,
   "metadata": {},
   "outputs": [],
   "source": [
    "def search_through_files(link):\n",
    "    print(link)\n",
    "    if '/tree/' in link and not 'venv' in link:\n",
    "        driver.get(link)\n",
    "        time.sleep(2.5)\n",
    "        try:\n",
    "            table=driver.find_element_by_xpath(\"//*[@class='Details-content--hidden-not-important js-navigation-container js-active-navigation-container d-block']\")\n",
    "            links=table.find_elements_by_tag_name('a')\n",
    "            push_to_queue(links)\n",
    "        except:\n",
    "            print(\"No element found\")\n",
    "    elif '.py' in link and not 'venv' in link:\n",
    "        driver.get(link)\n",
    "        time.sleep(2.5)\n",
    "        full_list.append(link)\n",
    "        try: \n",
    "            code_body=driver.find_element_by_xpath(\"//*[@class='highlight tab-size js-file-line-container']\")\n",
    "            if 'Sequential' in code_body.text:\n",
    "                sequential_list.append(url)\n",
    "        except:\n",
    "            print('Wrong class selector') "
   ]
  },
  {
   "cell_type": "code",
   "execution_count": 116,
   "metadata": {},
   "outputs": [],
   "source": [
    "def bfs():\n",
    "    while queue:\n",
    "        link=queue.pop(0)\n",
    "        search_through_files(link)"
   ]
  },
  {
   "cell_type": "code",
   "execution_count": 117,
   "metadata": {},
   "outputs": [],
   "source": [
    "def get_all_relevant_links(url):\n",
    "    links_list.add(url)\n",
    "    driver.get(url)\n",
    "    try:\n",
    "        table=driver.find_element_by_xpath(\"//*[@class='Details-content--hidden-not-important js-navigation-container js-active-navigation-container d-md-block']\")\n",
    "        links=table.find_elements_by_tag_name('a')\n",
    "        for link in links:\n",
    "            href=link.get_attribute('href')\n",
    "            if ('/tree/' in href or '.py' in href) and not 'venv' in href:\n",
    "                links_list.add(href)\n",
    "                queue.append(href)\n",
    "    except:\n",
    "        print('No element found')\n",
    "    bfs()\n",
    "    print(\"Ended\")"
   ]
  },
  {
   "cell_type": "code",
   "execution_count": 141,
   "metadata": {},
   "outputs": [],
   "source": [
    "\n",
    "def getLayerSequence2(code):\n",
    "    '''\n",
    "    This is the function for models of type model.add(layerName)\n",
    "    :param code: the code to check layer sequence\n",
    "    :return: array in correct sequence of layers\n",
    "    :rtype: array \n",
    "    '''\n",
    "    rawLayerSequence = re.findall('model.add(.*)',code)\n",
    "    layerSequence = []\n",
    "    for i in rawLayerSequence:\n",
    "        temp = re.findall('keras.layers.?(.*)\\(',i)\n",
    "        layerSequence.append(temp[0])\n",
    "    return layerSequence\n",
    "    \n"
   ]
  },
  {
   "cell_type": "code",
   "execution_count": 142,
   "metadata": {},
   "outputs": [],
   "source": [
    "def getSequentialModel(link):\n",
    "    layerSequence = []\n",
    "    get_all_relevant_links(link)\n",
    "    for url in full_list:\n",
    "        driver.get(url)\n",
    "        time.sleep(2.5)\n",
    "        print(url)\n",
    "        try:\n",
    "            code_body=driver.find_element_by_xpath(\"//*[@class='Box-body p-0 blob-wrapper data type-python  gist-border-0']\")\n",
    "            if 'Sequential' in code_body.text:\n",
    "                layers = getLayerSequence2(code_body.text)\n",
    "                print(layers, '\\n')\n",
    "                layerSequence.append(layers)\n",
    "        except e:\n",
    "            print(e)\n",
    "    return layerSequence"
   ]
  },
  {
   "cell_type": "code",
   "execution_count": 127,
   "metadata": {},
   "outputs": [
    {
     "output_type": "stream",
     "name": "stdout",
     "text": [
      "[['(keras.layers.Dense(N_HIDDEN,', '(keras.layers.Dropout(DROPOUT))', '(keras.layers.Dense(N_HIDDEN,', '(keras.layers.Dropout(DROPOUT))', '(keras.layers.Dense(NB_CLASSES,'], ['(keras.layers.Dense(N_HIDDEN,', '(keras.layers.Dense(N_HIDDEN,', '(keras.layers.Dense(NB_CLASSES,'], ['(keras.layers.Dense(NB_CLASSES,']]\n['https://github.com/Tyler-Shamsuddoha/python-image-classifier-keras', 'https://github.com/Tyler-Shamsuddoha/python-image-classifier-keras', 'https://github.com/Tyler-Shamsuddoha/python-image-classifier-keras']\n"
     ]
    }
   ],
   "source": [
    "testUrl = 'https://github.com/fadhil-code/TensorFlowProject3'\n",
    "count = getSequentialModel(testUrl)"
   ]
  },
  {
   "cell_type": "code",
   "execution_count": 143,
   "metadata": {},
   "outputs": [
    {
     "output_type": "stream",
     "name": "stdout",
     "text": [
      "https://github.com/fadhil-code/TensorFlowProject3/blob/master/Dropout.py\n",
      "https://github.com/fadhil-code/TensorFlowProject3/blob/master/hidden_layers.py\n",
      "https://github.com/fadhil-code/TensorFlowProject3/blob/master/main.py\n",
      "Ended\n",
      "https://github.com/fadhil-code/TensorFlowProject3/blob/master/Dropout.py\n",
      "['Dense', 'Dropout', 'Dense', 'Dropout', 'Dense'] \n",
      "\n",
      "https://github.com/fadhil-code/TensorFlowProject3/blob/master/hidden_layers.py\n",
      "['Dense', 'Dense', 'Dense'] \n",
      "\n",
      "https://github.com/fadhil-code/TensorFlowProject3/blob/master/main.py\n",
      "['Dense'] \n",
      "\n",
      "https://github.com/fadhil-code/TensorFlowProject3/blob/master/Dropout.py\n",
      "['Dense', 'Dropout', 'Dense', 'Dropout', 'Dense'] \n",
      "\n",
      "https://github.com/fadhil-code/TensorFlowProject3/blob/master/hidden_layers.py\n",
      "['Dense', 'Dense', 'Dense'] \n",
      "\n",
      "https://github.com/fadhil-code/TensorFlowProject3/blob/master/main.py\n",
      "['Dense'] \n",
      "\n"
     ]
    }
   ],
   "source": [
    "print(count)\n",
    "print(sequential_list)"
   ]
  },
  {
   "cell_type": "code",
   "execution_count": 144,
   "metadata": {},
   "outputs": [
    {
     "output_type": "stream",
     "name": "stdout",
     "text": [
      "['Dense', 'Dropout', 'Dense', 'Dropout', 'Dense']\n['Dense', 'Dense', 'Dense']\n['Dense']\n['Dense', 'Dropout', 'Dense', 'Dropout', 'Dense']\n['Dense', 'Dense', 'Dense']\n['Dense']\n"
     ]
    }
   ],
   "source": [
    "for i in count:\n",
    "    print(i)"
   ]
  },
  {
   "cell_type": "code",
   "execution_count": null,
   "metadata": {},
   "outputs": [],
   "source": []
  }
 ]
}