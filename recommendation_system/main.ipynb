{
 "metadata": {
  "language_info": {
   "codemirror_mode": {
    "name": "ipython",
    "version": 3
   },
   "file_extension": ".py",
   "mimetype": "text/x-python",
   "name": "python",
   "nbconvert_exporter": "python",
   "pygments_lexer": "ipython3",
   "version": "3.9.2"
  },
  "orig_nbformat": 4,
  "kernelspec": {
   "name": "python392jvsc74a57bd078f4f8306d126378c9562ce753494e28fbcd9f2973a9f9ea6a83cd7fde7d058b",
   "display_name": "Python 3.9.2 64-bit ('venv': venv)",
   "language": "python"
  },
  "interpreter": {
   "hash": "78f4f8306d126378c9562ce753494e28fbcd9f2973a9f9ea6a83cd7fde7d058b"
  }
 },
 "nbformat": 4,
 "nbformat_minor": 2,
 "cells": [
  {
   "cell_type": "code",
   "execution_count": 20,
   "metadata": {},
   "outputs": [],
   "source": [
    "from dotenv import load_dotenv\n",
    "import github as gh\n",
    "import bs4 as bs\n",
    "import requests\n",
    "from lxml import etree\n",
    "\n",
    "import selenium\n",
    "from selenium import webdriver\n",
    "\n",
    "from selenium.webdriver.chrome.options import Options\n",
    "from webdriver_manager.chrome import ChromeDriverManager\n",
    "\n",
    "import time\n",
    "from tqdm import tqdm"
   ]
  },
  {
   "cell_type": "code",
   "execution_count": 2,
   "metadata": {},
   "outputs": [],
   "source": [
    "load_dotenv()\n",
    "GITHUB_ACCESS_TOKEN=os.getenv('GITHUB_ACCESS_TOKEN')\n",
    "g=gh.Github(GITHUB_ACCESS_TOKEN)"
   ]
  },
  {
   "cell_type": "code",
   "execution_count": 4,
   "metadata": {},
   "outputs": [
    {
     "output_type": "stream",
     "name": "stdout",
     "text": [
      "AuthenticatedUser(login=None)\n"
     ]
    }
   ],
   "source": [
    "print(g.get_user())"
   ]
  },
  {
   "cell_type": "code",
   "execution_count": 3,
   "metadata": {},
   "outputs": [],
   "source": [
    "query='tensorflow language:python created:2021-04-01..2021-04-02'\n",
    "result=g.search_repositories(query)"
   ]
  },
  {
   "cell_type": "code",
   "execution_count": 12,
   "metadata": {},
   "outputs": [
    {
     "output_type": "stream",
     "name": "stdout",
     "text": [
      "29\n"
     ]
    }
   ],
   "source": [
    "print(result.totalCount)"
   ]
  },
  {
   "cell_type": "code",
   "execution_count": 7,
   "metadata": {},
   "outputs": [
    {
     "output_type": "stream",
     "name": "stdout",
     "text": [
      "['_PaginatedListBase__elements', '_PaginatedListBase__fetchToIndex', '_PaginatedList__contentClass', '_PaginatedList__firstParams', '_PaginatedList__firstUrl', '_PaginatedList__headers', '_PaginatedList__list_item', '_PaginatedList__nextParams', '_PaginatedList__nextUrl', '_PaginatedList__parseLinkHeader', '_PaginatedList__requester', '_PaginatedList__reverse', '_PaginatedList__totalCount', '_Slice', '__class__', '__delattr__', '__dict__', '__dir__', '__doc__', '__eq__', '__format__', '__ge__', '__getattribute__', '__getitem__', '__gt__', '__hash__', '__init__', '__init_subclass__', '__iter__', '__le__', '__lt__', '__module__', '__ne__', '__new__', '__reduce__', '__reduce_ex__', '__repr__', '__setattr__', '__sizeof__', '__str__', '__subclasshook__', '__weakref__', '_couldGrow', '_fetchNextPage', '_getLastPageUrl', '_grow', '_isBiggerThan', '_reversed', 'get_page', 'reversed', 'totalCount']\n"
     ]
    }
   ],
   "source": [
    "print(dir(result))"
   ]
  },
  {
   "cell_type": "code",
   "execution_count": 14,
   "metadata": {},
   "outputs": [
    {
     "output_type": "stream",
     "name": "stdout",
     "text": [
      "https://github.com/Z-yq/TensorflowTTS\nhttps://github.com/Kal213/StarGAN-Tutorial-Tensorflow-2.3\nhttps://github.com/lshug/first-order-model-tf\nhttps://github.com/veeenie/Tensorflow2\nhttps://github.com/hubertkarbowy/awd_lstm_tensorflow2\nhttps://github.com/boa50/tensorflow-styletransfer\nhttps://github.com/sk981102/tensorflow_certificate\nhttps://github.com/fadhil-code/TensorFlowProject3\nhttps://github.com/danilyef/ResNet-Tensorflow\nhttps://github.com/Developik/tensorflow_image_model\nhttps://github.com/Zwyywz/TensorFlowLearningNotes\nhttps://github.com/boa50/tensorflow-pix2pix\nhttps://github.com/Astro-Astre/tensorflow_merger_classifier\nhttps://github.com/aysedemirel/TensorFlow-Pokemon-Course\nhttps://github.com/huww98/torch-tensorflow-wrapper\nhttps://github.com/junyuchen245/Semi-supervised_FCM_Loss_for_Segmentation\nhttps://github.com/artset/image-to-illustration\nhttps://github.com/Vezqi/tf-emotes\nhttps://github.com/wchen777/ASL-recog\nhttps://github.com/The-bot-makers/Neural-Networks\nhttps://github.com/Moulishankar10/Employee-Salary-Classification\nhttps://github.com/AnkitaVyas77/AccidentDetection_SSD-Mobilenet\nhttps://github.com/stoguri11/SentAnalysis\nhttps://github.com/stevenohohohoh/Neural-Style-Transfer\nhttps://github.com/mhnaeem/emotion-detection\nhttps://github.com/nateyoungblood/rnn_titanic\nhttps://github.com/Tyler-Shamsuddoha/python-image-classifier-keras\nhttps://github.com/MalayAgr/MesoNet-DeepfakeDetection-API\nhttps://github.com/sidphbot/AutoKeras-ArcFaceHead\n"
     ]
    }
   ],
   "source": [
    "for repository in result:\n",
    "    # print(dir(repository))\n",
    "    print(repository.html_url)\n"
   ]
  },
  {
   "cell_type": "code",
   "execution_count": 4,
   "metadata": {},
   "outputs": [],
   "source": [
    "url='https://github.com/Tyler-Shamsuddoha/python-image-classifier-keras'\n",
    "url2='https://github.com/bamblebam/image-classification-rps'"
   ]
  },
  {
   "cell_type": "code",
   "execution_count": 5,
   "metadata": {},
   "outputs": [
    {
     "output_type": "stream",
     "name": "stderr",
     "text": [
      "\n",
      "\n",
      "====== WebDriver manager ======\n",
      "Current google-chrome version is 91.0.4472\n",
      "Get LATEST driver version for 91.0.4472\n",
      "Driver [./\\drivers\\chromedriver\\win32\\91.0.4472.101\\chromedriver.exe] found in cache\n"
     ]
    }
   ],
   "source": [
    "options=Options()\n",
    "options.headless=True\n",
    "driver=webdriver.Chrome(ChromeDriverManager(path='./').install(),options=options)"
   ]
  },
  {
   "cell_type": "code",
   "execution_count": 6,
   "metadata": {},
   "outputs": [],
   "source": [
    "driver.get(url2)"
   ]
  },
  {
   "cell_type": "code",
   "execution_count": 7,
   "metadata": {},
   "outputs": [],
   "source": [
    "table=driver.find_element_by_xpath(\"//*[@class='Details-content--hidden-not-important js-navigation-container js-active-navigation-container d-md-block']\")"
   ]
  },
  {
   "cell_type": "code",
   "execution_count": 9,
   "metadata": {},
   "outputs": [
    {
     "output_type": "stream",
     "name": "stdout",
     "text": [
      "8\n"
     ]
    }
   ],
   "source": [
    "links=table.find_elements_by_tag_name('a')\n",
    "print(len(links))"
   ]
  },
  {
   "cell_type": "code",
   "execution_count": 12,
   "metadata": {},
   "outputs": [],
   "source": [
    "stack=list()\n",
    "full_list=list()"
   ]
  },
  {
   "cell_type": "code",
   "execution_count": 13,
   "metadata": {},
   "outputs": [],
   "source": [
    "for link in links:\n",
    "    href=link.get_attribute('href')\n",
    "    if 'tree' in href or '.py' in href:\n",
    "        stack.append(href)"
   ]
  },
  {
   "cell_type": "code",
   "execution_count": 14,
   "metadata": {},
   "outputs": [
    {
     "output_type": "stream",
     "name": "stdout",
     "text": [
      "['https://github.com/bamblebam/image-classification-rps/tree/master/models', 'https://github.com/bamblebam/image-classification-rps/blob/master/image_classification.py']\n"
     ]
    }
   ],
   "source": [
    "print(stack)"
   ]
  },
  {
   "cell_type": "code",
   "execution_count": null,
   "metadata": {},
   "outputs": [],
   "source": [
    "while stack:\n",
    "    href=stack.pop(0)\n",
    "    if 'tree' in href:\n",
    "        "
   ]
  },
  {
   "cell_type": "code",
   "execution_count": null,
   "metadata": {},
   "outputs": [],
   "source": [
    "stack=list()\n",
    "full_list=list()"
   ]
  },
  {
   "cell_type": "code",
   "execution_count": null,
   "metadata": {},
   "outputs": [],
   "source": [
    "driver.get(url2)\n",
    "table=driver.find_element_by_xpath(\"//*[@class='Details-content--hidden-not-important js-navigation-container js-active-navigation-container d-md-block']\")\n",
    "links=table.find_elements_by_tag_name('a')\n",
    "for link in links:\n",
    "    href=link.get_attribute('href')\n",
    "    if '/tree/' in href or '.py' in href:\n",
    "        stack.append(href)"
   ]
  },
  {
   "cell_type": "code",
   "execution_count": 53,
   "metadata": {},
   "outputs": [],
   "source": [
    "def push_to_stack(links):\n",
    "    for link in links:\n",
    "        href=link.get_attribute('href')\n",
    "        if '/tree/' in href or '.py' in href:\n",
    "            stack.append(href)"
   ]
  },
  {
   "cell_type": "code",
   "execution_count": 36,
   "metadata": {},
   "outputs": [],
   "source": [
    "def search_through_files(link):\n",
    "    if '/tree/' in link:\n",
    "        driver.get(link)\n",
    "        time.sleep(2.5)\n",
    "        table=driver.find_element_by_xpath(\"//*[@class='Details-content--hidden-not-important js-navigation-container js-active-navigation-container d-block']\")\n",
    "        links=table.find_elements_by_tag_name('a')\n",
    "        push_to_stack(links)\n",
    "    elif '.py' in link:\n",
    "        driver.get(link)\n",
    "        time.sleep(2.5)\n",
    "        full_list.append(link)\n",
    "        #preprocessing "
   ]
  },
  {
   "cell_type": "code",
   "execution_count": 23,
   "metadata": {},
   "outputs": [],
   "source": [
    "def dfs():\n",
    "    while stack:\n",
    "        link=stack.pop(0)\n",
    "        search_through_files(link)"
   ]
  },
  {
   "cell_type": "code",
   "execution_count": 54,
   "metadata": {},
   "outputs": [],
   "source": [
    "stack=list()\n",
    "full_list=list()"
   ]
  },
  {
   "cell_type": "code",
   "execution_count": 45,
   "metadata": {},
   "outputs": [],
   "source": [
    "def get_all_relevant_links(url):\n",
    "    driver.get(url)\n",
    "    table=driver.find_element_by_xpath(\"//*[@class='Details-content--hidden-not-important js-navigation-container js-active-navigation-container d-md-block']\")\n",
    "    links=table.find_elements_by_tag_name('a')\n",
    "    for link in links:\n",
    "        href=link.get_attribute('href')\n",
    "        if '/tree/' in href or '.py' in href:\n",
    "            stack.append(href)\n",
    "    dfs()"
   ]
  },
  {
   "cell_type": "code",
   "execution_count": 55,
   "metadata": {},
   "outputs": [
    {
     "output_type": "error",
     "ename": "KeyboardInterrupt",
     "evalue": "",
     "traceback": [
      "\u001b[1;31m---------------------------------------------------------------------------\u001b[0m",
      "\u001b[1;31mKeyboardInterrupt\u001b[0m                         Traceback (most recent call last)",
      "\u001b[1;32mF:\\Temp/ipykernel_13160/165085763.py\u001b[0m in \u001b[0;36m<module>\u001b[1;34m\u001b[0m\n\u001b[1;32m----> 1\u001b[1;33m \u001b[0mres\u001b[0m\u001b[1;33m=\u001b[0m\u001b[0mget_all_relevant_links\u001b[0m\u001b[1;33m(\u001b[0m\u001b[1;34m'https://github.com/Z-yq/TensorflowTTS'\u001b[0m\u001b[1;33m)\u001b[0m\u001b[1;33m\u001b[0m\u001b[1;33m\u001b[0m\u001b[0m\n\u001b[0m",
      "\u001b[1;32mF:\\Temp/ipykernel_13160/1621343523.py\u001b[0m in \u001b[0;36mget_all_relevant_links\u001b[1;34m(url)\u001b[0m\n\u001b[0;32m      7\u001b[0m         \u001b[1;32mif\u001b[0m \u001b[1;34m'/tree/'\u001b[0m \u001b[1;32min\u001b[0m \u001b[0mhref\u001b[0m \u001b[1;32mor\u001b[0m \u001b[1;34m'.py'\u001b[0m \u001b[1;32min\u001b[0m \u001b[0mhref\u001b[0m\u001b[1;33m:\u001b[0m\u001b[1;33m\u001b[0m\u001b[1;33m\u001b[0m\u001b[0m\n\u001b[0;32m      8\u001b[0m             \u001b[0mstack\u001b[0m\u001b[1;33m.\u001b[0m\u001b[0mappend\u001b[0m\u001b[1;33m(\u001b[0m\u001b[0mhref\u001b[0m\u001b[1;33m)\u001b[0m\u001b[1;33m\u001b[0m\u001b[1;33m\u001b[0m\u001b[0m\n\u001b[1;32m----> 9\u001b[1;33m     \u001b[0mdfs\u001b[0m\u001b[1;33m(\u001b[0m\u001b[1;33m)\u001b[0m\u001b[1;33m\u001b[0m\u001b[1;33m\u001b[0m\u001b[0m\n\u001b[0m",
      "\u001b[1;32mF:\\Temp/ipykernel_13160/3907154364.py\u001b[0m in \u001b[0;36mdfs\u001b[1;34m()\u001b[0m\n\u001b[0;32m      2\u001b[0m     \u001b[1;32mwhile\u001b[0m \u001b[0mstack\u001b[0m\u001b[1;33m:\u001b[0m\u001b[1;33m\u001b[0m\u001b[1;33m\u001b[0m\u001b[0m\n\u001b[0;32m      3\u001b[0m         \u001b[0mlink\u001b[0m\u001b[1;33m=\u001b[0m\u001b[0mstack\u001b[0m\u001b[1;33m.\u001b[0m\u001b[0mpop\u001b[0m\u001b[1;33m(\u001b[0m\u001b[1;36m0\u001b[0m\u001b[1;33m)\u001b[0m\u001b[1;33m\u001b[0m\u001b[1;33m\u001b[0m\u001b[0m\n\u001b[1;32m----> 4\u001b[1;33m         \u001b[0msearch_through_files\u001b[0m\u001b[1;33m(\u001b[0m\u001b[0mlink\u001b[0m\u001b[1;33m)\u001b[0m\u001b[1;33m\u001b[0m\u001b[1;33m\u001b[0m\u001b[0m\n\u001b[0m",
      "\u001b[1;32mF:\\Temp/ipykernel_13160/2239326990.py\u001b[0m in \u001b[0;36msearch_through_files\u001b[1;34m(link)\u001b[0m\n\u001b[0;32m      8\u001b[0m     \u001b[1;32melif\u001b[0m \u001b[1;34m'.py'\u001b[0m \u001b[1;32min\u001b[0m \u001b[0mlink\u001b[0m\u001b[1;33m:\u001b[0m\u001b[1;33m\u001b[0m\u001b[1;33m\u001b[0m\u001b[0m\n\u001b[0;32m      9\u001b[0m         \u001b[0mdriver\u001b[0m\u001b[1;33m.\u001b[0m\u001b[0mget\u001b[0m\u001b[1;33m(\u001b[0m\u001b[0mlink\u001b[0m\u001b[1;33m)\u001b[0m\u001b[1;33m\u001b[0m\u001b[1;33m\u001b[0m\u001b[0m\n\u001b[1;32m---> 10\u001b[1;33m         \u001b[0mtime\u001b[0m\u001b[1;33m.\u001b[0m\u001b[0msleep\u001b[0m\u001b[1;33m(\u001b[0m\u001b[1;36m2.5\u001b[0m\u001b[1;33m)\u001b[0m\u001b[1;33m\u001b[0m\u001b[1;33m\u001b[0m\u001b[0m\n\u001b[0m\u001b[0;32m     11\u001b[0m         \u001b[0mfull_list\u001b[0m\u001b[1;33m.\u001b[0m\u001b[0mappend\u001b[0m\u001b[1;33m(\u001b[0m\u001b[0mlink\u001b[0m\u001b[1;33m)\u001b[0m\u001b[1;33m\u001b[0m\u001b[1;33m\u001b[0m\u001b[0m\n",
      "\u001b[1;31mKeyboardInterrupt\u001b[0m: "
     ]
    }
   ],
   "source": [
    "res=get_all_relevant_links('https://github.com/Z-yq/TensorflowTTS')"
   ]
  },
  {
   "cell_type": "code",
   "execution_count": 56,
   "metadata": {},
   "outputs": [
    {
     "output_type": "stream",
     "name": "stdout",
     "text": [
      "['https://github.com/Z-yq/TensorflowTTS/blob/main/fastspeech_extract_features.py', 'https://github.com/Z-yq/TensorflowTTS/blob/main/run-test.py', 'https://github.com/Z-yq/TensorflowTTS/blob/main/tacotron_extract_features.py', 'https://github.com/Z-yq/TensorflowTTS/blob/main/train_acoustic.py', 'https://github.com/Z-yq/TensorflowTTS/blob/main/train_vocoder.py', 'https://github.com/Z-yq/TensorflowTTS/blob/main/dataloaders/fastspeech_dataloader.py', 'https://github.com/Z-yq/TensorflowTTS/blob/main/dataloaders/tacotron_dataloader.py', 'https://github.com/Z-yq/TensorflowTTS/blob/main/dataloaders/vocoder_dataloader.py', 'https://github.com/Z-yq/TensorflowTTS/blob/main/models/__init__.py', 'https://github.com/Z-yq/TensorflowTTS/blob/main/models/conformer.py', 'https://github.com/Z-yq/TensorflowTTS/blob/main/models/fastspeech.py', 'https://github.com/Z-yq/TensorflowTTS/blob/main/models/model.py', 'https://github.com/Z-yq/TensorflowTTS/blob/main/models/positional_encoding.py', 'https://github.com/Z-yq/TensorflowTTS/blob/main/models/switchnorm.py', 'https://github.com/Z-yq/TensorflowTTS/blob/main/models/tacotron2.py', 'https://github.com/Z-yq/TensorflowTTS/blob/main/models/vocoder.py', 'https://github.com/Z-yq/TensorflowTTS/blob/main/models/weight_norm.py', 'https://github.com/Z-yq/TensorflowTTS/blob/main/synthesizer/synthesizer_fastspeech.py', 'https://github.com/Z-yq/TensorflowTTS/blob/main/synthesizer/synthesizer_tacotron.py', 'https://github.com/Z-yq/TensorflowTTS/blob/main/trainer/base_runners.py', 'https://github.com/Z-yq/TensorflowTTS/blob/main/trainer/fastspeech_trainer.py', 'https://github.com/Z-yq/TensorflowTTS/blob/main/trainer/tacotron_trainer.py', 'https://github.com/Z-yq/TensorflowTTS/blob/main/trainer/vocoder_trainer.py', 'https://github.com/Z-yq/TensorflowTTS/blob/main/utils/decoder.py', 'https://github.com/Z-yq/TensorflowTTS/blob/main/utils/normalize.py', 'https://github.com/Z-yq/TensorflowTTS/blob/main/utils/plot.py', 'https://github.com/Z-yq/TensorflowTTS/blob/main/utils/speech_featurizers.py', 'https://github.com/Z-yq/TensorflowTTS/blob/main/utils/stft.py', 'https://github.com/Z-yq/TensorflowTTS/blob/main/utils/text_featurizers.py', 'https://github.com/Z-yq/TensorflowTTS/blob/main/utils/tools.py', 'https://github.com/Z-yq/TensorflowTTS/blob/main/utils/user_config.py', 'https://github.com/Z-yq/TensorflowTTS/blob/main/utils/utils.py', 'https://github.com/Z-yq/TensorflowTTS/blob/main/models/layers/LayerNormLstmCell.py', 'https://github.com/Z-yq/TensorflowTTS/blob/main/models/layers/__init__.py', 'https://github.com/Z-yq/TensorflowTTS/blob/main/models/layers/backend.py', 'https://github.com/Z-yq/TensorflowTTS/blob/main/models/layers/backend_keras.py', 'https://github.com/Z-yq/TensorflowTTS/blob/main/models/layers/decoder.py', 'https://github.com/Z-yq/TensorflowTTS/blob/main/models/layers/filterbank.py', 'https://github.com/Z-yq/TensorflowTTS/blob/main/models/layers/frame_wise_batch_norm_lstm_cell.py', 'https://github.com/Z-yq/TensorflowTTS/blob/main/models/layers/merge_two_last_dims.py', 'https://github.com/Z-yq/TensorflowTTS/blob/main/models/layers/multihead_attention.py', 'https://github.com/Z-yq/TensorflowTTS/blob/main/models/layers/multihead_self_attention.py', 'https://github.com/Z-yq/TensorflowTTS/blob/main/models/layers/point_wise_ffn.py', 'https://github.com/Z-yq/TensorflowTTS/blob/main/models/layers/positional_encoding.py', 'https://github.com/Z-yq/TensorflowTTS/blob/main/models/layers/row_conv_1d.py', 'https://github.com/Z-yq/TensorflowTTS/blob/main/models/layers/sequence_wise_batch_norm.py', 'https://github.com/Z-yq/TensorflowTTS/blob/main/models/layers/switchnorm.py', 'https://github.com/Z-yq/TensorflowTTS/blob/main/models/layers/time_frequency.py', 'https://github.com/Z-yq/TensorflowTTS/blob/main/models/layers/time_reduction.py', 'https://github.com/Z-yq/TensorflowTTS/blob/main/models/layers/transpose_time_major.py', 'https://github.com/Z-yq/TensorflowTTS/blob/main/models/layers/utils.py', 'https://github.com/Z-yq/TensorflowTTS/blob/main/models/__init__.py', 'https://github.com/Z-yq/TensorflowTTS/blob/main/models/conformer.py', 'https://github.com/Z-yq/TensorflowTTS/blob/main/models/fastspeech.py', 'https://github.com/Z-yq/TensorflowTTS/blob/main/models/model.py', 'https://github.com/Z-yq/TensorflowTTS/blob/main/models/positional_encoding.py', 'https://github.com/Z-yq/TensorflowTTS/blob/main/models/switchnorm.py', 'https://github.com/Z-yq/TensorflowTTS/blob/main/models/tacotron2.py', 'https://github.com/Z-yq/TensorflowTTS/blob/main/models/vocoder.py', 'https://github.com/Z-yq/TensorflowTTS/blob/main/models/weight_norm.py', 'https://github.com/Z-yq/TensorflowTTS/blob/main/models/layers/LayerNormLstmCell.py', 'https://github.com/Z-yq/TensorflowTTS/blob/main/models/layers/__init__.py', 'https://github.com/Z-yq/TensorflowTTS/blob/main/models/layers/backend.py', 'https://github.com/Z-yq/TensorflowTTS/blob/main/models/layers/backend_keras.py', 'https://github.com/Z-yq/TensorflowTTS/blob/main/models/layers/decoder.py', 'https://github.com/Z-yq/TensorflowTTS/blob/main/models/layers/filterbank.py', 'https://github.com/Z-yq/TensorflowTTS/blob/main/models/layers/frame_wise_batch_norm_lstm_cell.py', 'https://github.com/Z-yq/TensorflowTTS/blob/main/models/layers/merge_two_last_dims.py', 'https://github.com/Z-yq/TensorflowTTS/blob/main/models/layers/multihead_attention.py', 'https://github.com/Z-yq/TensorflowTTS/blob/main/models/layers/multihead_self_attention.py', 'https://github.com/Z-yq/TensorflowTTS/blob/main/models/layers/point_wise_ffn.py', 'https://github.com/Z-yq/TensorflowTTS/blob/main/models/layers/positional_encoding.py', 'https://github.com/Z-yq/TensorflowTTS/blob/main/models/layers/row_conv_1d.py', 'https://github.com/Z-yq/TensorflowTTS/blob/main/models/layers/sequence_wise_batch_norm.py', 'https://github.com/Z-yq/TensorflowTTS/blob/main/models/layers/switchnorm.py', 'https://github.com/Z-yq/TensorflowTTS/blob/main/models/layers/time_frequency.py', 'https://github.com/Z-yq/TensorflowTTS/blob/main/models/layers/time_reduction.py', 'https://github.com/Z-yq/TensorflowTTS/blob/main/models/layers/transpose_time_major.py', 'https://github.com/Z-yq/TensorflowTTS/blob/main/models/layers/utils.py', 'https://github.com/Z-yq/TensorflowTTS/blob/main/models/__init__.py', 'https://github.com/Z-yq/TensorflowTTS/blob/main/models/conformer.py', 'https://github.com/Z-yq/TensorflowTTS/blob/main/models/fastspeech.py', 'https://github.com/Z-yq/TensorflowTTS/blob/main/models/model.py', 'https://github.com/Z-yq/TensorflowTTS/blob/main/models/positional_encoding.py', 'https://github.com/Z-yq/TensorflowTTS/blob/main/models/switchnorm.py', 'https://github.com/Z-yq/TensorflowTTS/blob/main/models/tacotron2.py', 'https://github.com/Z-yq/TensorflowTTS/blob/main/models/vocoder.py', 'https://github.com/Z-yq/TensorflowTTS/blob/main/models/weight_norm.py', 'https://github.com/Z-yq/TensorflowTTS/blob/main/models/layers/LayerNormLstmCell.py', 'https://github.com/Z-yq/TensorflowTTS/blob/main/models/layers/__init__.py', 'https://github.com/Z-yq/TensorflowTTS/blob/main/models/layers/backend.py', 'https://github.com/Z-yq/TensorflowTTS/blob/main/models/layers/backend_keras.py', 'https://github.com/Z-yq/TensorflowTTS/blob/main/models/layers/decoder.py', 'https://github.com/Z-yq/TensorflowTTS/blob/main/models/layers/filterbank.py', 'https://github.com/Z-yq/TensorflowTTS/blob/main/models/layers/frame_wise_batch_norm_lstm_cell.py', 'https://github.com/Z-yq/TensorflowTTS/blob/main/models/layers/merge_two_last_dims.py', 'https://github.com/Z-yq/TensorflowTTS/blob/main/models/layers/multihead_attention.py', 'https://github.com/Z-yq/TensorflowTTS/blob/main/models/layers/multihead_self_attention.py', 'https://github.com/Z-yq/TensorflowTTS/blob/main/models/layers/point_wise_ffn.py', 'https://github.com/Z-yq/TensorflowTTS/blob/main/models/layers/positional_encoding.py', 'https://github.com/Z-yq/TensorflowTTS/blob/main/models/layers/row_conv_1d.py', 'https://github.com/Z-yq/TensorflowTTS/blob/main/models/layers/sequence_wise_batch_norm.py', 'https://github.com/Z-yq/TensorflowTTS/blob/main/models/layers/switchnorm.py', 'https://github.com/Z-yq/TensorflowTTS/blob/main/models/layers/time_frequency.py', 'https://github.com/Z-yq/TensorflowTTS/blob/main/models/layers/time_reduction.py', 'https://github.com/Z-yq/TensorflowTTS/blob/main/models/layers/transpose_time_major.py', 'https://github.com/Z-yq/TensorflowTTS/blob/main/models/layers/utils.py', 'https://github.com/Z-yq/TensorflowTTS/blob/main/models/__init__.py', 'https://github.com/Z-yq/TensorflowTTS/blob/main/models/conformer.py', 'https://github.com/Z-yq/TensorflowTTS/blob/main/models/fastspeech.py', 'https://github.com/Z-yq/TensorflowTTS/blob/main/models/model.py', 'https://github.com/Z-yq/TensorflowTTS/blob/main/models/positional_encoding.py', 'https://github.com/Z-yq/TensorflowTTS/blob/main/models/switchnorm.py', 'https://github.com/Z-yq/TensorflowTTS/blob/main/models/tacotron2.py', 'https://github.com/Z-yq/TensorflowTTS/blob/main/models/vocoder.py', 'https://github.com/Z-yq/TensorflowTTS/blob/main/models/weight_norm.py', 'https://github.com/Z-yq/TensorflowTTS/blob/main/models/layers/LayerNormLstmCell.py', 'https://github.com/Z-yq/TensorflowTTS/blob/main/models/layers/__init__.py', 'https://github.com/Z-yq/TensorflowTTS/blob/main/models/layers/backend.py', 'https://github.com/Z-yq/TensorflowTTS/blob/main/models/layers/backend_keras.py', 'https://github.com/Z-yq/TensorflowTTS/blob/main/models/layers/decoder.py', 'https://github.com/Z-yq/TensorflowTTS/blob/main/models/layers/filterbank.py', 'https://github.com/Z-yq/TensorflowTTS/blob/main/models/layers/frame_wise_batch_norm_lstm_cell.py', 'https://github.com/Z-yq/TensorflowTTS/blob/main/models/layers/merge_two_last_dims.py', 'https://github.com/Z-yq/TensorflowTTS/blob/main/models/layers/multihead_attention.py']\n"
     ]
    }
   ],
   "source": [
    "print(full_list)"
   ]
  },
  {
   "cell_type": "code",
   "execution_count": 57,
   "metadata": {},
   "outputs": [
    {
     "output_type": "stream",
     "name": "stdout",
     "text": [
      "125 51\n"
     ]
    }
   ],
   "source": [
    "list_set=set(full_list)\n",
    "print(len(full_list),len(list_set))"
   ]
  }
 ]
}