{
 "metadata": {
  "language_info": {
   "codemirror_mode": {
    "name": "ipython",
    "version": 3
   },
   "file_extension": ".py",
   "mimetype": "text/x-python",
   "name": "python",
   "nbconvert_exporter": "python",
   "pygments_lexer": "ipython3",
   "version": "3.9.2"
  },
  "orig_nbformat": 4,
  "kernelspec": {
   "name": "python3",
   "display_name": "Python 3.9.2 64-bit ('venv': venv)"
  },
  "interpreter": {
   "hash": "78f4f8306d126378c9562ce753494e28fbcd9f2973a9f9ea6a83cd7fde7d058b"
  }
 },
 "nbformat": 4,
 "nbformat_minor": 2,
 "cells": [
  {
   "cell_type": "code",
   "execution_count": 1,
   "metadata": {},
   "outputs": [],
   "source": [
    "import os\n",
    "import github as gh\n",
    "import bs4 as bs\n",
    "import requests\n",
    "from lxml import etree\n",
    "\n",
    "import selenium\n",
    "from selenium import webdriver\n",
    "\n",
    "from selenium.webdriver.chrome.options import Options\n",
    "from webdriver_manager.chrome import ChromeDriverManager\n",
    "\n",
    "import time\n",
    "from tqdm import tqdm"
   ]
  },
  {
   "cell_type": "code",
   "execution_count": 2,
   "metadata": {},
   "outputs": [
    {
     "output_type": "stream",
     "name": "stdout",
     "text": [
      "AuthenticatedUser(login=None)\n"
     ]
    }
   ],
   "source": [
    "GITHUB_ACCESS_TOKEN=os.getenv('GITHUB_ACCESS_TOKEN')\n",
    "g=gh.Github(GITHUB_ACCESS_TOKEN)\n",
    "print(g.get_user())"
   ]
  },
  {
   "cell_type": "code",
   "execution_count": 3,
   "metadata": {},
   "outputs": [
    {
     "output_type": "stream",
     "name": "stdout",
     "text": [
      "29\n['_PaginatedListBase__elements', '_PaginatedListBase__fetchToIndex', '_PaginatedList__contentClass', '_PaginatedList__firstParams', '_PaginatedList__firstUrl', '_PaginatedList__headers', '_PaginatedList__list_item', '_PaginatedList__nextParams', '_PaginatedList__nextUrl', '_PaginatedList__parseLinkHeader', '_PaginatedList__requester', '_PaginatedList__reverse', '_PaginatedList__totalCount', '_Slice', '__class__', '__delattr__', '__dict__', '__dir__', '__doc__', '__eq__', '__format__', '__ge__', '__getattribute__', '__getitem__', '__gt__', '__hash__', '__init__', '__init_subclass__', '__iter__', '__le__', '__lt__', '__module__', '__ne__', '__new__', '__reduce__', '__reduce_ex__', '__repr__', '__setattr__', '__sizeof__', '__str__', '__subclasshook__', '__weakref__', '_couldGrow', '_fetchNextPage', '_getLastPageUrl', '_grow', '_isBiggerThan', '_reversed', 'get_page', 'reversed', 'totalCount']\n"
     ]
    }
   ],
   "source": [
    "query='tensorflow language:python created:2021-04-01..2021-04-02'\n",
    "urls = []\n",
    "result=g.search_repositories(query)\n",
    "print(result.totalCount)\n",
    "print(dir(result))\n",
    "for repository in result:\n",
    "    urls.append(repository.html_url)\n",
    "    "
   ]
  },
  {
   "cell_type": "code",
   "execution_count": 45,
   "metadata": {},
   "outputs": [],
   "source": [
    "url='https://github.com/Tyler-Shamsuddoha/python-image-classifier-keras'\n",
    "url2='https://github.com/bamblebam/image-classification-rps'"
   ]
  },
  {
   "cell_type": "code",
   "execution_count": 36,
   "metadata": {},
   "outputs": [
    {
     "output_type": "stream",
     "name": "stderr",
     "text": [
      "\n",
      "\n",
      "====== WebDriver manager ======\n",
      "Current google-chrome version is 91.0.4472\n",
      "Get LATEST driver version for 91.0.4472\n",
      "Driver [./\\drivers\\chromedriver\\win32\\91.0.4472.101\\chromedriver.exe] found in cache\n"
     ]
    }
   ],
   "source": [
    "options=Options()\n",
    "options.headless=True\n",
    "driver=webdriver.Chrome(ChromeDriverManager(path='./').install(),options=options)\n",
    "driver.get(url2)"
   ]
  },
  {
   "cell_type": "code",
   "execution_count": 37,
   "metadata": {},
   "outputs": [],
   "source": [
    "table=driver.find_element_by_xpath(\"//*[@class='Details-content--hidden-not-important js-navigation-container js-active-navigation-container d-md-block']\")"
   ]
  },
  {
   "cell_type": "code",
   "execution_count": 7,
   "metadata": {},
   "outputs": [],
   "source": [
    "# links=table.find_elements_by_tag_name('a')\n",
    "# print(len(links))\n",
    "# for link in links:\n",
    "#     href=link.get_attribute('href')\n",
    "#     if 'tree' in href or '.py' in href:\n",
    "#         stack.append(href)\n",
    "\n",
    "# driver.get(url2)\n",
    "# table=driver.find_element_by_xpath(\"//*[@class='Details-content--hidden-not-important js-navigation-container js-active-navigation-container d-md-block']\")\n",
    "# links=table.find_elements_by_tag_name('a')\n",
    "# for link in links:\n",
    "#     href=link.get_attribute('href')\n",
    "#     if '/tree/' in href or '.py' in href:\n",
    "#         stack.append(href)"
   ]
  },
  {
   "cell_type": "code",
   "execution_count": 46,
   "metadata": {},
   "outputs": [],
   "source": [
    "queue=list()\n",
    "full_list=list()\n",
    "links_list = set()\n",
    "sequential_list=list()"
   ]
  },
  {
   "cell_type": "code",
   "execution_count": 39,
   "metadata": {},
   "outputs": [],
   "source": [
    "def push_to_queue(links):\n",
    "    for link in links:\n",
    "        href=link.get_attribute('href')\n",
    "        if href in links_list:\n",
    "            continue\n",
    "        if '/tree/' in href or '.py' in href:\n",
    "            links_list.add(href)\n",
    "            queue.append(href)"
   ]
  },
  {
   "cell_type": "code",
   "execution_count": null,
   "metadata": {},
   "outputs": [],
   "source": [
    "# def if_sequential():\n",
    "#     code_body=driver.find_element_by_xpath(\"//*[@class='Box-body p-0 blob-wrapper data type-python  gist-border-0']\")\n",
    "#     if 'Sequential' in code_body.text:\n",
    "#             count+=1\n",
    "#     return count"
   ]
  },
  {
   "cell_type": "code",
   "execution_count": 40,
   "metadata": {},
   "outputs": [],
   "source": [
    "def search_through_files(link):\n",
    "    if '/tree/' in link:\n",
    "        driver.get(link)\n",
    "        time.sleep(2.5)\n",
    "        table=driver.find_element_by_xpath(\"//*[@class='Details-content--hidden-not-important js-navigation-container js-active-navigation-container d-block']\")\n",
    "        links=table.find_elements_by_tag_name('a')\n",
    "        push_to_queue(links)\n",
    "    elif '.py' in link:\n",
    "        driver.get(link)\n",
    "        time.sleep(2.5)\n",
    "        full_list.append(link)\n",
    "        try:\n",
    "            code_body=driver.find_element_by_xpath(\"//*[@class='Box-body p-0 blob-wrapper data type-python  gist-border-0']\")\n",
    "            if 'Sequential' in code_body.text:\n",
    "                sequential_list.append(link) \n",
    "        except:\n",
    "            pass"
   ]
  },
  {
   "cell_type": "code",
   "execution_count": 41,
   "metadata": {},
   "outputs": [],
   "source": [
    "def bfs():\n",
    "    while queue:\n",
    "        link=queue.pop(0)\n",
    "        search_through_files(link)"
   ]
  },
  {
   "cell_type": "code",
   "execution_count": 42,
   "metadata": {},
   "outputs": [],
   "source": [
    "def get_all_relevant_links(url):\n",
    "    links_list.add(url)\n",
    "    driver.get(url)\n",
    "    table=driver.find_element_by_xpath(\"//*[@class='Details-content--hidden-not-important js-navigation-container js-active-navigation-container d-md-block']\")\n",
    "    links=table.find_elements_by_tag_name('a')\n",
    "    for link in links:\n",
    "        href=link.get_attribute('href')\n",
    "        if '/tree/' in href or '.py' in href:\n",
    "            links_list.add(href)\n",
    "            queue.append(href)\n",
    "    bfs()\n",
    "    print(\"Ended\")"
   ]
  },
  {
   "cell_type": "code",
   "execution_count": 47,
   "metadata": {},
   "outputs": [
    {
     "output_type": "stream",
     "name": "stdout",
     "text": [
      "Ended\n"
     ]
    }
   ],
   "source": [
    "get_all_relevant_links(url)"
   ]
  },
  {
   "cell_type": "code",
   "execution_count": 26,
   "metadata": {},
   "outputs": [],
   "source": [
    "def getSequentialModel(full_list):\n",
    "    count=0\n",
    "    for url in full_list:\n",
    "        driver.get(url)\n",
    "        time.sleep(2.5)\n",
    "        print(url)\n",
    "        code_body=driver.find_element_by_xpath(\"//*[@class='Box-body p-0 blob-wrapper data type-python  gist-border-0']\")\n",
    "        if 'Sequential' in code_body.text:\n",
    "            count+=1\n",
    "    return count"
   ]
  },
  {
   "cell_type": "code",
   "execution_count": 48,
   "metadata": {},
   "outputs": [
    {
     "output_type": "stream",
     "name": "stdout",
     "text": [
      "['https://github.com/Tyler-Shamsuddoha/python-image-classifier-keras/blob/master/train.py']\n"
     ]
    }
   ],
   "source": [
    "print(sequential_list)"
   ]
  },
  {
   "cell_type": "code",
   "execution_count": 49,
   "metadata": {},
   "outputs": [],
   "source": [
    "sequential_type1_url=sequential_list[0]"
   ]
  },
  {
   "cell_type": "code",
   "execution_count": 52,
   "metadata": {},
   "outputs": [],
   "source": [
    "driver.get(sequential_type1_url)\n",
    "code_body=driver.find_element_by_xpath(\"//*[@class='Box-body p-0 blob-wrapper data type-python  gist-border-0']\")"
   ]
  },
  {
   "cell_type": "code",
   "execution_count": 59,
   "metadata": {},
   "outputs": [],
   "source": [
    "def get_sequential_count1(code_body):\n",
    "    return code_body.text.count('Sequential(')"
   ]
  },
  {
   "cell_type": "code",
   "execution_count": 65,
   "metadata": {},
   "outputs": [
    {
     "output_type": "stream",
     "name": "stdout",
     "text": [
      "1772\n"
     ]
    }
   ],
   "source": [
    "print(code_body.text.index('Sequential('))"
   ]
  },
  {
   "cell_type": "code",
   "execution_count": 77,
   "metadata": {},
   "outputs": [
    {
     "output_type": "stream",
     "name": "stdout",
     "text": [
      "['from', 'tensorflow.keras.models', 'import', 'Sequential\\nfrom', 'tensorflow.keras.layers', 'import', 'Dense\\nfrom', 'tensorflow.keras', 'import', 'backend', 'as', 'K\\nfrom', 'tensorflow.keras.layers', 'import', 'Dense,', 'Dropout,', 'Flatten,', 'Activation,', 'Conv2D,', 'MaxPooling2D\\nfrom', 'tensorflow.keras.preprocessing.image', 'import', 'img_to_array,', 'ImageDataGenerator\\nfrom', 'imutils', 'import', 'paths\\nfrom', 'tensorflow.keras.losses', 'import', 'categorical_crossentropy', '#cosine_proximity,\\nfrom', 'tensorflow.keras.optimizers', 'import', 'Nadam,', 'Adam\\nfrom', 'tensorflow.keras.utils', 'import', 'plot_model\\nfrom', 'sklearn.neural_network', 'import', 'MLPClassifier\\nfrom', 'tensorflow.keras.callbacks', 'import', 'Callback\\nfrom', 'tensorflow.keras.applications', 'import', 'InceptionResNetV2\\nfrom', 'tensorflow.keras.callbacks', 'import', 'ModelCheckpoint,', 'EarlyStopping\\nimport', 'cv2\\nimport', 'numpy', 'as', 'np\\nimport', 'tensorflow', 'as', 'tf\\nimport', 'random\\nimport', 'os\\nimport', 'matplotlib.pyplot', 'as', 'plt\\nimport', 'sklearn\\n#', 'Set', 'random', 'seeds', 'to', 'ensure', 'the', 'reproducible', 'results\\nSEED', '=', '309\\nnp.random.seed(SEED)\\nrandom.seed(SEED)\\ntf.random.set_seed(SEED)\\nIMG_HEIGHT', '=', '64\\nIMG_WIDTH', '=', '64\\nINPUT_SHAPE', '=', '(64,', '64)\\n#', 'conv_base', '=', 'InceptionResNetV2(weights', '=', \"'imagenet',\", 'include_top', '=', 'False,', 'input_shape', '=', '(IMG_HEIGHT,IMG_WIDTH,3))\\ntrain_dir', '=', \"'./Train_data'\\ntest_dir\", '=', \"'./test_data'\\nvalidation_images_dir\", '=', \"'./Validation_Sets'\\nbatch_size\", '=', '32\\nepoch', '=', '100\\ndef', 'construct_model():\\n', '', '', '\"\"\"\\n', '', '', '', 'Construct', 'the', 'CNN', 'model.\\n', '', '', '', '***\\n', '', '', '', '', '', '', '', 'Please', 'add', 'your', 'model', 'implementation', 'here,', 'and', \"don't\", 'forget', 'compile', 'the', 'model\\n', '', '', '', '', '', '', '', 'E.g.,', \"model.compile(loss='categorical_crossentropy',\\n\", '', '', '', '', '', '', '', '', '', '', '', '', '', '', '', '', '', '', '', '', '', '', '', '', '', '', '', \"optimizer='sgd',\\n\", '', '', '', '', '', '', '', '', '', '', '', '', '', '', '', '', '', '', '', '', '', '', '', '', '', '', '', \"metrics=['accuracy'])\\n\", '', '', '', '', '', '', '', 'NOTE,', 'You', 'must', 'include', \"'accuracy'\", 'in', 'as', 'one', 'of', 'your', 'metrics,', 'which', 'will', 'be', 'used', 'for', 'marking', 'later.\\n', '', '', '', '***\\n', '', '', '', ':return:', 'model:', 'the', 'initial', 'CNN', 'model\\n', '', '', '', '\"\"\"\\n', '', '', '', 'model', '=', 'Sequential([\\n', '', '', '', '', '', '', '', 'Conv2D(16,', 'kernel_size=3,', \"padding='same',\", \"activation='relu',\", 'input_shape=(IMG_HEIGHT,', 'IMG_WIDTH,', '3)),\\n', '', '', '', '', '', '', '', 'MaxPooling2D(2,', '2),\\n', '', '', '', '', '', '', '', 'Conv2D(32,', 'kernel_size=3,', \"padding='same',\", \"activation='relu'),\\n\", '', '', '', '', '', '', '', 'MaxPooling2D(2,', '2),\\n', '', '', '', '', '', '', '', 'Conv2D(64,', '3,', \"padding='same',\", \"activation='relu'),\\n\", '', '', '', '', '', '', '', 'MaxPooling2D(2,', '2),\\n', '', '', '', '', '', '', '', 'Conv2D(128,', '3,', \"padding='same',\", \"activation='relu'),\\n\", '', '', '', '', '', '', '', 'Flatten(),\\n', '', '', '', '', '', '', '', 'Dense(64,', \"'relu'),\\n\", '', '', '', '', '', '', '', 'Dropout(0.5),\\n', '', '', '', '', '', '', '', 'Dense(3,', \"activation='softmax')\\n\", '', '', '', '])\\n', '', '', '', 'model.compile(loss=categorical_crossentropy,', 'optimizer=', 'Nadam(),', \"metrics=['accuracy'])\\n\", '', '', '', 'return', 'model\\n', '', '', '', '#', '*************************************\\n', '', '', '', '#', 'Building', 'Model', 'Using', 'Transfer', 'Learning\\n', '', '', '', '#', 'model', '=', 'Sequential([\\n', '', '', '', '#', '', '', '', '', 'conv_base,\\n', '', '', '', '#', '', '', '', '', 'Flatten(),\\n', '', '', '', '#', '', '', '', '', 'Dense(512,', \"'relu'),\\n\", '', '', '', '#', '', '', '', '', 'Dense(3,', \"activation='softmax')\\n\", '', '', '', '#', '])\\n', '', '', '', '#', 'model.compile(loss=categorical_crossentropy,', 'optimizer=', 'Nadam(),', \"metrics=['accuracy'])\\n\", '', '', '', '#', 'return', 'model\\ndef', 'train_model(model):\\n', '', '', '', '\"\"\"\\n', '', '', '', 'Train', 'the', 'CNN', 'model\\n', '', '', '', '***\\n', '', '', '', '', '', '', '', 'Please', 'add', 'your', 'training', 'implementation', 'here,', 'including', 'pre-processing', 'and', 'training\\n', '', '', '', '***\\n', '', '', '', ':param', 'model:', 'the', 'initial', 'CNN', 'model\\n', '', '', '', ':return:model:', '', '', 'the', 'trained', 'CNN', 'model\\n', '', '', '', '\"\"\"\\n', '', '', '', 'print(\"Loading', 'Images...\")\\n', '', '', '', 'validation_image_generator', '=', 'ImageDataGenerator(rescale=1./255,', 'rotation_range=40)\\n', '', '', '', 'val_data_gen', '=', 'validation_image_generator.flow_from_directory(batch_size=batch_size,\\n', '', '', '', '', '', '', '', '', '', '', '', '', '', '', '', '', '', '', '', '', '', '', '', '', '', '', '', '', '', '', '', '', '', '', '', '', '', '', '', '', '', '', '', '', '', '', '', '', '', '', '', '', '', '', '', '', '', '', '', '', '', '', '', '', '', 'directory=validation_images_dir,\\n', '', '', '', '', '', '', '', '', '', '', '', '', '', '', '', '', '', '', '', '', '', '', '', '', '', '', '', '', '', '', '', '', '', '', '', '', '', '', '', '', '', '', '', '', '', '', '', '', '', '', '', '', '', '', '', '', '', '', '', '', '', '', '', '', '', 'target_size=INPUT_SHAPE,\\n', '', '', '', '', '', '', '', '', '', '', '', '', '', '', '', '', '', '', '', '', '', '', '', '', '', '', '', '', '', '', '', '', '', '', '', '', '', '', '', '', '', '', '', '', '', '', '', '', '', '', '', '', '', '', '', '', '', '', '', '', '', '', '', '', '', \"class_mode='categorical')\\n\", '', '', '', 'print(\"Loaded', 'Validation', 'Set', 'Images', 'Successfully\\\\n\")\\n', '', '', '', 'train_image_generator', '=', 'ImageDataGenerator(rescale=1./255,', 'zoom_range=0.2,', 'rotation_range=40)\\n', '', '', '', 'train_data_gen', '=', 'train_image_generator.flow_from_directory(batch_size=batch_size,\\n', '', '', '', '', '', '', '', '', '', '', '', '', '', '', '', '', '', '', '', '', '', '', '', '', '', '', '', '', '', '', '', '', '', '', '', '', '', '', '', '', '', '', '', '', '', '', '', '', '', '', '', '', '', '', '', '', '', '', '', '', '', '', 'directory=train_dir,\\n', '', '', '', '', '', '', '', '', '', '', '', '', '', '', '', '', '', '', '', '', '', '', '', '', '', '', '', '', '', '', '', '', '', '', '', '', '', '', '', '', '', '', '', '', '', '', '', '', '', '', '', '', '', '', '', '', '', '', '', '', '', '', 'shuffle=True,\\n', '', '', '', '', '', '', '', '', '', '', '', '', '', '', '', '', '', '', '', '', '', '', '', '', '', '', '', '', '', '', '', '', '', '', '', '', '', '', '', '', '', '', '', '', '', '', '', '', '', '', '', '', '', '', '', '', '', '', '', '', '', '', 'target_size=INPUT_SHAPE,\\n', '', '', '', '', '', '', '', '', '', '', '', '', '', '', '', '', '', '', '', '', '', '', '', '', '', '', '', '', '', '', '', '', '', '', '', '', '', '', '', '', '', '', '', '', '', '', '', '', '', '', '', '', '', '', '', '', '', '', '', '', '', '', \"class_mode='categorical')\\n\", '', '', '', 'print(\"Loaded', 'Training', 'Images', 'Successfully\\\\n\")\\n', '', '', '', 'print(\"Starting', 'training....\\\\n\")\\n', '', '', '', 'model', '=', 'construct_model()\\n', '', '', '', 'filepath', '=', \"'model/newmodel111.h5'\\n\", '', '', '', 'model_checkpoint', '=', 'ModelCheckpoint(filepath,', \"monitor='val_loss',\", 'save_best_only=', 'True,', 'verbose=1,', 'mode', '=', \"'min')\\n\", '', '', '', '#', 'early_stop', '=', 'EarlyStopping(filepath,', \"monitor='val_acc',\", \"mode='max',\", 'patience=5)\\n', '', '', '', 'history', '=', 'model.fit_generator(\\n', '', '', '', '', '', '', '', 'train_data_gen,\\n', '', '', '', '', '', '', '', 'steps_per_epoch=', '3748/batch_size,\\n', '', '', '', '', '', '', '', 'epochs=', 'epoch,\\n', '', '', '', '', '', '', '', 'validation_data=', 'val_data_gen,\\n', '', '', '', '', '', '', '', 'validation_steps=', '562/batch_size,\\n', '', '', '', '', '', '', '', 'callbacks', '=', '[model_checkpoint],\\n', '', '', '', ')\\n', '', '', '', 'visualise_results(history)\\n', '', '', '', 'return', 'model\\ndef', 'save_model(model):\\n', '', '', '', '\"\"\"\\n', '', '', '', 'Save', 'the', 'keras', 'model', 'for', 'later', 'evaluation\\n', '', '', '', ':param', 'model:', 'the', 'trained', 'CNN', 'model\\n', '', '', '', ':return:\\n', '', '', '', '\"\"\"\\n', '', '', '', '#', '***\\n', '', '', '', '#', '', '', 'Please', 'remove', 'the', 'comment', 'to', 'enable', 'model', 'save.\\n', '', '', '', '#', '', '', 'However,', 'it', 'will', 'overwrite', 'the', 'baseline', 'model', 'we', 'provided.\\n', '', '', '', '#', '***\\n', '', '', '', 'model.save(\"model/new_model.h5\")\\n', '', '', '', 'print(\"Model', 'Saved', 'Successfully.\")\\ndef', 'visualise_results(history):\\n', '', '', '', \"plt.plot(history.history['accuracy'])\\n\", '', '', '', \"plt.plot(history.history['val_accuracy'])\\n\", '', '', '', \"plt.title('Model\", \"accuracy')\\n\", '', '', '', \"plt.ylabel('Accuracy')\\n\", '', '', '', \"plt.xlabel('Epoch')\\n\", '', '', '', \"plt.legend(['Train',\", \"'Test'],\", \"loc='upper\", \"left')\\n\", '', '', '', 'plt.show()\\n', '', '', '', '#', 'Plot', 'training', '&', 'validation', 'loss', 'values\\n', '', '', '', \"plt.plot(history.history['loss'])\\n\", '', '', '', \"plt.plot(history.history['val_loss'])\\n\", '', '', '', \"plt.title('Model\", \"loss')\\n\", '', '', '', \"plt.ylabel('Loss')\\n\", '', '', '', \"plt.xlabel('Epoch')\\n\", '', '', '', \"plt.legend(['Train',\", \"'Test'],\", \"loc='upper\", \"left')\\n\", '', '', '', 'plt.show()\\nif', '__name__', '==', \"'__main__':\\n\", '', '', '', 'model', '=', 'train_model(train_dir)\\n', '', '', '', 'save_model(model)']\n"
     ]
    }
   ],
   "source": [
    "space_splitted_text=code_body.text.split(' ')\n",
    "space_splitted_text.remove('')\n",
    "print(space_splitted_text)"
   ]
  },
  {
   "cell_type": "code",
   "execution_count": 66,
   "metadata": {},
   "outputs": [
    {
     "output_type": "stream",
     "name": "stdout",
     "text": [
      "S\n"
     ]
    }
   ],
   "source": [
    "print(code_body.text[1772])"
   ]
  }
 ]
}