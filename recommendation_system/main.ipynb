{
 "metadata": {
  "language_info": {
   "codemirror_mode": {
    "name": "ipython",
    "version": 3
   },
   "file_extension": ".py",
   "mimetype": "text/x-python",
   "name": "python",
   "nbconvert_exporter": "python",
   "pygments_lexer": "ipython3",
   "version": "3.8.1"
  },
  "orig_nbformat": 4,
  "kernelspec": {
   "name": "python3",
   "display_name": "Python 3.8.1 64-bit ('venv': venv)"
  },
  "interpreter": {
   "hash": "75dbba10fc6620c626cd1fa2436ff69a4b43b4d8107ad1b0d4ae9140f5dc976d"
  }
 },
 "nbformat": 4,
 "nbformat_minor": 2,
 "cells": [
  {
   "cell_type": "code",
   "execution_count": 2,
   "metadata": {},
   "outputs": [],
   "source": [
    "import os\n",
    "import github as gh\n",
    "import bs4 as bs\n",
    "import requests\n",
    "from lxml import etree\n",
    "\n",
    "import selenium\n",
    "from selenium import webdriver\n",
    "\n",
    "from selenium.webdriver.chrome.options import Options\n",
    "from webdriver_manager.chrome import ChromeDriverManager\n",
    "\n",
    "import time\n",
    "from tqdm import tqdm"
   ]
  },
  {
   "cell_type": "code",
   "execution_count": 3,
   "metadata": {},
   "outputs": [],
   "source": [
    "GITHUB_ACCESS_TOKEN=os.getenv('GITHUB_ACCESS_TOKEN')\n",
    "g=gh.Github(GITHUB_ACCESS_TOKEN)\n",
    "print(g.get_user())"
   ]
  },
  {
   "cell_type": "code",
   "execution_count": 5,
   "metadata": {},
   "outputs": [],
   "source": [
    "query='tensorflow language:python created:2021-04-01..2021-04-02'\n",
    "result=g.search_repositories(query)\n",
    "print(result.totalCount)\n",
    "print(dir(result))\n",
    "for repository in result:\n",
    "    # print(dir(repository))\n",
    "    print(repository.html_url)"
   ]
  },
  {
   "cell_type": "code",
   "execution_count": 9,
   "metadata": {},
   "outputs": [],
   "source": [
    "url='https://github.com/Tyler-Shamsuddoha/python-image-classifier-keras'\n",
    "url2='https://github.com/bamblebam/image-classification-rps'"
   ]
  },
  {
   "cell_type": "code",
   "execution_count": 10,
   "metadata": {},
   "outputs": [
    {
     "output_type": "stream",
     "name": "stderr",
     "text": [
      "\n",
      "\n",
      "====== WebDriver manager ======\n",
      "Current google-chrome version is 91.0.4472\n",
      "Get LATEST driver version for 91.0.4472\n",
      "Driver [./\\drivers\\chromedriver\\win32\\91.0.4472.101\\chromedriver.exe] found in cache\n"
     ]
    }
   ],
   "source": [
    "options=Options()\n",
    "options.headless=True\n",
    "driver=webdriver.Chrome(ChromeDriverManager(path='./').install(),options=options)\n",
    "driver.get(url2)"
   ]
  },
  {
   "cell_type": "code",
   "execution_count": 11,
   "metadata": {},
   "outputs": [],
   "source": []
  },
  {
   "cell_type": "code",
   "execution_count": 12,
   "metadata": {},
   "outputs": [],
   "source": [
    "table=driver.find_element_by_xpath(\"//*[@class='Details-content--hidden-not-important js-navigation-container js-active-navigation-container d-md-block']\")"
   ]
  },
  {
   "cell_type": "code",
   "execution_count": 13,
   "metadata": {},
   "outputs": [
    {
     "output_type": "stream",
     "name": "stdout",
     "text": [
      "8\n"
     ]
    }
   ],
   "source": [
    "links=table.find_elements_by_tag_name('a')\n",
    "print(len(links))"
   ]
  },
  {
   "cell_type": "code",
   "execution_count": 18,
   "metadata": {},
   "outputs": [],
   "source": [
    "stack=list()\n",
    "full_list=list()"
   ]
  },
  {
   "cell_type": "code",
   "execution_count": 15,
   "metadata": {},
   "outputs": [],
   "source": [
    "for link in links:\n",
    "    href=link.get_attribute('href')\n",
    "    if 'tree' in href or '.py' in href:\n",
    "        stack.append(href)"
   ]
  },
  {
   "cell_type": "code",
   "execution_count": 19,
   "metadata": {},
   "outputs": [],
   "source": [
    "driver.get(url2)\n",
    "table=driver.find_element_by_xpath(\"//*[@class='Details-content--hidden-not-important js-navigation-container js-active-navigation-container d-md-block']\")\n",
    "links=table.find_elements_by_tag_name('a')\n",
    "for link in links:\n",
    "    href=link.get_attribute('href')\n",
    "    if '/tree/' in href or '.py' in href:\n",
    "        stack.append(href)"
   ]
  },
  {
   "cell_type": "code",
   "execution_count": 20,
   "metadata": {},
   "outputs": [],
   "source": [
    "def push_to_stack(links):\n",
    "    for link in links:\n",
    "        href=link.get_attribute('href')\n",
    "        if '/tree/' in href or '.py' in href:\n",
    "            stack.append(href)"
   ]
  },
  {
   "cell_type": "code",
   "execution_count": 21,
   "metadata": {},
   "outputs": [],
   "source": [
    "def search_through_files(link):\n",
    "    if '/tree/' in link:\n",
    "        driver.get(link)\n",
    "        time.sleep(2.5)\n",
    "        table=driver.find_element_by_xpath(\"//*[@class='Details-content--hidden-not-important js-navigation-container js-active-navigation-container d-block']\")\n",
    "        links=table.find_elements_by_tag_name('a')\n",
    "        push_to_stack(links)\n",
    "    elif '.py' in link:\n",
    "        driver.get(link)\n",
    "        time.sleep(2.5)\n",
    "        full_list.append(link)\n",
    "        #preprocessing "
   ]
  },
  {
   "cell_type": "code",
   "execution_count": 22,
   "metadata": {},
   "outputs": [],
   "source": [
    "def dfs():\n",
    "    while stack:\n",
    "        link=stack.pop(0)\n",
    "        search_through_files(link)"
   ]
  },
  {
   "cell_type": "code",
   "execution_count": 23,
   "metadata": {},
   "outputs": [],
   "source": [
    "stack=list()\n",
    "full_list=list()"
   ]
  },
  {
   "cell_type": "code",
   "execution_count": 24,
   "metadata": {},
   "outputs": [],
   "source": [
    "def get_all_relevant_links(url):\n",
    "    driver.get(url)\n",
    "    table=driver.find_element_by_xpath(\"//*[@class='Details-content--hidden-not-important js-navigation-container js-active-navigation-container d-md-block']\")\n",
    "    links=table.find_elements_by_tag_name('a')\n",
    "    for link in links:\n",
    "        href=link.get_attribute('href')\n",
    "        if '/tree/' in href or '.py' in href:\n",
    "            stack.append(href)\n",
    "    dfs()"
   ]
  },
  {
   "cell_type": "code",
   "execution_count": 25,
   "metadata": {},
   "outputs": [
    {
     "output_type": "stream",
     "name": "stderr",
     "text": [
      "ERROR:root:Internal Python error in the inspect module.\n",
      "Below is the traceback from this internal error.\n",
      "\n",
      "Traceback (most recent call last):\n",
      "  File \"c:\\Users\\vedant\\Desktop\\internships\\Auto-dl\\Recomendation\\Recommendation-System\\venv\\lib\\site-packages\\IPython\\core\\interactiveshell.py\", line 3441, in run_code\n",
      "    exec(code_obj, self.user_global_ns, self.user_ns)\n",
      "  File \"C:\\Users\\vedant\\AppData\\Local\\Temp/ipykernel_19320/165085763.py\", line 1, in <module>\n",
      "    res=get_all_relevant_links('https://github.com/Z-yq/TensorflowTTS')\n",
      "  File \"C:\\Users\\vedant\\AppData\\Local\\Temp/ipykernel_19320/1621343523.py\", line 9, in get_all_relevant_links\n",
      "    dfs()\n",
      "  File \"C:\\Users\\vedant\\AppData\\Local\\Temp/ipykernel_19320/3907154364.py\", line 4, in dfs\n",
      "    search_through_files(link)\n",
      "  File \"C:\\Users\\vedant\\AppData\\Local\\Temp/ipykernel_19320/1666837021.py\", line 9, in search_through_files\n",
      "    driver.get(link)\n",
      "  File \"c:\\Users\\vedant\\Desktop\\internships\\Auto-dl\\Recomendation\\Recommendation-System\\venv\\lib\\site-packages\\selenium\\webdriver\\remote\\webdriver.py\", line 333, in get\n",
      "    self.execute(Command.GET, {'url': url})\n",
      "  File \"c:\\Users\\vedant\\Desktop\\internships\\Auto-dl\\Recomendation\\Recommendation-System\\venv\\lib\\site-packages\\selenium\\webdriver\\remote\\webdriver.py\", line 319, in execute\n",
      "    response = self.command_executor.execute(driver_command, params)\n",
      "  File \"c:\\Users\\vedant\\Desktop\\internships\\Auto-dl\\Recomendation\\Recommendation-System\\venv\\lib\\site-packages\\selenium\\webdriver\\remote\\remote_connection.py\", line 374, in execute\n",
      "    return self._request(command_info[0], url, body=data)\n",
      "  File \"c:\\Users\\vedant\\Desktop\\internships\\Auto-dl\\Recomendation\\Recommendation-System\\venv\\lib\\site-packages\\selenium\\webdriver\\remote\\remote_connection.py\", line 397, in _request\n",
      "    resp = self._conn.request(method, url, body=body, headers=headers)\n",
      "  File \"c:\\Users\\vedant\\Desktop\\internships\\Auto-dl\\Recomendation\\Recommendation-System\\venv\\lib\\site-packages\\urllib3\\request.py\", line 78, in request\n",
      "    return self.request_encode_body(\n",
      "  File \"c:\\Users\\vedant\\Desktop\\internships\\Auto-dl\\Recomendation\\Recommendation-System\\venv\\lib\\site-packages\\urllib3\\request.py\", line 170, in request_encode_body\n",
      "    return self.urlopen(method, url, **extra_kw)\n",
      "  File \"c:\\Users\\vedant\\Desktop\\internships\\Auto-dl\\Recomendation\\Recommendation-System\\venv\\lib\\site-packages\\urllib3\\poolmanager.py\", line 375, in urlopen\n",
      "    response = conn.urlopen(method, u.request_uri, **kw)\n",
      "  File \"c:\\Users\\vedant\\Desktop\\internships\\Auto-dl\\Recomendation\\Recommendation-System\\venv\\lib\\site-packages\\urllib3\\connectionpool.py\", line 699, in urlopen\n",
      "    httplib_response = self._make_request(\n",
      "  File \"c:\\Users\\vedant\\Desktop\\internships\\Auto-dl\\Recomendation\\Recommendation-System\\venv\\lib\\site-packages\\urllib3\\connectionpool.py\", line 445, in _make_request\n",
      "    six.raise_from(e, None)\n",
      "  File \"<string>\", line 3, in raise_from\n",
      "  File \"c:\\Users\\vedant\\Desktop\\internships\\Auto-dl\\Recomendation\\Recommendation-System\\venv\\lib\\site-packages\\urllib3\\connectionpool.py\", line 440, in _make_request\n",
      "    httplib_response = conn.getresponse()\n",
      "  File \"c:\\program files\\python38\\lib\\http\\client.py\", line 1322, in getresponse\n",
      "    response.begin()\n",
      "  File \"c:\\program files\\python38\\lib\\http\\client.py\", line 303, in begin\n",
      "    version, status, reason = self._read_status()\n",
      "  File \"c:\\program files\\python38\\lib\\http\\client.py\", line 264, in _read_status\n",
      "    line = str(self.fp.readline(_MAXLINE + 1), \"iso-8859-1\")\n",
      "  File \"c:\\program files\\python38\\lib\\socket.py\", line 669, in readinto\n",
      "    return self._sock.recv_into(b)\n",
      "KeyboardInterrupt\n",
      "\n",
      "During handling of the above exception, another exception occurred:\n",
      "\n",
      "Traceback (most recent call last):\n",
      "  File \"c:\\Users\\vedant\\Desktop\\internships\\Auto-dl\\Recomendation\\Recommendation-System\\venv\\lib\\site-packages\\IPython\\core\\interactiveshell.py\", line 2061, in showtraceback\n",
      "    stb = value._render_traceback_()\n",
      "AttributeError: 'KeyboardInterrupt' object has no attribute '_render_traceback_'\n",
      "\n",
      "During handling of the above exception, another exception occurred:\n",
      "\n",
      "Traceback (most recent call last):\n",
      "  File \"c:\\Users\\vedant\\Desktop\\internships\\Auto-dl\\Recomendation\\Recommendation-System\\venv\\lib\\site-packages\\IPython\\core\\ultratb.py\", line 1101, in get_records\n",
      "    return _fixed_getinnerframes(etb, number_of_lines_of_context, tb_offset)\n",
      "  File \"c:\\Users\\vedant\\Desktop\\internships\\Auto-dl\\Recomendation\\Recommendation-System\\venv\\lib\\site-packages\\IPython\\core\\ultratb.py\", line 248, in wrapped\n",
      "    return f(*args, **kwargs)\n",
      "  File \"c:\\Users\\vedant\\Desktop\\internships\\Auto-dl\\Recomendation\\Recommendation-System\\venv\\lib\\site-packages\\IPython\\core\\ultratb.py\", line 281, in _fixed_getinnerframes\n",
      "    records = fix_frame_records_filenames(inspect.getinnerframes(etb, context))\n",
      "  File \"c:\\program files\\python38\\lib\\inspect.py\", line 1503, in getinnerframes\n",
      "    frameinfo = (tb.tb_frame,) + getframeinfo(tb, context)\n",
      "  File \"c:\\program files\\python38\\lib\\inspect.py\", line 1461, in getframeinfo\n",
      "    filename = getsourcefile(frame) or getfile(frame)\n",
      "  File \"c:\\program files\\python38\\lib\\inspect.py\", line 708, in getsourcefile\n",
      "    if getattr(getmodule(object, filename), '__loader__', None) is not None:\n",
      "  File \"c:\\program files\\python38\\lib\\inspect.py\", line 754, in getmodule\n",
      "    os.path.realpath(f)] = module.__name__\n",
      "  File \"c:\\program files\\python38\\lib\\ntpath.py\", line 664, in realpath\n",
      "    if _getfinalpathname(spath) == path:\n",
      "KeyboardInterrupt\n"
     ]
    },
    {
     "output_type": "error",
     "ename": "TypeError",
     "evalue": "object of type 'NoneType' has no len()",
     "traceback": [
      "\u001b[1;31m---------------------------------------------------------------------------\u001b[0m",
      "\u001b[1;31mKeyboardInterrupt\u001b[0m                         Traceback (most recent call last)",
      "    \u001b[1;31m[... skipping hidden 1 frame]\u001b[0m\n",
      "\u001b[1;32m~\\AppData\\Local\\Temp/ipykernel_19320/165085763.py\u001b[0m in \u001b[0;36m<module>\u001b[1;34m\u001b[0m\n\u001b[1;32m----> 1\u001b[1;33m \u001b[0mres\u001b[0m\u001b[1;33m=\u001b[0m\u001b[0mget_all_relevant_links\u001b[0m\u001b[1;33m(\u001b[0m\u001b[1;34m'https://github.com/Z-yq/TensorflowTTS'\u001b[0m\u001b[1;33m)\u001b[0m\u001b[1;33m\u001b[0m\u001b[1;33m\u001b[0m\u001b[0m\n\u001b[0m",
      "\u001b[1;32m~\\AppData\\Local\\Temp/ipykernel_19320/1621343523.py\u001b[0m in \u001b[0;36mget_all_relevant_links\u001b[1;34m(url)\u001b[0m\n\u001b[0;32m      8\u001b[0m             \u001b[0mstack\u001b[0m\u001b[1;33m.\u001b[0m\u001b[0mappend\u001b[0m\u001b[1;33m(\u001b[0m\u001b[0mhref\u001b[0m\u001b[1;33m)\u001b[0m\u001b[1;33m\u001b[0m\u001b[1;33m\u001b[0m\u001b[0m\n\u001b[1;32m----> 9\u001b[1;33m     \u001b[0mdfs\u001b[0m\u001b[1;33m(\u001b[0m\u001b[1;33m)\u001b[0m\u001b[1;33m\u001b[0m\u001b[1;33m\u001b[0m\u001b[0m\n\u001b[0m",
      "\u001b[1;32m~\\AppData\\Local\\Temp/ipykernel_19320/3907154364.py\u001b[0m in \u001b[0;36mdfs\u001b[1;34m()\u001b[0m\n\u001b[0;32m      3\u001b[0m         \u001b[0mlink\u001b[0m\u001b[1;33m=\u001b[0m\u001b[0mstack\u001b[0m\u001b[1;33m.\u001b[0m\u001b[0mpop\u001b[0m\u001b[1;33m(\u001b[0m\u001b[1;36m0\u001b[0m\u001b[1;33m)\u001b[0m\u001b[1;33m\u001b[0m\u001b[1;33m\u001b[0m\u001b[0m\n\u001b[1;32m----> 4\u001b[1;33m         \u001b[0msearch_through_files\u001b[0m\u001b[1;33m(\u001b[0m\u001b[0mlink\u001b[0m\u001b[1;33m)\u001b[0m\u001b[1;33m\u001b[0m\u001b[1;33m\u001b[0m\u001b[0m\n\u001b[0m",
      "\u001b[1;32m~\\AppData\\Local\\Temp/ipykernel_19320/1666837021.py\u001b[0m in \u001b[0;36msearch_through_files\u001b[1;34m(link)\u001b[0m\n\u001b[0;32m      8\u001b[0m     \u001b[1;32melif\u001b[0m \u001b[1;34m'.py'\u001b[0m \u001b[1;32min\u001b[0m \u001b[0mlink\u001b[0m\u001b[1;33m:\u001b[0m\u001b[1;33m\u001b[0m\u001b[1;33m\u001b[0m\u001b[0m\n\u001b[1;32m----> 9\u001b[1;33m         \u001b[0mdriver\u001b[0m\u001b[1;33m.\u001b[0m\u001b[0mget\u001b[0m\u001b[1;33m(\u001b[0m\u001b[0mlink\u001b[0m\u001b[1;33m)\u001b[0m\u001b[1;33m\u001b[0m\u001b[1;33m\u001b[0m\u001b[0m\n\u001b[0m\u001b[0;32m     10\u001b[0m         \u001b[0mtime\u001b[0m\u001b[1;33m.\u001b[0m\u001b[0msleep\u001b[0m\u001b[1;33m(\u001b[0m\u001b[1;36m2.5\u001b[0m\u001b[1;33m)\u001b[0m\u001b[1;33m\u001b[0m\u001b[1;33m\u001b[0m\u001b[0m\n",
      "\u001b[1;32mc:\\Users\\vedant\\Desktop\\internships\\Auto-dl\\Recomendation\\Recommendation-System\\venv\\lib\\site-packages\\selenium\\webdriver\\remote\\webdriver.py\u001b[0m in \u001b[0;36mget\u001b[1;34m(self, url)\u001b[0m\n\u001b[0;32m    332\u001b[0m         \"\"\"\n\u001b[1;32m--> 333\u001b[1;33m         \u001b[0mself\u001b[0m\u001b[1;33m.\u001b[0m\u001b[0mexecute\u001b[0m\u001b[1;33m(\u001b[0m\u001b[0mCommand\u001b[0m\u001b[1;33m.\u001b[0m\u001b[0mGET\u001b[0m\u001b[1;33m,\u001b[0m \u001b[1;33m{\u001b[0m\u001b[1;34m'url'\u001b[0m\u001b[1;33m:\u001b[0m \u001b[0murl\u001b[0m\u001b[1;33m}\u001b[0m\u001b[1;33m)\u001b[0m\u001b[1;33m\u001b[0m\u001b[1;33m\u001b[0m\u001b[0m\n\u001b[0m\u001b[0;32m    334\u001b[0m \u001b[1;33m\u001b[0m\u001b[0m\n",
      "\u001b[1;32mc:\\Users\\vedant\\Desktop\\internships\\Auto-dl\\Recomendation\\Recommendation-System\\venv\\lib\\site-packages\\selenium\\webdriver\\remote\\webdriver.py\u001b[0m in \u001b[0;36mexecute\u001b[1;34m(self, driver_command, params)\u001b[0m\n\u001b[0;32m    318\u001b[0m         \u001b[0mparams\u001b[0m \u001b[1;33m=\u001b[0m \u001b[0mself\u001b[0m\u001b[1;33m.\u001b[0m\u001b[0m_wrap_value\u001b[0m\u001b[1;33m(\u001b[0m\u001b[0mparams\u001b[0m\u001b[1;33m)\u001b[0m\u001b[1;33m\u001b[0m\u001b[1;33m\u001b[0m\u001b[0m\n\u001b[1;32m--> 319\u001b[1;33m         \u001b[0mresponse\u001b[0m \u001b[1;33m=\u001b[0m \u001b[0mself\u001b[0m\u001b[1;33m.\u001b[0m\u001b[0mcommand_executor\u001b[0m\u001b[1;33m.\u001b[0m\u001b[0mexecute\u001b[0m\u001b[1;33m(\u001b[0m\u001b[0mdriver_command\u001b[0m\u001b[1;33m,\u001b[0m \u001b[0mparams\u001b[0m\u001b[1;33m)\u001b[0m\u001b[1;33m\u001b[0m\u001b[1;33m\u001b[0m\u001b[0m\n\u001b[0m\u001b[0;32m    320\u001b[0m         \u001b[1;32mif\u001b[0m \u001b[0mresponse\u001b[0m\u001b[1;33m:\u001b[0m\u001b[1;33m\u001b[0m\u001b[1;33m\u001b[0m\u001b[0m\n",
      "\u001b[1;32mc:\\Users\\vedant\\Desktop\\internships\\Auto-dl\\Recomendation\\Recommendation-System\\venv\\lib\\site-packages\\selenium\\webdriver\\remote\\remote_connection.py\u001b[0m in \u001b[0;36mexecute\u001b[1;34m(self, command, params)\u001b[0m\n\u001b[0;32m    373\u001b[0m         \u001b[0murl\u001b[0m \u001b[1;33m=\u001b[0m \u001b[1;34m'%s%s'\u001b[0m \u001b[1;33m%\u001b[0m \u001b[1;33m(\u001b[0m\u001b[0mself\u001b[0m\u001b[1;33m.\u001b[0m\u001b[0m_url\u001b[0m\u001b[1;33m,\u001b[0m \u001b[0mpath\u001b[0m\u001b[1;33m)\u001b[0m\u001b[1;33m\u001b[0m\u001b[1;33m\u001b[0m\u001b[0m\n\u001b[1;32m--> 374\u001b[1;33m         \u001b[1;32mreturn\u001b[0m \u001b[0mself\u001b[0m\u001b[1;33m.\u001b[0m\u001b[0m_request\u001b[0m\u001b[1;33m(\u001b[0m\u001b[0mcommand_info\u001b[0m\u001b[1;33m[\u001b[0m\u001b[1;36m0\u001b[0m\u001b[1;33m]\u001b[0m\u001b[1;33m,\u001b[0m \u001b[0murl\u001b[0m\u001b[1;33m,\u001b[0m \u001b[0mbody\u001b[0m\u001b[1;33m=\u001b[0m\u001b[0mdata\u001b[0m\u001b[1;33m)\u001b[0m\u001b[1;33m\u001b[0m\u001b[1;33m\u001b[0m\u001b[0m\n\u001b[0m\u001b[0;32m    375\u001b[0m \u001b[1;33m\u001b[0m\u001b[0m\n",
      "\u001b[1;32mc:\\Users\\vedant\\Desktop\\internships\\Auto-dl\\Recomendation\\Recommendation-System\\venv\\lib\\site-packages\\selenium\\webdriver\\remote\\remote_connection.py\u001b[0m in \u001b[0;36m_request\u001b[1;34m(self, method, url, body)\u001b[0m\n\u001b[0;32m    396\u001b[0m         \u001b[1;32mif\u001b[0m \u001b[0mself\u001b[0m\u001b[1;33m.\u001b[0m\u001b[0mkeep_alive\u001b[0m\u001b[1;33m:\u001b[0m\u001b[1;33m\u001b[0m\u001b[1;33m\u001b[0m\u001b[0m\n\u001b[1;32m--> 397\u001b[1;33m             \u001b[0mresp\u001b[0m \u001b[1;33m=\u001b[0m \u001b[0mself\u001b[0m\u001b[1;33m.\u001b[0m\u001b[0m_conn\u001b[0m\u001b[1;33m.\u001b[0m\u001b[0mrequest\u001b[0m\u001b[1;33m(\u001b[0m\u001b[0mmethod\u001b[0m\u001b[1;33m,\u001b[0m \u001b[0murl\u001b[0m\u001b[1;33m,\u001b[0m \u001b[0mbody\u001b[0m\u001b[1;33m=\u001b[0m\u001b[0mbody\u001b[0m\u001b[1;33m,\u001b[0m \u001b[0mheaders\u001b[0m\u001b[1;33m=\u001b[0m\u001b[0mheaders\u001b[0m\u001b[1;33m)\u001b[0m\u001b[1;33m\u001b[0m\u001b[1;33m\u001b[0m\u001b[0m\n\u001b[0m\u001b[0;32m    398\u001b[0m \u001b[1;33m\u001b[0m\u001b[0m\n",
      "\u001b[1;32mc:\\Users\\vedant\\Desktop\\internships\\Auto-dl\\Recomendation\\Recommendation-System\\venv\\lib\\site-packages\\urllib3\\request.py\u001b[0m in \u001b[0;36mrequest\u001b[1;34m(self, method, url, fields, headers, **urlopen_kw)\u001b[0m\n\u001b[0;32m     77\u001b[0m         \u001b[1;32melse\u001b[0m\u001b[1;33m:\u001b[0m\u001b[1;33m\u001b[0m\u001b[1;33m\u001b[0m\u001b[0m\n\u001b[1;32m---> 78\u001b[1;33m             return self.request_encode_body(\n\u001b[0m\u001b[0;32m     79\u001b[0m                 \u001b[0mmethod\u001b[0m\u001b[1;33m,\u001b[0m \u001b[0murl\u001b[0m\u001b[1;33m,\u001b[0m \u001b[0mfields\u001b[0m\u001b[1;33m=\u001b[0m\u001b[0mfields\u001b[0m\u001b[1;33m,\u001b[0m \u001b[0mheaders\u001b[0m\u001b[1;33m=\u001b[0m\u001b[0mheaders\u001b[0m\u001b[1;33m,\u001b[0m \u001b[1;33m**\u001b[0m\u001b[0murlopen_kw\u001b[0m\u001b[1;33m\u001b[0m\u001b[1;33m\u001b[0m\u001b[0m\n",
      "\u001b[1;32mc:\\Users\\vedant\\Desktop\\internships\\Auto-dl\\Recomendation\\Recommendation-System\\venv\\lib\\site-packages\\urllib3\\request.py\u001b[0m in \u001b[0;36mrequest_encode_body\u001b[1;34m(self, method, url, fields, headers, encode_multipart, multipart_boundary, **urlopen_kw)\u001b[0m\n\u001b[0;32m    169\u001b[0m \u001b[1;33m\u001b[0m\u001b[0m\n\u001b[1;32m--> 170\u001b[1;33m         \u001b[1;32mreturn\u001b[0m \u001b[0mself\u001b[0m\u001b[1;33m.\u001b[0m\u001b[0murlopen\u001b[0m\u001b[1;33m(\u001b[0m\u001b[0mmethod\u001b[0m\u001b[1;33m,\u001b[0m \u001b[0murl\u001b[0m\u001b[1;33m,\u001b[0m \u001b[1;33m**\u001b[0m\u001b[0mextra_kw\u001b[0m\u001b[1;33m)\u001b[0m\u001b[1;33m\u001b[0m\u001b[1;33m\u001b[0m\u001b[0m\n\u001b[0m",
      "\u001b[1;32mc:\\Users\\vedant\\Desktop\\internships\\Auto-dl\\Recomendation\\Recommendation-System\\venv\\lib\\site-packages\\urllib3\\poolmanager.py\u001b[0m in \u001b[0;36murlopen\u001b[1;34m(self, method, url, redirect, **kw)\u001b[0m\n\u001b[0;32m    374\u001b[0m         \u001b[1;32melse\u001b[0m\u001b[1;33m:\u001b[0m\u001b[1;33m\u001b[0m\u001b[1;33m\u001b[0m\u001b[0m\n\u001b[1;32m--> 375\u001b[1;33m             \u001b[0mresponse\u001b[0m \u001b[1;33m=\u001b[0m \u001b[0mconn\u001b[0m\u001b[1;33m.\u001b[0m\u001b[0murlopen\u001b[0m\u001b[1;33m(\u001b[0m\u001b[0mmethod\u001b[0m\u001b[1;33m,\u001b[0m \u001b[0mu\u001b[0m\u001b[1;33m.\u001b[0m\u001b[0mrequest_uri\u001b[0m\u001b[1;33m,\u001b[0m \u001b[1;33m**\u001b[0m\u001b[0mkw\u001b[0m\u001b[1;33m)\u001b[0m\u001b[1;33m\u001b[0m\u001b[1;33m\u001b[0m\u001b[0m\n\u001b[0m\u001b[0;32m    376\u001b[0m \u001b[1;33m\u001b[0m\u001b[0m\n",
      "\u001b[1;32mc:\\Users\\vedant\\Desktop\\internships\\Auto-dl\\Recomendation\\Recommendation-System\\venv\\lib\\site-packages\\urllib3\\connectionpool.py\u001b[0m in \u001b[0;36murlopen\u001b[1;34m(self, method, url, body, headers, retries, redirect, assert_same_host, timeout, pool_timeout, release_conn, chunked, body_pos, **response_kw)\u001b[0m\n\u001b[0;32m    698\u001b[0m             \u001b[1;31m# Make the request on the httplib connection object.\u001b[0m\u001b[1;33m\u001b[0m\u001b[1;33m\u001b[0m\u001b[1;33m\u001b[0m\u001b[0m\n\u001b[1;32m--> 699\u001b[1;33m             httplib_response = self._make_request(\n\u001b[0m\u001b[0;32m    700\u001b[0m                 \u001b[0mconn\u001b[0m\u001b[1;33m,\u001b[0m\u001b[1;33m\u001b[0m\u001b[1;33m\u001b[0m\u001b[0m\n",
      "\u001b[1;32mc:\\Users\\vedant\\Desktop\\internships\\Auto-dl\\Recomendation\\Recommendation-System\\venv\\lib\\site-packages\\urllib3\\connectionpool.py\u001b[0m in \u001b[0;36m_make_request\u001b[1;34m(self, conn, method, url, timeout, chunked, **httplib_request_kw)\u001b[0m\n\u001b[0;32m    444\u001b[0m                     \u001b[1;31m# Otherwise it looks like a bug in the code.\u001b[0m\u001b[1;33m\u001b[0m\u001b[1;33m\u001b[0m\u001b[1;33m\u001b[0m\u001b[0m\n\u001b[1;32m--> 445\u001b[1;33m                     \u001b[0msix\u001b[0m\u001b[1;33m.\u001b[0m\u001b[0mraise_from\u001b[0m\u001b[1;33m(\u001b[0m\u001b[0me\u001b[0m\u001b[1;33m,\u001b[0m \u001b[1;32mNone\u001b[0m\u001b[1;33m)\u001b[0m\u001b[1;33m\u001b[0m\u001b[1;33m\u001b[0m\u001b[0m\n\u001b[0m\u001b[0;32m    446\u001b[0m         \u001b[1;32mexcept\u001b[0m \u001b[1;33m(\u001b[0m\u001b[0mSocketTimeout\u001b[0m\u001b[1;33m,\u001b[0m \u001b[0mBaseSSLError\u001b[0m\u001b[1;33m,\u001b[0m \u001b[0mSocketError\u001b[0m\u001b[1;33m)\u001b[0m \u001b[1;32mas\u001b[0m \u001b[0me\u001b[0m\u001b[1;33m:\u001b[0m\u001b[1;33m\u001b[0m\u001b[1;33m\u001b[0m\u001b[0m\n",
      "\u001b[1;32mc:\\Users\\vedant\\Desktop\\internships\\Auto-dl\\Recomendation\\Recommendation-System\\venv\\lib\\site-packages\\urllib3\\packages\\six.py\u001b[0m in \u001b[0;36mraise_from\u001b[1;34m(value, from_value)\u001b[0m\n",
      "\u001b[1;32mc:\\Users\\vedant\\Desktop\\internships\\Auto-dl\\Recomendation\\Recommendation-System\\venv\\lib\\site-packages\\urllib3\\connectionpool.py\u001b[0m in \u001b[0;36m_make_request\u001b[1;34m(self, conn, method, url, timeout, chunked, **httplib_request_kw)\u001b[0m\n\u001b[0;32m    439\u001b[0m                 \u001b[1;32mtry\u001b[0m\u001b[1;33m:\u001b[0m\u001b[1;33m\u001b[0m\u001b[1;33m\u001b[0m\u001b[0m\n\u001b[1;32m--> 440\u001b[1;33m                     \u001b[0mhttplib_response\u001b[0m \u001b[1;33m=\u001b[0m \u001b[0mconn\u001b[0m\u001b[1;33m.\u001b[0m\u001b[0mgetresponse\u001b[0m\u001b[1;33m(\u001b[0m\u001b[1;33m)\u001b[0m\u001b[1;33m\u001b[0m\u001b[1;33m\u001b[0m\u001b[0m\n\u001b[0m\u001b[0;32m    441\u001b[0m                 \u001b[1;32mexcept\u001b[0m \u001b[0mBaseException\u001b[0m \u001b[1;32mas\u001b[0m \u001b[0me\u001b[0m\u001b[1;33m:\u001b[0m\u001b[1;33m\u001b[0m\u001b[1;33m\u001b[0m\u001b[0m\n",
      "\u001b[1;32mc:\\program files\\python38\\lib\\http\\client.py\u001b[0m in \u001b[0;36mgetresponse\u001b[1;34m(self)\u001b[0m\n\u001b[0;32m   1321\u001b[0m             \u001b[1;32mtry\u001b[0m\u001b[1;33m:\u001b[0m\u001b[1;33m\u001b[0m\u001b[1;33m\u001b[0m\u001b[0m\n\u001b[1;32m-> 1322\u001b[1;33m                 \u001b[0mresponse\u001b[0m\u001b[1;33m.\u001b[0m\u001b[0mbegin\u001b[0m\u001b[1;33m(\u001b[0m\u001b[1;33m)\u001b[0m\u001b[1;33m\u001b[0m\u001b[1;33m\u001b[0m\u001b[0m\n\u001b[0m\u001b[0;32m   1323\u001b[0m             \u001b[1;32mexcept\u001b[0m \u001b[0mConnectionError\u001b[0m\u001b[1;33m:\u001b[0m\u001b[1;33m\u001b[0m\u001b[1;33m\u001b[0m\u001b[0m\n",
      "\u001b[1;32mc:\\program files\\python38\\lib\\http\\client.py\u001b[0m in \u001b[0;36mbegin\u001b[1;34m(self)\u001b[0m\n\u001b[0;32m    302\u001b[0m         \u001b[1;32mwhile\u001b[0m \u001b[1;32mTrue\u001b[0m\u001b[1;33m:\u001b[0m\u001b[1;33m\u001b[0m\u001b[1;33m\u001b[0m\u001b[0m\n\u001b[1;32m--> 303\u001b[1;33m             \u001b[0mversion\u001b[0m\u001b[1;33m,\u001b[0m \u001b[0mstatus\u001b[0m\u001b[1;33m,\u001b[0m \u001b[0mreason\u001b[0m \u001b[1;33m=\u001b[0m \u001b[0mself\u001b[0m\u001b[1;33m.\u001b[0m\u001b[0m_read_status\u001b[0m\u001b[1;33m(\u001b[0m\u001b[1;33m)\u001b[0m\u001b[1;33m\u001b[0m\u001b[1;33m\u001b[0m\u001b[0m\n\u001b[0m\u001b[0;32m    304\u001b[0m             \u001b[1;32mif\u001b[0m \u001b[0mstatus\u001b[0m \u001b[1;33m!=\u001b[0m \u001b[0mCONTINUE\u001b[0m\u001b[1;33m:\u001b[0m\u001b[1;33m\u001b[0m\u001b[1;33m\u001b[0m\u001b[0m\n",
      "\u001b[1;32mc:\\program files\\python38\\lib\\http\\client.py\u001b[0m in \u001b[0;36m_read_status\u001b[1;34m(self)\u001b[0m\n\u001b[0;32m    263\u001b[0m     \u001b[1;32mdef\u001b[0m \u001b[0m_read_status\u001b[0m\u001b[1;33m(\u001b[0m\u001b[0mself\u001b[0m\u001b[1;33m)\u001b[0m\u001b[1;33m:\u001b[0m\u001b[1;33m\u001b[0m\u001b[1;33m\u001b[0m\u001b[0m\n\u001b[1;32m--> 264\u001b[1;33m         \u001b[0mline\u001b[0m \u001b[1;33m=\u001b[0m \u001b[0mstr\u001b[0m\u001b[1;33m(\u001b[0m\u001b[0mself\u001b[0m\u001b[1;33m.\u001b[0m\u001b[0mfp\u001b[0m\u001b[1;33m.\u001b[0m\u001b[0mreadline\u001b[0m\u001b[1;33m(\u001b[0m\u001b[0m_MAXLINE\u001b[0m \u001b[1;33m+\u001b[0m \u001b[1;36m1\u001b[0m\u001b[1;33m)\u001b[0m\u001b[1;33m,\u001b[0m \u001b[1;34m\"iso-8859-1\"\u001b[0m\u001b[1;33m)\u001b[0m\u001b[1;33m\u001b[0m\u001b[1;33m\u001b[0m\u001b[0m\n\u001b[0m\u001b[0;32m    265\u001b[0m         \u001b[1;32mif\u001b[0m \u001b[0mlen\u001b[0m\u001b[1;33m(\u001b[0m\u001b[0mline\u001b[0m\u001b[1;33m)\u001b[0m \u001b[1;33m>\u001b[0m \u001b[0m_MAXLINE\u001b[0m\u001b[1;33m:\u001b[0m\u001b[1;33m\u001b[0m\u001b[1;33m\u001b[0m\u001b[0m\n",
      "\u001b[1;32mc:\\program files\\python38\\lib\\socket.py\u001b[0m in \u001b[0;36mreadinto\u001b[1;34m(self, b)\u001b[0m\n\u001b[0;32m    668\u001b[0m             \u001b[1;32mtry\u001b[0m\u001b[1;33m:\u001b[0m\u001b[1;33m\u001b[0m\u001b[1;33m\u001b[0m\u001b[0m\n\u001b[1;32m--> 669\u001b[1;33m                 \u001b[1;32mreturn\u001b[0m \u001b[0mself\u001b[0m\u001b[1;33m.\u001b[0m\u001b[0m_sock\u001b[0m\u001b[1;33m.\u001b[0m\u001b[0mrecv_into\u001b[0m\u001b[1;33m(\u001b[0m\u001b[0mb\u001b[0m\u001b[1;33m)\u001b[0m\u001b[1;33m\u001b[0m\u001b[1;33m\u001b[0m\u001b[0m\n\u001b[0m\u001b[0;32m    670\u001b[0m             \u001b[1;32mexcept\u001b[0m \u001b[0mtimeout\u001b[0m\u001b[1;33m:\u001b[0m\u001b[1;33m\u001b[0m\u001b[1;33m\u001b[0m\u001b[0m\n",
      "\u001b[1;31mKeyboardInterrupt\u001b[0m: ",
      "\nDuring handling of the above exception, another exception occurred:\n",
      "\u001b[1;31mAttributeError\u001b[0m                            Traceback (most recent call last)",
      "\u001b[1;32mc:\\Users\\vedant\\Desktop\\internships\\Auto-dl\\Recomendation\\Recommendation-System\\venv\\lib\\site-packages\\IPython\\core\\interactiveshell.py\u001b[0m in \u001b[0;36mshowtraceback\u001b[1;34m(self, exc_tuple, filename, tb_offset, exception_only, running_compiled_code)\u001b[0m\n\u001b[0;32m   2060\u001b[0m                         \u001b[1;31m# in the engines. This should return a list of strings.\u001b[0m\u001b[1;33m\u001b[0m\u001b[1;33m\u001b[0m\u001b[1;33m\u001b[0m\u001b[0m\n\u001b[1;32m-> 2061\u001b[1;33m                         \u001b[0mstb\u001b[0m \u001b[1;33m=\u001b[0m \u001b[0mvalue\u001b[0m\u001b[1;33m.\u001b[0m\u001b[0m_render_traceback_\u001b[0m\u001b[1;33m(\u001b[0m\u001b[1;33m)\u001b[0m\u001b[1;33m\u001b[0m\u001b[1;33m\u001b[0m\u001b[0m\n\u001b[0m\u001b[0;32m   2062\u001b[0m                     \u001b[1;32mexcept\u001b[0m \u001b[0mException\u001b[0m\u001b[1;33m:\u001b[0m\u001b[1;33m\u001b[0m\u001b[1;33m\u001b[0m\u001b[0m\n",
      "\u001b[1;31mAttributeError\u001b[0m: 'KeyboardInterrupt' object has no attribute '_render_traceback_'",
      "\nDuring handling of the above exception, another exception occurred:\n",
      "\u001b[1;31mTypeError\u001b[0m                                 Traceback (most recent call last)",
      "    \u001b[1;31m[... skipping hidden 1 frame]\u001b[0m\n",
      "\u001b[1;32mc:\\Users\\vedant\\Desktop\\internships\\Auto-dl\\Recomendation\\Recommendation-System\\venv\\lib\\site-packages\\IPython\\core\\interactiveshell.py\u001b[0m in \u001b[0;36mshowtraceback\u001b[1;34m(self, exc_tuple, filename, tb_offset, exception_only, running_compiled_code)\u001b[0m\n\u001b[0;32m   2061\u001b[0m                         \u001b[0mstb\u001b[0m \u001b[1;33m=\u001b[0m \u001b[0mvalue\u001b[0m\u001b[1;33m.\u001b[0m\u001b[0m_render_traceback_\u001b[0m\u001b[1;33m(\u001b[0m\u001b[1;33m)\u001b[0m\u001b[1;33m\u001b[0m\u001b[1;33m\u001b[0m\u001b[0m\n\u001b[0;32m   2062\u001b[0m                     \u001b[1;32mexcept\u001b[0m \u001b[0mException\u001b[0m\u001b[1;33m:\u001b[0m\u001b[1;33m\u001b[0m\u001b[1;33m\u001b[0m\u001b[0m\n\u001b[1;32m-> 2063\u001b[1;33m                         stb = self.InteractiveTB.structured_traceback(etype,\n\u001b[0m\u001b[0;32m   2064\u001b[0m                                             value, tb, tb_offset=tb_offset)\n\u001b[0;32m   2065\u001b[0m \u001b[1;33m\u001b[0m\u001b[0m\n",
      "\u001b[1;32mc:\\Users\\vedant\\Desktop\\internships\\Auto-dl\\Recomendation\\Recommendation-System\\venv\\lib\\site-packages\\IPython\\core\\ultratb.py\u001b[0m in \u001b[0;36mstructured_traceback\u001b[1;34m(self, etype, value, tb, tb_offset, number_of_lines_of_context)\u001b[0m\n\u001b[0;32m   1365\u001b[0m         \u001b[1;32melse\u001b[0m\u001b[1;33m:\u001b[0m\u001b[1;33m\u001b[0m\u001b[1;33m\u001b[0m\u001b[0m\n\u001b[0;32m   1366\u001b[0m             \u001b[0mself\u001b[0m\u001b[1;33m.\u001b[0m\u001b[0mtb\u001b[0m \u001b[1;33m=\u001b[0m \u001b[0mtb\u001b[0m\u001b[1;33m\u001b[0m\u001b[1;33m\u001b[0m\u001b[0m\n\u001b[1;32m-> 1367\u001b[1;33m         return FormattedTB.structured_traceback(\n\u001b[0m\u001b[0;32m   1368\u001b[0m             self, etype, value, tb, tb_offset, number_of_lines_of_context)\n\u001b[0;32m   1369\u001b[0m \u001b[1;33m\u001b[0m\u001b[0m\n",
      "\u001b[1;32mc:\\Users\\vedant\\Desktop\\internships\\Auto-dl\\Recomendation\\Recommendation-System\\venv\\lib\\site-packages\\IPython\\core\\ultratb.py\u001b[0m in \u001b[0;36mstructured_traceback\u001b[1;34m(self, etype, value, tb, tb_offset, number_of_lines_of_context)\u001b[0m\n\u001b[0;32m   1265\u001b[0m         \u001b[1;32mif\u001b[0m \u001b[0mmode\u001b[0m \u001b[1;32min\u001b[0m \u001b[0mself\u001b[0m\u001b[1;33m.\u001b[0m\u001b[0mverbose_modes\u001b[0m\u001b[1;33m:\u001b[0m\u001b[1;33m\u001b[0m\u001b[1;33m\u001b[0m\u001b[0m\n\u001b[0;32m   1266\u001b[0m             \u001b[1;31m# Verbose modes need a full traceback\u001b[0m\u001b[1;33m\u001b[0m\u001b[1;33m\u001b[0m\u001b[1;33m\u001b[0m\u001b[0m\n\u001b[1;32m-> 1267\u001b[1;33m             return VerboseTB.structured_traceback(\n\u001b[0m\u001b[0;32m   1268\u001b[0m                 \u001b[0mself\u001b[0m\u001b[1;33m,\u001b[0m \u001b[0metype\u001b[0m\u001b[1;33m,\u001b[0m \u001b[0mvalue\u001b[0m\u001b[1;33m,\u001b[0m \u001b[0mtb\u001b[0m\u001b[1;33m,\u001b[0m \u001b[0mtb_offset\u001b[0m\u001b[1;33m,\u001b[0m \u001b[0mnumber_of_lines_of_context\u001b[0m\u001b[1;33m\u001b[0m\u001b[1;33m\u001b[0m\u001b[0m\n\u001b[0;32m   1269\u001b[0m             )\n",
      "\u001b[1;32mc:\\Users\\vedant\\Desktop\\internships\\Auto-dl\\Recomendation\\Recommendation-System\\venv\\lib\\site-packages\\IPython\\core\\ultratb.py\u001b[0m in \u001b[0;36mstructured_traceback\u001b[1;34m(self, etype, evalue, etb, tb_offset, number_of_lines_of_context)\u001b[0m\n\u001b[0;32m   1122\u001b[0m         \u001b[1;34m\"\"\"Return a nice text document describing the traceback.\"\"\"\u001b[0m\u001b[1;33m\u001b[0m\u001b[1;33m\u001b[0m\u001b[0m\n\u001b[0;32m   1123\u001b[0m \u001b[1;33m\u001b[0m\u001b[0m\n\u001b[1;32m-> 1124\u001b[1;33m         formatted_exception = self.format_exception_as_a_whole(etype, evalue, etb, number_of_lines_of_context,\n\u001b[0m\u001b[0;32m   1125\u001b[0m                                                                tb_offset)\n\u001b[0;32m   1126\u001b[0m \u001b[1;33m\u001b[0m\u001b[0m\n",
      "\u001b[1;32mc:\\Users\\vedant\\Desktop\\internships\\Auto-dl\\Recomendation\\Recommendation-System\\venv\\lib\\site-packages\\IPython\\core\\ultratb.py\u001b[0m in \u001b[0;36mformat_exception_as_a_whole\u001b[1;34m(self, etype, evalue, etb, number_of_lines_of_context, tb_offset)\u001b[0m\n\u001b[0;32m   1080\u001b[0m \u001b[1;33m\u001b[0m\u001b[0m\n\u001b[0;32m   1081\u001b[0m \u001b[1;33m\u001b[0m\u001b[0m\n\u001b[1;32m-> 1082\u001b[1;33m         \u001b[0mlast_unique\u001b[0m\u001b[1;33m,\u001b[0m \u001b[0mrecursion_repeat\u001b[0m \u001b[1;33m=\u001b[0m \u001b[0mfind_recursion\u001b[0m\u001b[1;33m(\u001b[0m\u001b[0morig_etype\u001b[0m\u001b[1;33m,\u001b[0m \u001b[0mevalue\u001b[0m\u001b[1;33m,\u001b[0m \u001b[0mrecords\u001b[0m\u001b[1;33m)\u001b[0m\u001b[1;33m\u001b[0m\u001b[1;33m\u001b[0m\u001b[0m\n\u001b[0m\u001b[0;32m   1083\u001b[0m \u001b[1;33m\u001b[0m\u001b[0m\n\u001b[0;32m   1084\u001b[0m         \u001b[0mframes\u001b[0m \u001b[1;33m=\u001b[0m \u001b[0mself\u001b[0m\u001b[1;33m.\u001b[0m\u001b[0mformat_records\u001b[0m\u001b[1;33m(\u001b[0m\u001b[0mrecords\u001b[0m\u001b[1;33m,\u001b[0m \u001b[0mlast_unique\u001b[0m\u001b[1;33m,\u001b[0m \u001b[0mrecursion_repeat\u001b[0m\u001b[1;33m)\u001b[0m\u001b[1;33m\u001b[0m\u001b[1;33m\u001b[0m\u001b[0m\n",
      "\u001b[1;32mc:\\Users\\vedant\\Desktop\\internships\\Auto-dl\\Recomendation\\Recommendation-System\\venv\\lib\\site-packages\\IPython\\core\\ultratb.py\u001b[0m in \u001b[0;36mfind_recursion\u001b[1;34m(etype, value, records)\u001b[0m\n\u001b[0;32m    380\u001b[0m     \u001b[1;31m# first frame (from in to out) that looks different.\u001b[0m\u001b[1;33m\u001b[0m\u001b[1;33m\u001b[0m\u001b[1;33m\u001b[0m\u001b[0m\n\u001b[0;32m    381\u001b[0m     \u001b[1;32mif\u001b[0m \u001b[1;32mnot\u001b[0m \u001b[0mis_recursion_error\u001b[0m\u001b[1;33m(\u001b[0m\u001b[0metype\u001b[0m\u001b[1;33m,\u001b[0m \u001b[0mvalue\u001b[0m\u001b[1;33m,\u001b[0m \u001b[0mrecords\u001b[0m\u001b[1;33m)\u001b[0m\u001b[1;33m:\u001b[0m\u001b[1;33m\u001b[0m\u001b[1;33m\u001b[0m\u001b[0m\n\u001b[1;32m--> 382\u001b[1;33m         \u001b[1;32mreturn\u001b[0m \u001b[0mlen\u001b[0m\u001b[1;33m(\u001b[0m\u001b[0mrecords\u001b[0m\u001b[1;33m)\u001b[0m\u001b[1;33m,\u001b[0m \u001b[1;36m0\u001b[0m\u001b[1;33m\u001b[0m\u001b[1;33m\u001b[0m\u001b[0m\n\u001b[0m\u001b[0;32m    383\u001b[0m \u001b[1;33m\u001b[0m\u001b[0m\n\u001b[0;32m    384\u001b[0m     \u001b[1;31m# Select filename, lineno, func_name to track frames with\u001b[0m\u001b[1;33m\u001b[0m\u001b[1;33m\u001b[0m\u001b[1;33m\u001b[0m\u001b[0m\n",
      "\u001b[1;31mTypeError\u001b[0m: object of type 'NoneType' has no len()"
     ]
    }
   ],
   "source": [
    "res=get_all_relevant_links('https://github.com/Z-yq/TensorflowTTS')"
   ]
  },
  {
   "cell_type": "code",
   "execution_count": 56,
   "metadata": {},
   "outputs": [
    {
     "output_type": "stream",
     "name": "stdout",
     "text": [
      "['https://github.com/Z-yq/TensorflowTTS/blob/main/fastspeech_extract_features.py', 'https://github.com/Z-yq/TensorflowTTS/blob/main/run-test.py', 'https://github.com/Z-yq/TensorflowTTS/blob/main/tacotron_extract_features.py', 'https://github.com/Z-yq/TensorflowTTS/blob/main/train_acoustic.py', 'https://github.com/Z-yq/TensorflowTTS/blob/main/train_vocoder.py', 'https://github.com/Z-yq/TensorflowTTS/blob/main/dataloaders/fastspeech_dataloader.py', 'https://github.com/Z-yq/TensorflowTTS/blob/main/dataloaders/tacotron_dataloader.py', 'https://github.com/Z-yq/TensorflowTTS/blob/main/dataloaders/vocoder_dataloader.py', 'https://github.com/Z-yq/TensorflowTTS/blob/main/models/__init__.py', 'https://github.com/Z-yq/TensorflowTTS/blob/main/models/conformer.py', 'https://github.com/Z-yq/TensorflowTTS/blob/main/models/fastspeech.py', 'https://github.com/Z-yq/TensorflowTTS/blob/main/models/model.py', 'https://github.com/Z-yq/TensorflowTTS/blob/main/models/positional_encoding.py', 'https://github.com/Z-yq/TensorflowTTS/blob/main/models/switchnorm.py', 'https://github.com/Z-yq/TensorflowTTS/blob/main/models/tacotron2.py', 'https://github.com/Z-yq/TensorflowTTS/blob/main/models/vocoder.py', 'https://github.com/Z-yq/TensorflowTTS/blob/main/models/weight_norm.py', 'https://github.com/Z-yq/TensorflowTTS/blob/main/synthesizer/synthesizer_fastspeech.py', 'https://github.com/Z-yq/TensorflowTTS/blob/main/synthesizer/synthesizer_tacotron.py', 'https://github.com/Z-yq/TensorflowTTS/blob/main/trainer/base_runners.py', 'https://github.com/Z-yq/TensorflowTTS/blob/main/trainer/fastspeech_trainer.py', 'https://github.com/Z-yq/TensorflowTTS/blob/main/trainer/tacotron_trainer.py', 'https://github.com/Z-yq/TensorflowTTS/blob/main/trainer/vocoder_trainer.py', 'https://github.com/Z-yq/TensorflowTTS/blob/main/utils/decoder.py', 'https://github.com/Z-yq/TensorflowTTS/blob/main/utils/normalize.py', 'https://github.com/Z-yq/TensorflowTTS/blob/main/utils/plot.py', 'https://github.com/Z-yq/TensorflowTTS/blob/main/utils/speech_featurizers.py', 'https://github.com/Z-yq/TensorflowTTS/blob/main/utils/stft.py', 'https://github.com/Z-yq/TensorflowTTS/blob/main/utils/text_featurizers.py', 'https://github.com/Z-yq/TensorflowTTS/blob/main/utils/tools.py', 'https://github.com/Z-yq/TensorflowTTS/blob/main/utils/user_config.py', 'https://github.com/Z-yq/TensorflowTTS/blob/main/utils/utils.py', 'https://github.com/Z-yq/TensorflowTTS/blob/main/models/layers/LayerNormLstmCell.py', 'https://github.com/Z-yq/TensorflowTTS/blob/main/models/layers/__init__.py', 'https://github.com/Z-yq/TensorflowTTS/blob/main/models/layers/backend.py', 'https://github.com/Z-yq/TensorflowTTS/blob/main/models/layers/backend_keras.py', 'https://github.com/Z-yq/TensorflowTTS/blob/main/models/layers/decoder.py', 'https://github.com/Z-yq/TensorflowTTS/blob/main/models/layers/filterbank.py', 'https://github.com/Z-yq/TensorflowTTS/blob/main/models/layers/frame_wise_batch_norm_lstm_cell.py', 'https://github.com/Z-yq/TensorflowTTS/blob/main/models/layers/merge_two_last_dims.py', 'https://github.com/Z-yq/TensorflowTTS/blob/main/models/layers/multihead_attention.py', 'https://github.com/Z-yq/TensorflowTTS/blob/main/models/layers/multihead_self_attention.py', 'https://github.com/Z-yq/TensorflowTTS/blob/main/models/layers/point_wise_ffn.py', 'https://github.com/Z-yq/TensorflowTTS/blob/main/models/layers/positional_encoding.py', 'https://github.com/Z-yq/TensorflowTTS/blob/main/models/layers/row_conv_1d.py', 'https://github.com/Z-yq/TensorflowTTS/blob/main/models/layers/sequence_wise_batch_norm.py', 'https://github.com/Z-yq/TensorflowTTS/blob/main/models/layers/switchnorm.py', 'https://github.com/Z-yq/TensorflowTTS/blob/main/models/layers/time_frequency.py', 'https://github.com/Z-yq/TensorflowTTS/blob/main/models/layers/time_reduction.py', 'https://github.com/Z-yq/TensorflowTTS/blob/main/models/layers/transpose_time_major.py', 'https://github.com/Z-yq/TensorflowTTS/blob/main/models/layers/utils.py', 'https://github.com/Z-yq/TensorflowTTS/blob/main/models/__init__.py', 'https://github.com/Z-yq/TensorflowTTS/blob/main/models/conformer.py', 'https://github.com/Z-yq/TensorflowTTS/blob/main/models/fastspeech.py', 'https://github.com/Z-yq/TensorflowTTS/blob/main/models/model.py', 'https://github.com/Z-yq/TensorflowTTS/blob/main/models/positional_encoding.py', 'https://github.com/Z-yq/TensorflowTTS/blob/main/models/switchnorm.py', 'https://github.com/Z-yq/TensorflowTTS/blob/main/models/tacotron2.py', 'https://github.com/Z-yq/TensorflowTTS/blob/main/models/vocoder.py', 'https://github.com/Z-yq/TensorflowTTS/blob/main/models/weight_norm.py', 'https://github.com/Z-yq/TensorflowTTS/blob/main/models/layers/LayerNormLstmCell.py', 'https://github.com/Z-yq/TensorflowTTS/blob/main/models/layers/__init__.py', 'https://github.com/Z-yq/TensorflowTTS/blob/main/models/layers/backend.py', 'https://github.com/Z-yq/TensorflowTTS/blob/main/models/layers/backend_keras.py', 'https://github.com/Z-yq/TensorflowTTS/blob/main/models/layers/decoder.py', 'https://github.com/Z-yq/TensorflowTTS/blob/main/models/layers/filterbank.py', 'https://github.com/Z-yq/TensorflowTTS/blob/main/models/layers/frame_wise_batch_norm_lstm_cell.py', 'https://github.com/Z-yq/TensorflowTTS/blob/main/models/layers/merge_two_last_dims.py', 'https://github.com/Z-yq/TensorflowTTS/blob/main/models/layers/multihead_attention.py', 'https://github.com/Z-yq/TensorflowTTS/blob/main/models/layers/multihead_self_attention.py', 'https://github.com/Z-yq/TensorflowTTS/blob/main/models/layers/point_wise_ffn.py', 'https://github.com/Z-yq/TensorflowTTS/blob/main/models/layers/positional_encoding.py', 'https://github.com/Z-yq/TensorflowTTS/blob/main/models/layers/row_conv_1d.py', 'https://github.com/Z-yq/TensorflowTTS/blob/main/models/layers/sequence_wise_batch_norm.py', 'https://github.com/Z-yq/TensorflowTTS/blob/main/models/layers/switchnorm.py', 'https://github.com/Z-yq/TensorflowTTS/blob/main/models/layers/time_frequency.py', 'https://github.com/Z-yq/TensorflowTTS/blob/main/models/layers/time_reduction.py', 'https://github.com/Z-yq/TensorflowTTS/blob/main/models/layers/transpose_time_major.py', 'https://github.com/Z-yq/TensorflowTTS/blob/main/models/layers/utils.py', 'https://github.com/Z-yq/TensorflowTTS/blob/main/models/__init__.py', 'https://github.com/Z-yq/TensorflowTTS/blob/main/models/conformer.py', 'https://github.com/Z-yq/TensorflowTTS/blob/main/models/fastspeech.py', 'https://github.com/Z-yq/TensorflowTTS/blob/main/models/model.py', 'https://github.com/Z-yq/TensorflowTTS/blob/main/models/positional_encoding.py', 'https://github.com/Z-yq/TensorflowTTS/blob/main/models/switchnorm.py', 'https://github.com/Z-yq/TensorflowTTS/blob/main/models/tacotron2.py', 'https://github.com/Z-yq/TensorflowTTS/blob/main/models/vocoder.py', 'https://github.com/Z-yq/TensorflowTTS/blob/main/models/weight_norm.py', 'https://github.com/Z-yq/TensorflowTTS/blob/main/models/layers/LayerNormLstmCell.py', 'https://github.com/Z-yq/TensorflowTTS/blob/main/models/layers/__init__.py', 'https://github.com/Z-yq/TensorflowTTS/blob/main/models/layers/backend.py', 'https://github.com/Z-yq/TensorflowTTS/blob/main/models/layers/backend_keras.py', 'https://github.com/Z-yq/TensorflowTTS/blob/main/models/layers/decoder.py', 'https://github.com/Z-yq/TensorflowTTS/blob/main/models/layers/filterbank.py', 'https://github.com/Z-yq/TensorflowTTS/blob/main/models/layers/frame_wise_batch_norm_lstm_cell.py', 'https://github.com/Z-yq/TensorflowTTS/blob/main/models/layers/merge_two_last_dims.py', 'https://github.com/Z-yq/TensorflowTTS/blob/main/models/layers/multihead_attention.py', 'https://github.com/Z-yq/TensorflowTTS/blob/main/models/layers/multihead_self_attention.py', 'https://github.com/Z-yq/TensorflowTTS/blob/main/models/layers/point_wise_ffn.py', 'https://github.com/Z-yq/TensorflowTTS/blob/main/models/layers/positional_encoding.py', 'https://github.com/Z-yq/TensorflowTTS/blob/main/models/layers/row_conv_1d.py', 'https://github.com/Z-yq/TensorflowTTS/blob/main/models/layers/sequence_wise_batch_norm.py', 'https://github.com/Z-yq/TensorflowTTS/blob/main/models/layers/switchnorm.py', 'https://github.com/Z-yq/TensorflowTTS/blob/main/models/layers/time_frequency.py', 'https://github.com/Z-yq/TensorflowTTS/blob/main/models/layers/time_reduction.py', 'https://github.com/Z-yq/TensorflowTTS/blob/main/models/layers/transpose_time_major.py', 'https://github.com/Z-yq/TensorflowTTS/blob/main/models/layers/utils.py', 'https://github.com/Z-yq/TensorflowTTS/blob/main/models/__init__.py', 'https://github.com/Z-yq/TensorflowTTS/blob/main/models/conformer.py', 'https://github.com/Z-yq/TensorflowTTS/blob/main/models/fastspeech.py', 'https://github.com/Z-yq/TensorflowTTS/blob/main/models/model.py', 'https://github.com/Z-yq/TensorflowTTS/blob/main/models/positional_encoding.py', 'https://github.com/Z-yq/TensorflowTTS/blob/main/models/switchnorm.py', 'https://github.com/Z-yq/TensorflowTTS/blob/main/models/tacotron2.py', 'https://github.com/Z-yq/TensorflowTTS/blob/main/models/vocoder.py', 'https://github.com/Z-yq/TensorflowTTS/blob/main/models/weight_norm.py', 'https://github.com/Z-yq/TensorflowTTS/blob/main/models/layers/LayerNormLstmCell.py', 'https://github.com/Z-yq/TensorflowTTS/blob/main/models/layers/__init__.py', 'https://github.com/Z-yq/TensorflowTTS/blob/main/models/layers/backend.py', 'https://github.com/Z-yq/TensorflowTTS/blob/main/models/layers/backend_keras.py', 'https://github.com/Z-yq/TensorflowTTS/blob/main/models/layers/decoder.py', 'https://github.com/Z-yq/TensorflowTTS/blob/main/models/layers/filterbank.py', 'https://github.com/Z-yq/TensorflowTTS/blob/main/models/layers/frame_wise_batch_norm_lstm_cell.py', 'https://github.com/Z-yq/TensorflowTTS/blob/main/models/layers/merge_two_last_dims.py', 'https://github.com/Z-yq/TensorflowTTS/blob/main/models/layers/multihead_attention.py']\n"
     ]
    }
   ],
   "source": [
    "print(full_list)"
   ]
  },
  {
   "cell_type": "code",
   "execution_count": 26,
   "metadata": {},
   "outputs": [
    {
     "output_type": "stream",
     "name": "stdout",
     "text": [
      "57 51\n"
     ]
    }
   ],
   "source": [
    "list_set=set(full_list)\n",
    "print(len(full_list),len(list_set))"
   ]
  },
  {
   "cell_type": "code",
   "execution_count": null,
   "metadata": {},
   "outputs": [],
   "source": [
    "'''\n",
    "Notes:\n",
    " We are using BFS with queue but named as DFS with stack\n",
    " While we are exploring the tree there is one link that takes us back to home and from home we get back to same dir which causes infinite loop\n",
    "''' "
   ]
  }
 ]
}