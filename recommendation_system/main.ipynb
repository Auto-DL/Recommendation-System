{
 "metadata": {
  "language_info": {
   "codemirror_mode": {
    "name": "ipython",
    "version": 3
   },
   "file_extension": ".py",
   "mimetype": "text/x-python",
   "name": "python",
   "nbconvert_exporter": "python",
   "pygments_lexer": "ipython3",
   "version": "3.9.2"
  },
  "orig_nbformat": 4,
  "kernelspec": {
   "name": "python3",
   "display_name": "Python 3.9.2 64-bit ('venv': venv)"
  },
  "interpreter": {
   "hash": "78f4f8306d126378c9562ce753494e28fbcd9f2973a9f9ea6a83cd7fde7d058b"
  }
 },
 "nbformat": 4,
 "nbformat_minor": 2,
 "cells": [
  {
   "cell_type": "code",
   "execution_count": 1,
   "metadata": {},
   "outputs": [],
   "source": [
    "import os\n",
    "import github as gh\n",
    "import bs4 as bs\n",
    "import requests\n",
    "from lxml import etree\n",
    "\n",
    "import selenium\n",
    "from selenium import webdriver\n",
    "\n",
    "from selenium.webdriver.chrome.options import Options\n",
    "from webdriver_manager.chrome import ChromeDriverManager\n",
    "\n",
    "import time\n",
    "from tqdm import tqdm"
   ]
  },
  {
   "cell_type": "code",
   "execution_count": 2,
   "metadata": {},
   "outputs": [
    {
     "output_type": "stream",
     "name": "stdout",
     "text": [
      "AuthenticatedUser(login=None)\n"
     ]
    }
   ],
   "source": [
    "GITHUB_ACCESS_TOKEN=os.getenv('GITHUB_ACCESS_TOKEN')\n",
    "g=gh.Github(GITHUB_ACCESS_TOKEN)\n",
    "print(g.get_user())"
   ]
  },
  {
   "cell_type": "code",
   "execution_count": 3,
   "metadata": {},
   "outputs": [
    {
     "output_type": "stream",
     "name": "stdout",
     "text": [
      "29\n['_PaginatedListBase__elements', '_PaginatedListBase__fetchToIndex', '_PaginatedList__contentClass', '_PaginatedList__firstParams', '_PaginatedList__firstUrl', '_PaginatedList__headers', '_PaginatedList__list_item', '_PaginatedList__nextParams', '_PaginatedList__nextUrl', '_PaginatedList__parseLinkHeader', '_PaginatedList__requester', '_PaginatedList__reverse', '_PaginatedList__totalCount', '_Slice', '__class__', '__delattr__', '__dict__', '__dir__', '__doc__', '__eq__', '__format__', '__ge__', '__getattribute__', '__getitem__', '__gt__', '__hash__', '__init__', '__init_subclass__', '__iter__', '__le__', '__lt__', '__module__', '__ne__', '__new__', '__reduce__', '__reduce_ex__', '__repr__', '__setattr__', '__sizeof__', '__str__', '__subclasshook__', '__weakref__', '_couldGrow', '_fetchNextPage', '_getLastPageUrl', '_grow', '_isBiggerThan', '_reversed', 'get_page', 'reversed', 'totalCount']\n"
     ]
    }
   ],
   "source": [
    "query='tensorflow language:python created:2021-04-01..2021-04-02'\n",
    "urls = []\n",
    "result=g.search_repositories(query)\n",
    "print(result.totalCount)\n",
    "print(dir(result))\n",
    "for repository in result:\n",
    "    urls.append(repository.html_url)\n",
    "    "
   ]
  },
  {
   "cell_type": "code",
   "execution_count": 4,
   "metadata": {},
   "outputs": [],
   "source": [
    "url='https://github.com/Tyler-Shamsuddoha/python-image-classifier-keras'\n",
    "url2='https://github.com/bamblebam/image-classification-rps'"
   ]
  },
  {
   "cell_type": "code",
   "execution_count": 5,
   "metadata": {},
   "outputs": [
    {
     "output_type": "stream",
     "name": "stderr",
     "text": [
      "\n",
      "\n",
      "====== WebDriver manager ======\n",
      "Current google-chrome version is 91.0.4472\n",
      "Get LATEST driver version for 91.0.4472\n",
      "Driver [./\\drivers\\chromedriver\\win32\\91.0.4472.101\\chromedriver.exe] found in cache\n"
     ]
    }
   ],
   "source": [
    "options=Options()\n",
    "options.headless=True\n",
    "driver=webdriver.Chrome(ChromeDriverManager(path='./').install(),options=options)\n",
    "driver.get(url2)"
   ]
  },
  {
   "cell_type": "code",
   "execution_count": 6,
   "metadata": {},
   "outputs": [],
   "source": [
    "table=driver.find_element_by_xpath(\"//*[@class='Details-content--hidden-not-important js-navigation-container js-active-navigation-container d-md-block']\")"
   ]
  },
  {
   "cell_type": "code",
   "execution_count": 7,
   "metadata": {},
   "outputs": [],
   "source": [
    "# links=table.find_elements_by_tag_name('a')\n",
    "# print(len(links))\n",
    "# for link in links:\n",
    "#     href=link.get_attribute('href')\n",
    "#     if 'tree' in href or '.py' in href:\n",
    "#         stack.append(href)\n",
    "\n",
    "# driver.get(url2)\n",
    "# table=driver.find_element_by_xpath(\"//*[@class='Details-content--hidden-not-important js-navigation-container js-active-navigation-container d-md-block']\")\n",
    "# links=table.find_elements_by_tag_name('a')\n",
    "# for link in links:\n",
    "#     href=link.get_attribute('href')\n",
    "#     if '/tree/' in href or '.py' in href:\n",
    "#         stack.append(href)"
   ]
  },
  {
   "cell_type": "code",
   "execution_count": 29,
   "metadata": {},
   "outputs": [],
   "source": [
    "queue=list()\n",
    "full_list=list()\n",
    "links_list = set()\n",
    "sequential_list=list()"
   ]
  },
  {
   "cell_type": "code",
   "execution_count": 17,
   "metadata": {},
   "outputs": [],
   "source": [
    "def push_to_queue(links):\n",
    "    for link in links:\n",
    "        href=link.get_attribute('href')\n",
    "        if href in links_list:\n",
    "            continue\n",
    "        if '/tree/' in href or '.py' in href:\n",
    "            links_list.add(href)\n",
    "            queue.append(href)"
   ]
  },
  {
   "cell_type": "code",
   "execution_count": null,
   "metadata": {},
   "outputs": [],
   "source": [
    "# def if_sequential():\n",
    "#     code_body=driver.find_element_by_xpath(\"//*[@class='Box-body p-0 blob-wrapper data type-python  gist-border-0']\")\n",
    "#     if 'Sequential' in code_body.text:\n",
    "#             count+=1\n",
    "#     return count"
   ]
  },
  {
   "cell_type": "code",
   "execution_count": 18,
   "metadata": {},
   "outputs": [],
   "source": [
    "def search_through_files(link):\n",
    "    if '/tree/' in link:\n",
    "        driver.get(link)\n",
    "        time.sleep(2.5)\n",
    "        table=driver.find_element_by_xpath(\"//*[@class='Details-content--hidden-not-important js-navigation-container js-active-navigation-container d-block']\")\n",
    "        links=table.find_elements_by_tag_name('a')\n",
    "        push_to_queue(links)\n",
    "    elif '.py' in link:\n",
    "        driver.get(link)\n",
    "        time.sleep(2.5)\n",
    "        full_list.append(link)\n",
    "        code_body=driver.find_element_by_xpath(\"//*[@class='Box-body p-0 blob-wrapper data type-python  gist-border-0']\")\n",
    "        if 'Sequential' in code_body.text:\n",
    "            sequential_list.append(url) "
   ]
  },
  {
   "cell_type": "code",
   "execution_count": 19,
   "metadata": {},
   "outputs": [],
   "source": [
    "def bfs():\n",
    "    while queue:\n",
    "        link=queue.pop(0)\n",
    "        search_through_files(link)"
   ]
  },
  {
   "cell_type": "code",
   "execution_count": 20,
   "metadata": {},
   "outputs": [],
   "source": [
    "def get_all_relevant_links(url):\n",
    "    links_list.add(url)\n",
    "    driver.get(url)\n",
    "    table=driver.find_element_by_xpath(\"//*[@class='Details-content--hidden-not-important js-navigation-container js-active-navigation-container d-md-block']\")\n",
    "    links=table.find_elements_by_tag_name('a')\n",
    "    for link in links:\n",
    "        href=link.get_attribute('href')\n",
    "        if '/tree/' in href or '.py' in href:\n",
    "            links_list.add(href)\n",
    "            queue.append(href)\n",
    "    bfs()\n",
    "    print(\"Ended\")"
   ]
  },
  {
   "cell_type": "code",
   "execution_count": 21,
   "metadata": {},
   "outputs": [
    {
     "output_type": "stream",
     "name": "stdout",
     "text": [
      "Ended\n"
     ]
    }
   ],
   "source": [
    "res=get_all_relevant_links('https://github.com/Z-yq/TensorflowTTS')"
   ]
  },
  {
   "cell_type": "code",
   "execution_count": 14,
   "metadata": {},
   "outputs": [
    {
     "output_type": "stream",
     "name": "stdout",
     "text": [
      "https://github.com/Z-yq/TensorflowTTS/blob/main/fastspeech_extract_features.py\nhttps://github.com/Z-yq/TensorflowTTS/blob/main/run-test.py\nhttps://github.com/Z-yq/TensorflowTTS/blob/main/tacotron_extract_features.py\nhttps://github.com/Z-yq/TensorflowTTS/blob/main/train_acoustic.py\nhttps://github.com/Z-yq/TensorflowTTS/blob/main/train_vocoder.py\nhttps://github.com/Z-yq/TensorflowTTS/blob/main/dataloaders/fastspeech_dataloader.py\nhttps://github.com/Z-yq/TensorflowTTS/blob/main/dataloaders/tacotron_dataloader.py\nhttps://github.com/Z-yq/TensorflowTTS/blob/main/dataloaders/vocoder_dataloader.py\nhttps://github.com/Z-yq/TensorflowTTS/blob/main/models/__init__.py\nhttps://github.com/Z-yq/TensorflowTTS/blob/main/models/conformer.py\nhttps://github.com/Z-yq/TensorflowTTS/blob/main/models/fastspeech.py\nhttps://github.com/Z-yq/TensorflowTTS/blob/main/models/model.py\nhttps://github.com/Z-yq/TensorflowTTS/blob/main/models/positional_encoding.py\nhttps://github.com/Z-yq/TensorflowTTS/blob/main/models/switchnorm.py\nhttps://github.com/Z-yq/TensorflowTTS/blob/main/models/tacotron2.py\nhttps://github.com/Z-yq/TensorflowTTS/blob/main/models/vocoder.py\nhttps://github.com/Z-yq/TensorflowTTS/blob/main/models/weight_norm.py\nhttps://github.com/Z-yq/TensorflowTTS/blob/main/synthesizer/synthesizer_fastspeech.py\nhttps://github.com/Z-yq/TensorflowTTS/blob/main/synthesizer/synthesizer_tacotron.py\nhttps://github.com/Z-yq/TensorflowTTS/blob/main/trainer/base_runners.py\nhttps://github.com/Z-yq/TensorflowTTS/blob/main/trainer/fastspeech_trainer.py\nhttps://github.com/Z-yq/TensorflowTTS/blob/main/trainer/tacotron_trainer.py\nhttps://github.com/Z-yq/TensorflowTTS/blob/main/trainer/vocoder_trainer.py\nhttps://github.com/Z-yq/TensorflowTTS/blob/main/utils/decoder.py\nhttps://github.com/Z-yq/TensorflowTTS/blob/main/utils/normalize.py\nhttps://github.com/Z-yq/TensorflowTTS/blob/main/utils/plot.py\nhttps://github.com/Z-yq/TensorflowTTS/blob/main/utils/speech_featurizers.py\nhttps://github.com/Z-yq/TensorflowTTS/blob/main/utils/stft.py\nhttps://github.com/Z-yq/TensorflowTTS/blob/main/utils/text_featurizers.py\nhttps://github.com/Z-yq/TensorflowTTS/blob/main/utils/tools.py\nhttps://github.com/Z-yq/TensorflowTTS/blob/main/utils/user_config.py\nhttps://github.com/Z-yq/TensorflowTTS/blob/main/utils/utils.py\nhttps://github.com/Z-yq/TensorflowTTS/blob/main/models/layers/LayerNormLstmCell.py\nhttps://github.com/Z-yq/TensorflowTTS/blob/main/models/layers/__init__.py\nhttps://github.com/Z-yq/TensorflowTTS/blob/main/models/layers/backend.py\nhttps://github.com/Z-yq/TensorflowTTS/blob/main/models/layers/backend_keras.py\nhttps://github.com/Z-yq/TensorflowTTS/blob/main/models/layers/decoder.py\nhttps://github.com/Z-yq/TensorflowTTS/blob/main/models/layers/filterbank.py\nhttps://github.com/Z-yq/TensorflowTTS/blob/main/models/layers/frame_wise_batch_norm_lstm_cell.py\nhttps://github.com/Z-yq/TensorflowTTS/blob/main/models/layers/merge_two_last_dims.py\nhttps://github.com/Z-yq/TensorflowTTS/blob/main/models/layers/multihead_attention.py\nhttps://github.com/Z-yq/TensorflowTTS/blob/main/models/layers/multihead_self_attention.py\nhttps://github.com/Z-yq/TensorflowTTS/blob/main/models/layers/point_wise_ffn.py\nhttps://github.com/Z-yq/TensorflowTTS/blob/main/models/layers/positional_encoding.py\nhttps://github.com/Z-yq/TensorflowTTS/blob/main/models/layers/row_conv_1d.py\nhttps://github.com/Z-yq/TensorflowTTS/blob/main/models/layers/sequence_wise_batch_norm.py\nhttps://github.com/Z-yq/TensorflowTTS/blob/main/models/layers/switchnorm.py\nhttps://github.com/Z-yq/TensorflowTTS/blob/main/models/layers/time_frequency.py\nhttps://github.com/Z-yq/TensorflowTTS/blob/main/models/layers/time_reduction.py\nhttps://github.com/Z-yq/TensorflowTTS/blob/main/models/layers/transpose_time_major.py\nhttps://github.com/Z-yq/TensorflowTTS/blob/main/models/layers/utils.py\n"
     ]
    }
   ],
   "source": [
    "for i in full_list:\n",
    "    print(i)"
   ]
  },
  {
   "cell_type": "code",
   "execution_count": 26,
   "metadata": {},
   "outputs": [],
   "source": [
    "def getSequentialModel(full_list):\n",
    "    count=0\n",
    "    for url in full_list:\n",
    "        driver.get(url)\n",
    "        time.sleep(2.5)\n",
    "        print(url)\n",
    "        code_body=driver.find_element_by_xpath(\"//*[@class='Box-body p-0 blob-wrapper data type-python  gist-border-0']\")\n",
    "        if 'Sequential' in code_body.text:\n",
    "            count+=1\n",
    "    return count"
   ]
  },
  {
   "cell_type": "code",
   "execution_count": 27,
   "metadata": {},
   "outputs": [
    {
     "output_type": "stream",
     "name": "stdout",
     "text": [
      "https://github.com/Z-yq/TensorflowTTS/blob/main/fastspeech_extract_features.py\n",
      "https://github.com/Z-yq/TensorflowTTS/blob/main/run-test.py\n",
      "https://github.com/Z-yq/TensorflowTTS/blob/main/tacotron_extract_features.py\n",
      "https://github.com/Z-yq/TensorflowTTS/blob/main/train_acoustic.py\n",
      "https://github.com/Z-yq/TensorflowTTS/blob/main/train_vocoder.py\n",
      "https://github.com/Z-yq/TensorflowTTS/blob/main/dataloaders/fastspeech_dataloader.py\n",
      "https://github.com/Z-yq/TensorflowTTS/blob/main/dataloaders/tacotron_dataloader.py\n",
      "https://github.com/Z-yq/TensorflowTTS/blob/main/dataloaders/vocoder_dataloader.py\n",
      "https://github.com/Z-yq/TensorflowTTS/blob/main/models/__init__.py\n",
      "https://github.com/Z-yq/TensorflowTTS/blob/main/models/conformer.py\n",
      "https://github.com/Z-yq/TensorflowTTS/blob/main/models/fastspeech.py\n",
      "https://github.com/Z-yq/TensorflowTTS/blob/main/models/model.py\n",
      "https://github.com/Z-yq/TensorflowTTS/blob/main/models/positional_encoding.py\n",
      "https://github.com/Z-yq/TensorflowTTS/blob/main/models/switchnorm.py\n",
      "https://github.com/Z-yq/TensorflowTTS/blob/main/models/tacotron2.py\n",
      "https://github.com/Z-yq/TensorflowTTS/blob/main/models/vocoder.py\n",
      "https://github.com/Z-yq/TensorflowTTS/blob/main/models/weight_norm.py\n",
      "https://github.com/Z-yq/TensorflowTTS/blob/main/synthesizer/synthesizer_fastspeech.py\n",
      "https://github.com/Z-yq/TensorflowTTS/blob/main/synthesizer/synthesizer_tacotron.py\n",
      "https://github.com/Z-yq/TensorflowTTS/blob/main/trainer/base_runners.py\n",
      "https://github.com/Z-yq/TensorflowTTS/blob/main/trainer/fastspeech_trainer.py\n",
      "https://github.com/Z-yq/TensorflowTTS/blob/main/trainer/tacotron_trainer.py\n",
      "https://github.com/Z-yq/TensorflowTTS/blob/main/trainer/vocoder_trainer.py\n",
      "https://github.com/Z-yq/TensorflowTTS/blob/main/utils/decoder.py\n",
      "https://github.com/Z-yq/TensorflowTTS/blob/main/utils/normalize.py\n",
      "https://github.com/Z-yq/TensorflowTTS/blob/main/utils/plot.py\n",
      "https://github.com/Z-yq/TensorflowTTS/blob/main/utils/speech_featurizers.py\n",
      "https://github.com/Z-yq/TensorflowTTS/blob/main/utils/stft.py\n",
      "https://github.com/Z-yq/TensorflowTTS/blob/main/utils/text_featurizers.py\n",
      "https://github.com/Z-yq/TensorflowTTS/blob/main/utils/tools.py\n",
      "https://github.com/Z-yq/TensorflowTTS/blob/main/utils/user_config.py\n",
      "https://github.com/Z-yq/TensorflowTTS/blob/main/utils/utils.py\n",
      "https://github.com/Z-yq/TensorflowTTS/blob/main/models/layers/LayerNormLstmCell.py\n",
      "https://github.com/Z-yq/TensorflowTTS/blob/main/models/layers/__init__.py\n"
     ]
    },
    {
     "output_type": "error",
     "ename": "NoSuchElementException",
     "evalue": "Message: no such element: Unable to locate element: {\"method\":\"xpath\",\"selector\":\"//*[@class='Box-body p-0 blob-wrapper data type-python  gist-border-0']\"}\n  (Session info: headless chrome=91.0.4472.124)\n",
     "traceback": [
      "\u001b[1;31m---------------------------------------------------------------------------\u001b[0m",
      "\u001b[1;31mNoSuchElementException\u001b[0m                    Traceback (most recent call last)",
      "\u001b[1;32mF:\\Temp/ipykernel_8900/3519311289.py\u001b[0m in \u001b[0;36m<module>\u001b[1;34m\u001b[0m\n\u001b[1;32m----> 1\u001b[1;33m \u001b[0mfiles_with_sequential\u001b[0m\u001b[1;33m=\u001b[0m\u001b[0mgetSequentialModel\u001b[0m\u001b[1;33m(\u001b[0m\u001b[0mfull_list\u001b[0m\u001b[1;33m)\u001b[0m\u001b[1;33m\u001b[0m\u001b[1;33m\u001b[0m\u001b[0m\n\u001b[0m",
      "\u001b[1;32mF:\\Temp/ipykernel_8900/17334820.py\u001b[0m in \u001b[0;36mgetSequentialModel\u001b[1;34m(full_list)\u001b[0m\n\u001b[0;32m      5\u001b[0m         \u001b[0mtime\u001b[0m\u001b[1;33m.\u001b[0m\u001b[0msleep\u001b[0m\u001b[1;33m(\u001b[0m\u001b[1;36m2.5\u001b[0m\u001b[1;33m)\u001b[0m\u001b[1;33m\u001b[0m\u001b[1;33m\u001b[0m\u001b[0m\n\u001b[0;32m      6\u001b[0m         \u001b[0mprint\u001b[0m\u001b[1;33m(\u001b[0m\u001b[0murl\u001b[0m\u001b[1;33m)\u001b[0m\u001b[1;33m\u001b[0m\u001b[1;33m\u001b[0m\u001b[0m\n\u001b[1;32m----> 7\u001b[1;33m         \u001b[0mcode_body\u001b[0m\u001b[1;33m=\u001b[0m\u001b[0mdriver\u001b[0m\u001b[1;33m.\u001b[0m\u001b[0mfind_element_by_xpath\u001b[0m\u001b[1;33m(\u001b[0m\u001b[1;34m\"//*[@class='Box-body p-0 blob-wrapper data type-python  gist-border-0']\"\u001b[0m\u001b[1;33m)\u001b[0m\u001b[1;33m\u001b[0m\u001b[1;33m\u001b[0m\u001b[0m\n\u001b[0m\u001b[0;32m      8\u001b[0m         \u001b[1;32mif\u001b[0m \u001b[1;34m'Sequential'\u001b[0m \u001b[1;32min\u001b[0m \u001b[0mcode_body\u001b[0m\u001b[1;33m.\u001b[0m\u001b[0mtext\u001b[0m\u001b[1;33m:\u001b[0m\u001b[1;33m\u001b[0m\u001b[1;33m\u001b[0m\u001b[0m\n\u001b[0;32m      9\u001b[0m             \u001b[0mcount\u001b[0m\u001b[1;33m+=\u001b[0m\u001b[1;36m1\u001b[0m\u001b[1;33m\u001b[0m\u001b[1;33m\u001b[0m\u001b[0m\n",
      "\u001b[1;32md:\\code projects\\AutoDL-Recommendation-System\\venv\\lib\\site-packages\\selenium\\webdriver\\remote\\webdriver.py\u001b[0m in \u001b[0;36mfind_element_by_xpath\u001b[1;34m(self, xpath)\u001b[0m\n\u001b[0;32m    392\u001b[0m             \u001b[0melement\u001b[0m \u001b[1;33m=\u001b[0m \u001b[0mdriver\u001b[0m\u001b[1;33m.\u001b[0m\u001b[0mfind_element_by_xpath\u001b[0m\u001b[1;33m(\u001b[0m\u001b[1;34m'//div/td[1]'\u001b[0m\u001b[1;33m)\u001b[0m\u001b[1;33m\u001b[0m\u001b[1;33m\u001b[0m\u001b[0m\n\u001b[0;32m    393\u001b[0m         \"\"\"\n\u001b[1;32m--> 394\u001b[1;33m         \u001b[1;32mreturn\u001b[0m \u001b[0mself\u001b[0m\u001b[1;33m.\u001b[0m\u001b[0mfind_element\u001b[0m\u001b[1;33m(\u001b[0m\u001b[0mby\u001b[0m\u001b[1;33m=\u001b[0m\u001b[0mBy\u001b[0m\u001b[1;33m.\u001b[0m\u001b[0mXPATH\u001b[0m\u001b[1;33m,\u001b[0m \u001b[0mvalue\u001b[0m\u001b[1;33m=\u001b[0m\u001b[0mxpath\u001b[0m\u001b[1;33m)\u001b[0m\u001b[1;33m\u001b[0m\u001b[1;33m\u001b[0m\u001b[0m\n\u001b[0m\u001b[0;32m    395\u001b[0m \u001b[1;33m\u001b[0m\u001b[0m\n\u001b[0;32m    396\u001b[0m     \u001b[1;32mdef\u001b[0m \u001b[0mfind_elements_by_xpath\u001b[0m\u001b[1;33m(\u001b[0m\u001b[0mself\u001b[0m\u001b[1;33m,\u001b[0m \u001b[0mxpath\u001b[0m\u001b[1;33m)\u001b[0m\u001b[1;33m:\u001b[0m\u001b[1;33m\u001b[0m\u001b[1;33m\u001b[0m\u001b[0m\n",
      "\u001b[1;32md:\\code projects\\AutoDL-Recommendation-System\\venv\\lib\\site-packages\\selenium\\webdriver\\remote\\webdriver.py\u001b[0m in \u001b[0;36mfind_element\u001b[1;34m(self, by, value)\u001b[0m\n\u001b[0;32m    974\u001b[0m                 \u001b[0mby\u001b[0m \u001b[1;33m=\u001b[0m \u001b[0mBy\u001b[0m\u001b[1;33m.\u001b[0m\u001b[0mCSS_SELECTOR\u001b[0m\u001b[1;33m\u001b[0m\u001b[1;33m\u001b[0m\u001b[0m\n\u001b[0;32m    975\u001b[0m                 \u001b[0mvalue\u001b[0m \u001b[1;33m=\u001b[0m \u001b[1;34m'[name=\"%s\"]'\u001b[0m \u001b[1;33m%\u001b[0m \u001b[0mvalue\u001b[0m\u001b[1;33m\u001b[0m\u001b[1;33m\u001b[0m\u001b[0m\n\u001b[1;32m--> 976\u001b[1;33m         return self.execute(Command.FIND_ELEMENT, {\n\u001b[0m\u001b[0;32m    977\u001b[0m             \u001b[1;34m'using'\u001b[0m\u001b[1;33m:\u001b[0m \u001b[0mby\u001b[0m\u001b[1;33m,\u001b[0m\u001b[1;33m\u001b[0m\u001b[1;33m\u001b[0m\u001b[0m\n\u001b[0;32m    978\u001b[0m             'value': value})['value']\n",
      "\u001b[1;32md:\\code projects\\AutoDL-Recommendation-System\\venv\\lib\\site-packages\\selenium\\webdriver\\remote\\webdriver.py\u001b[0m in \u001b[0;36mexecute\u001b[1;34m(self, driver_command, params)\u001b[0m\n\u001b[0;32m    319\u001b[0m         \u001b[0mresponse\u001b[0m \u001b[1;33m=\u001b[0m \u001b[0mself\u001b[0m\u001b[1;33m.\u001b[0m\u001b[0mcommand_executor\u001b[0m\u001b[1;33m.\u001b[0m\u001b[0mexecute\u001b[0m\u001b[1;33m(\u001b[0m\u001b[0mdriver_command\u001b[0m\u001b[1;33m,\u001b[0m \u001b[0mparams\u001b[0m\u001b[1;33m)\u001b[0m\u001b[1;33m\u001b[0m\u001b[1;33m\u001b[0m\u001b[0m\n\u001b[0;32m    320\u001b[0m         \u001b[1;32mif\u001b[0m \u001b[0mresponse\u001b[0m\u001b[1;33m:\u001b[0m\u001b[1;33m\u001b[0m\u001b[1;33m\u001b[0m\u001b[0m\n\u001b[1;32m--> 321\u001b[1;33m             \u001b[0mself\u001b[0m\u001b[1;33m.\u001b[0m\u001b[0merror_handler\u001b[0m\u001b[1;33m.\u001b[0m\u001b[0mcheck_response\u001b[0m\u001b[1;33m(\u001b[0m\u001b[0mresponse\u001b[0m\u001b[1;33m)\u001b[0m\u001b[1;33m\u001b[0m\u001b[1;33m\u001b[0m\u001b[0m\n\u001b[0m\u001b[0;32m    322\u001b[0m             response['value'] = self._unwrap_value(\n\u001b[0;32m    323\u001b[0m                 response.get('value', None))\n",
      "\u001b[1;32md:\\code projects\\AutoDL-Recommendation-System\\venv\\lib\\site-packages\\selenium\\webdriver\\remote\\errorhandler.py\u001b[0m in \u001b[0;36mcheck_response\u001b[1;34m(self, response)\u001b[0m\n\u001b[0;32m    240\u001b[0m                 \u001b[0malert_text\u001b[0m \u001b[1;33m=\u001b[0m \u001b[0mvalue\u001b[0m\u001b[1;33m[\u001b[0m\u001b[1;34m'alert'\u001b[0m\u001b[1;33m]\u001b[0m\u001b[1;33m.\u001b[0m\u001b[0mget\u001b[0m\u001b[1;33m(\u001b[0m\u001b[1;34m'text'\u001b[0m\u001b[1;33m)\u001b[0m\u001b[1;33m\u001b[0m\u001b[1;33m\u001b[0m\u001b[0m\n\u001b[0;32m    241\u001b[0m             \u001b[1;32mraise\u001b[0m \u001b[0mexception_class\u001b[0m\u001b[1;33m(\u001b[0m\u001b[0mmessage\u001b[0m\u001b[1;33m,\u001b[0m \u001b[0mscreen\u001b[0m\u001b[1;33m,\u001b[0m \u001b[0mstacktrace\u001b[0m\u001b[1;33m,\u001b[0m \u001b[0malert_text\u001b[0m\u001b[1;33m)\u001b[0m\u001b[1;33m\u001b[0m\u001b[1;33m\u001b[0m\u001b[0m\n\u001b[1;32m--> 242\u001b[1;33m         \u001b[1;32mraise\u001b[0m \u001b[0mexception_class\u001b[0m\u001b[1;33m(\u001b[0m\u001b[0mmessage\u001b[0m\u001b[1;33m,\u001b[0m \u001b[0mscreen\u001b[0m\u001b[1;33m,\u001b[0m \u001b[0mstacktrace\u001b[0m\u001b[1;33m)\u001b[0m\u001b[1;33m\u001b[0m\u001b[1;33m\u001b[0m\u001b[0m\n\u001b[0m\u001b[0;32m    243\u001b[0m \u001b[1;33m\u001b[0m\u001b[0m\n\u001b[0;32m    244\u001b[0m     \u001b[1;32mdef\u001b[0m \u001b[0m_value_or_default\u001b[0m\u001b[1;33m(\u001b[0m\u001b[0mself\u001b[0m\u001b[1;33m,\u001b[0m \u001b[0mobj\u001b[0m\u001b[1;33m,\u001b[0m \u001b[0mkey\u001b[0m\u001b[1;33m,\u001b[0m \u001b[0mdefault\u001b[0m\u001b[1;33m)\u001b[0m\u001b[1;33m:\u001b[0m\u001b[1;33m\u001b[0m\u001b[1;33m\u001b[0m\u001b[0m\n",
      "\u001b[1;31mNoSuchElementException\u001b[0m: Message: no such element: Unable to locate element: {\"method\":\"xpath\",\"selector\":\"//*[@class='Box-body p-0 blob-wrapper data type-python  gist-border-0']\"}\n  (Session info: headless chrome=91.0.4472.124)\n"
     ]
    }
   ],
   "source": [
    "files_with_sequential=getSequentialModel(full_list)\n"
   ]
  }
 ]
}