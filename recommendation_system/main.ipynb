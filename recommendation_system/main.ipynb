{
 "metadata": {
  "language_info": {
   "codemirror_mode": {
    "name": "ipython",
    "version": 3
   },
   "file_extension": ".py",
   "mimetype": "text/x-python",
   "name": "python",
   "nbconvert_exporter": "python",
   "pygments_lexer": "ipython3",
   "version": "3.8.1"
  },
  "orig_nbformat": 4,
  "kernelspec": {
   "name": "python3",
   "display_name": "Python 3.8.1 64-bit ('venv': venv)"
  },
  "interpreter": {
   "hash": "75dbba10fc6620c626cd1fa2436ff69a4b43b4d8107ad1b0d4ae9140f5dc976d"
  }
 },
 "nbformat": 4,
 "nbformat_minor": 2,
 "cells": [
  {
   "cell_type": "code",
   "execution_count": 50,
   "metadata": {},
   "outputs": [],
   "source": [
    "import os\n",
    "import github as gh\n",
    "import bs4 as bs\n",
    "import requests\n",
    "from lxml import etree\n",
    "\n",
    "import selenium\n",
    "from selenium import webdriver\n",
    "\n",
    "from selenium.webdriver.chrome.options import Options\n",
    "from webdriver_manager.chrome import ChromeDriverManager\n",
    "\n",
    "import time\n",
    "from tqdm import tqdm\n",
    "\n",
    "import re"
   ]
  },
  {
   "cell_type": "code",
   "execution_count": 53,
   "metadata": {},
   "outputs": [
    {
     "output_type": "stream",
     "name": "stdout",
     "text": [
      "AuthenticatedUser(login=None)\n"
     ]
    }
   ],
   "source": [
    "GITHUB_ACCESS_TOKEN=os.getenv('GITHUB_ACCESS_TOKEN')\n",
    "g=gh.Github(GITHUB_ACCESS_TOKEN)\n",
    "print(g.get_user())"
   ]
  },
  {
   "cell_type": "code",
   "execution_count": null,
   "metadata": {},
   "outputs": [],
   "source": [
    "query='tensorflow language:python created:2021-04-01..2021-04-02'\n",
    "urls = []\n",
    "result=g.search_repositories(query)\n",
    "for repository in result:\n",
    "    urls.append(repository.html_url)\n",
    "# print(result.totalCount)\n",
    "# print(dir(result))\n",
    "    "
   ]
  },
  {
   "cell_type": "code",
   "execution_count": 46,
   "metadata": {},
   "outputs": [],
   "source": [
    "url='https://github.com/Tyler-Shamsuddoha/python-image-classifier-keras'\n",
    "url2='https://github.com/bamblebam/image-classification-rps'"
   ]
  },
  {
   "cell_type": "code",
   "execution_count": 48,
   "metadata": {},
   "outputs": [
    {
     "output_type": "stream",
     "name": "stderr",
     "text": [
      "\n",
      "\n",
      "====== WebDriver manager ======\n",
      "Current google-chrome version is 91.0.4472\n",
      "Get LATEST driver version for 91.0.4472\n",
      "Driver [./\\drivers\\chromedriver\\win32\\91.0.4472.101\\chromedriver.exe] found in cache\n"
     ]
    }
   ],
   "source": [
    "options=Options()\n",
    "options.headless=True\n",
    "driver=webdriver.Chrome(ChromeDriverManager(path='./').install(),options=options)\n",
    "driver.get(url2)"
   ]
  },
  {
   "cell_type": "code",
   "execution_count": 51,
   "metadata": {},
   "outputs": [],
   "source": [
    "table=driver.find_element_by_xpath(\"//*[@class='Details-content--hidden-not-important js-navigation-container js-active-navigation-container d-md-block']\")"
   ]
  },
  {
   "cell_type": "code",
   "execution_count": 54,
   "metadata": {},
   "outputs": [],
   "source": [
    "# links=table.find_elements_by_tag_name('a')\n",
    "# print(len(links))\n",
    "# for link in links:\n",
    "#     href=link.get_attribute('href')\n",
    "#     if 'tree' in href or '.py' in href:\n",
    "#         stack.append(href)\n",
    "\n",
    "# driver.get(url2)\n",
    "# table=driver.find_element_by_xpath(\"//*[@class='Details-content--hidden-not-important js-navigation-container js-active-navigation-container d-md-block']\")\n",
    "# links=table.find_elements_by_tag_name('a')\n",
    "# for link in links:\n",
    "#     href=link.get_attribute('href')\n",
    "#     if '/tree/' in href or '.py' in href:\n",
    "#         stack.append(href)"
   ]
  },
  {
   "cell_type": "code",
   "execution_count": 122,
   "metadata": {},
   "outputs": [],
   "source": [
    "queue=list()\n",
    "full_list=list()\n",
    "links_list = set()\n",
    "sequential_list=list()"
   ]
  },
  {
   "cell_type": "code",
   "execution_count": 58,
   "metadata": {},
   "outputs": [],
   "source": [
    "def push_to_queue(links):\n",
    "    for link in links:\n",
    "        href=link.get_attribute('href')\n",
    "        if href in links_list:\n",
    "            continue\n",
    "        if '/tree/' in href or '.py' in href:\n",
    "            links_list.add(href)\n",
    "            queue.append(href)"
   ]
  },
  {
   "cell_type": "code",
   "execution_count": 60,
   "metadata": {},
   "outputs": [],
   "source": [
    "# def if_sequential():\n",
    "#     code_body=driver.find_element_by_xpath(\"//*[@class='Box-body p-0 blob-wrapper data type-python  gist-border-0']\")\n",
    "#     if 'Sequential' in code_body.text:\n",
    "#             count+=1\n",
    "#     return count"
   ]
  },
  {
   "cell_type": "code",
   "execution_count": 62,
   "metadata": {},
   "outputs": [],
   "source": [
    "def search_through_files(link):\n",
    "    print(link)\n",
    "    if '/tree/' in link and not 'venv' in link:\n",
    "        driver.get(link)\n",
    "        time.sleep(2.5)\n",
    "        try:\n",
    "            table=driver.find_element_by_xpath(\"//*[@class='Details-content--hidden-not-important js-navigation-container js-active-navigation-container d-block']\")\n",
    "            links=table.find_elements_by_tag_name('a')\n",
    "            push_to_queue(links)\n",
    "        except:\n",
    "            print(\"No element found\")\n",
    "    elif '.py' in link and not 'venv' in link:\n",
    "        driver.get(link)\n",
    "        time.sleep(2.5)\n",
    "        full_list.append(link)\n",
    "        try: \n",
    "            code_body=driver.find_element_by_xpath(\"//*[@class='highlight tab-size js-file-line-container']\")\n",
    "            if 'Sequential' in code_body.text:\n",
    "                sequential_list.append(link)\n",
    "        except:\n",
    "            print('Wrong class selector') "
   ]
  },
  {
   "cell_type": "code",
   "execution_count": 64,
   "metadata": {},
   "outputs": [],
   "source": [
    "def bfs():\n",
    "    while queue:\n",
    "        link=queue.pop(0)\n",
    "        search_through_files(link)"
   ]
  },
  {
   "cell_type": "code",
   "execution_count": 66,
   "metadata": {},
   "outputs": [],
   "source": [
    "def get_all_relevant_links(url):\n",
    "    links_list.add(url)\n",
    "    driver.get(url)\n",
    "    try:\n",
    "        table=driver.find_element_by_xpath(\"//*[@class='Details-content--hidden-not-important js-navigation-container js-active-navigation-container d-md-block']\")\n",
    "        links=table.find_elements_by_tag_name('a')\n",
    "        for link in links:\n",
    "            href=link.get_attribute('href')\n",
    "            if ('/tree/' in href or '.py' in href) and not 'venv' in href:\n",
    "                links_list.add(href)\n",
    "                queue.append(href)\n",
    "    except:\n",
    "        print('No element found')\n",
    "    bfs()\n",
    "    print(\"Ended\")"
   ]
  },
  {
   "cell_type": "code",
   "execution_count": 67,
   "metadata": {},
   "outputs": [
    {
     "output_type": "stream",
     "name": "stdout",
     "text": [
      "https://github.com/Tyler-Shamsuddoha/python-image-classifier-keras/blob/master/preprocess.py\n",
      "https://github.com/Tyler-Shamsuddoha/python-image-classifier-keras/blob/master/test.py\n",
      "https://github.com/Tyler-Shamsuddoha/python-image-classifier-keras/blob/master/train.py\n",
      "Ended\n"
     ]
    }
   ],
   "source": [
    "get_all_relevant_links(url)"
   ]
  },
  {
   "cell_type": "code",
   "execution_count": 68,
   "metadata": {},
   "outputs": [
    {
     "output_type": "stream",
     "name": "stdout",
     "text": [
      "['https://github.com/fadhil-code/TensorFlowProject3/blob/master/Dropout.py', 'https://github.com/fadhil-code/TensorFlowProject3/blob/master/hidden_layers.py', 'https://github.com/fadhil-code/TensorFlowProject3/blob/master/main.py', 'https://github.com/Tyler-Shamsuddoha/python-image-classifier-keras/blob/master/train.py']\n"
     ]
    }
   ],
   "source": [
    "print(sequential_list)"
   ]
  },
  {
   "cell_type": "code",
   "execution_count": 69,
   "metadata": {},
   "outputs": [],
   "source": [
    "driver.get('https://github.com/bamblebam/image-classification-rps/blob/master/testmodels.py')\n",
    "# driver.get('https://github.com/fadhil-code/TensorFlowProject3/blob/master/Dropout.py')\n",
    "time.sleep(2.5)\n",
    "code_body=driver.find_element_by_xpath(\"//*[@class='Box-body p-0 blob-wrapper data type-python  gist-border-0']\")"
   ]
  },
  {
   "cell_type": "code",
   "execution_count": 70,
   "metadata": {},
   "outputs": [],
   "source": [
    "\n",
    "def getLayerSequence1helper(code):\n",
    "    '''\n",
    "    This is the function for models of type Sequential([...])\n",
    "    :param code: the code to check layer sequence\n",
    "    :return: array in correct sequence of layers\n",
    "    :rtype: array model.add(.*)\n",
    "    '''\n",
    "    # re.findall('Sequential\\((.*)',code,re.DOTALL)\n",
    "    # re.findall('(Sequential\\()(.+)((?:\\n.+)+)(\\]\\))',code)\n",
    "    # re.findall('(?s)_\\(Sequential(.*?)\\)',code) \\[([^]]+)\\]\n",
    "    rawLayerSequence = re.findall('Sequential\\(\\[([^]]+)\\]\\)',code,re.DOTALL)\n",
    "    layerSequence = list()\n",
    "    temp=list()\n",
    "    for i in rawLayerSequence:\n",
    "        temp = re.findall('.?(.*)\\)',i)\n",
    "        layerSequence.append(temp)\n",
    "    return layerSequence\n"
   ]
  },
  {
   "cell_type": "code",
   "execution_count": 71,
   "metadata": {},
   "outputs": [],
   "source": [
    "def getCleanedLayers(layerlist):\n",
    "    cleaned_layers=list()\n",
    "    for model in layerlist:\n",
    "        temp=list()\n",
    "        for layer in model:\n",
    "           word=layer.split('(')[0]\n",
    "           word=''.join([char for char in word if char.isalnum()])\n",
    "           temp.append(word)\n",
    "        cleaned_layers.append(temp)\n",
    "    return cleaned_layers"
   ]
  },
  {
   "cell_type": "code",
   "execution_count": 72,
   "metadata": {},
   "outputs": [],
   "source": [
    "def getLayerSequence1(code):\n",
    "    layerlist=getLayerSequence1helper(code)\n",
    "    cleaned_layers=getCleanedLayers(layerlist)\n",
    "    return cleaned_layers"
   ]
  },
  {
   "cell_type": "code",
   "execution_count": 73,
   "metadata": {},
   "outputs": [
    {
     "output_type": "stream",
     "name": "stdout",
     "text": [
      "[['keraslayersConv2D', 'keraslayersConv2D', 'keraslayersConv2D', 'keraslayersConv2D', 'keraslayersDense', 'keraslayersDense', 'keraslayersDense'], ['Conv2D', 'Conv2D', 'Conv2D', 'Conv2D', 'Dense', 'Dense', 'Dense']]\n"
     ]
    }
   ],
   "source": [
    "cleaned_layers=getLayerSequence1(code_body.text)\n",
    "print(cleaned_layers)"
   ]
  },
  {
   "cell_type": "code",
   "execution_count": 117,
   "metadata": {},
   "outputs": [],
   "source": [
    "\n",
    "def getLayerSequence2(code):\n",
    "    '''\n",
    "    This is the function for models of type model.add(layerName)\n",
    "    :param code: the code to check layer sequence\n",
    "    :return: array in correct sequence of layers\n",
    "    :rtype: array \n",
    "    '''\n",
    "    layerSequences = []\n",
    "    model_names = re.findall('(.*) *=.*Sequential\\(\\)',code)\n",
    "    for model in model_names:\n",
    "        modelLayers = []\n",
    "        model.strip()\n",
    "        model = model.replace(' ', '')\n",
    "        rawLayerSequences = re.findall(f\"{model}\\.add\\((.*)\\(\",code)\n",
    "        for rawLayerSequence in rawLayerSequences:\n",
    "            k = rawLayerSequence.split('.')\n",
    "            modelLayers.append(k[-1])\n",
    "        layerSequences.append(modelLayers)\n",
    "    \n",
    "    return layerSequences\n",
    "    \n"
   ]
  },
  {
   "cell_type": "code",
   "execution_count": 123,
   "metadata": {},
   "outputs": [],
   "source": [
    "def getSequentialModel(link):\n",
    "    layerSequence = []\n",
    "    get_all_relevant_links(link)\n",
    "    for url in full_list:\n",
    "        driver.get(url)\n",
    "        time.sleep(2.5)\n",
    "        print(url)\n",
    "        code_body=driver.find_element_by_xpath(\"//*[@class='Box-body p-0 blob-wrapper data type-python  gist-border-0']\")\n",
    "        if 'Sequential' in code_body.text:\n",
    "            layers1=getLayerSequence1(code_body.text)\n",
    "            layers2 = getLayerSequence2(code_body.text)\n",
    "            layerSequence.extend(layers1)\n",
    "            layerSequence.extend(layers2)\n",
    "    return layerSequence"
   ]
  },
  {
   "cell_type": "code",
   "execution_count": 124,
   "metadata": {},
   "outputs": [
    {
     "output_type": "stream",
     "name": "stdout",
     "text": [
      "https://github.com/fadhil-code/TensorFlowProject3/blob/master/Dropout.py\n",
      "https://github.com/fadhil-code/TensorFlowProject3/blob/master/hidden_layers.py\n",
      "https://github.com/fadhil-code/TensorFlowProject3/blob/master/main.py\n",
      "Ended\n",
      "https://github.com/fadhil-code/TensorFlowProject3/blob/master/Dropout.py\n",
      "https://github.com/fadhil-code/TensorFlowProject3/blob/master/hidden_layers.py\n",
      "https://github.com/fadhil-code/TensorFlowProject3/blob/master/main.py\n"
     ]
    }
   ],
   "source": [
    "testUrl = 'https://github.com/fadhil-code/TensorFlowProject3'\n",
    "count = getSequentialModel(testUrl)"
   ]
  },
  {
   "cell_type": "code",
   "execution_count": 125,
   "metadata": {},
   "outputs": [
    {
     "output_type": "stream",
     "name": "stdout",
     "text": [
      "['Dense', 'Dropout', 'Dense', 'Dropout', 'Dense']\n['Dense', 'Dense', 'Dense']\n['Dense']\n"
     ]
    }
   ],
   "source": [
    "for i in count:\n",
    "    print(i)"
   ]
  }
 ]
}