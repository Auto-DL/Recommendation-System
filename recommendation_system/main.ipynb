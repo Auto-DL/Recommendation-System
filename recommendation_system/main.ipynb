{
 "metadata": {
  "language_info": {
   "codemirror_mode": {
    "name": "ipython",
    "version": 3
   },
   "file_extension": ".py",
   "mimetype": "text/x-python",
   "name": "python",
   "nbconvert_exporter": "python",
   "pygments_lexer": "ipython3",
   "version": "3.8.1"
  },
  "orig_nbformat": 4,
  "kernelspec": {
   "name": "python3",
   "display_name": "Python 3.8.1 64-bit ('venv': venv)"
  },
  "interpreter": {
   "hash": "75dbba10fc6620c626cd1fa2436ff69a4b43b4d8107ad1b0d4ae9140f5dc976d"
  }
 },
 "nbformat": 4,
 "nbformat_minor": 2,
 "cells": [
  {
   "cell_type": "code",
   "execution_count": 17,
   "metadata": {},
   "outputs": [],
   "source": [
    "import os\n",
    "import pathlib\n",
    "\n",
    "import github as gh\n",
    "import bs4 as bs\n",
    "import requests\n",
    "from lxml import etree\n",
    "\n",
    "import selenium\n",
    "from selenium import webdriver\n",
    "\n",
    "from selenium.webdriver.chrome.options import Options\n",
    "from webdriver_manager.chrome import ChromeDriverManager\n",
    "\n",
    "import time\n",
    "from tqdm import tqdm\n",
    "import pickle\n",
    "from uuid import uuid4\n",
    "\n",
    "import re"
   ]
  },
  {
   "cell_type": "code",
   "execution_count": 18,
   "metadata": {},
   "outputs": [
    {
     "output_type": "stream",
     "name": "stdout",
     "text": [
      "AuthenticatedUser(login=None)\n"
     ]
    }
   ],
   "source": [
    "GITHUB_ACCESS_TOKEN=os.getenv('GITHUB_ACCESS_TOKEN')\n",
    "g=gh.Github(GITHUB_ACCESS_TOKEN)\n",
    "print(g.get_user())"
   ]
  },
  {
   "cell_type": "code",
   "execution_count": 19,
   "metadata": {},
   "outputs": [],
   "source": [
    "query='tensorflow language:python created:2021-04-01..2021-04-02'\n",
    "urls = []\n",
    "result=g.search_repositories(query)\n",
    "for repository in result:\n",
    "    urls.append(repository.html_url)\n",
    "# print(result.totalCount)\n",
    "# print(dir(result))\n",
    "    "
   ]
  },
  {
   "cell_type": "code",
   "execution_count": 20,
   "metadata": {},
   "outputs": [],
   "source": [
    "url='https://github.com/Tyler-Shamsuddoha/python-image-classifier-keras'\n",
    "url2='https://github.com/bamblebam/image-classification-rps'"
   ]
  },
  {
   "cell_type": "code",
   "execution_count": 21,
   "metadata": {},
   "outputs": [
    {
     "output_type": "stream",
     "name": "stderr",
     "text": [
      "\n",
      "\n",
      "====== WebDriver manager ======\n",
      "Current google-chrome version is 91.0.4472\n",
      "Get LATEST driver version for 91.0.4472\n",
      "Driver [./\\drivers\\chromedriver\\win32\\91.0.4472.101\\chromedriver.exe] found in cache\n"
     ]
    }
   ],
   "source": [
    "options=Options()\n",
    "options.headless=True\n",
    "driver=webdriver.Chrome(ChromeDriverManager(path='./').install(),options=options)\n",
    "driver.get(url2)"
   ]
  },
  {
   "cell_type": "code",
   "execution_count": 22,
   "metadata": {},
   "outputs": [],
   "source": [
    "def get_data_from_repository(url):\n",
    "    queue=list()\n",
    "    links_list = set()\n",
    "    sequential_list=list()\n",
    "\n",
    "    def push_to_queue(links):\n",
    "        for link in links:\n",
    "            href=link.get_attribute('href')\n",
    "            if href in links_list:\n",
    "                continue\n",
    "            if '/tree/' in href or '.py' in href:\n",
    "                links_list.add(href)\n",
    "                queue.append(href)\n",
    "\n",
    "    def search_through_files(link):\n",
    "        print(link)\n",
    "        if '/tree/' in link and not 'venv' in link:\n",
    "            driver.get(link)\n",
    "            time.sleep(2.5)\n",
    "            try:\n",
    "                table=driver.find_element_by_xpath(\"//*[@class='Details-content--hidden-not-important js-navigation-container js-active-navigation-container d-block']\")\n",
    "                links=table.find_elements_by_tag_name('a')\n",
    "                push_to_queue(links)\n",
    "            except:\n",
    "                print(\"No element found\")\n",
    "        elif '.py' in link and not 'venv' in link:\n",
    "            driver.get(link)\n",
    "            time.sleep(2.5)\n",
    "            code_body=driver.find_element_by_xpath(\"//*[@class='highlight tab-size js-file-line-container']\")\n",
    "            if 'Sequential' in code_body.text:\n",
    "                print('bam')\n",
    "                sequential_list.append(get_model_arrays(code_body.text))\n",
    "            \n",
    "        \n",
    "    def bfs():\n",
    "        while queue:\n",
    "            link=queue.pop(0)\n",
    "            search_through_files(link)\n",
    "\n",
    "    def get_all_relevant_links(url):\n",
    "        links_list.add(url)\n",
    "        driver.get(url)\n",
    "        try:\n",
    "            table=driver.find_element_by_xpath(\"//*[@class='Details-content--hidden-not-important js-navigation-container js-active-navigation-container d-md-block']\")\n",
    "            links=table.find_elements_by_tag_name('a')\n",
    "            for link in links:\n",
    "                href=link.get_attribute('href')\n",
    "                if ('/tree/' in href or '.py' in href) and not 'venv' in href:\n",
    "                    links_list.add(href)\n",
    "                    queue.append(href)\n",
    "        except:\n",
    "            print('Error')\n",
    "        bfs()\n",
    "        print(\"Ended\")\n",
    "\n",
    "    get_all_relevant_links(url)\n",
    "    return sequential_list"
   ]
  },
  {
   "cell_type": "code",
   "execution_count": 27,
   "metadata": {},
   "outputs": [
    {
     "output_type": "stream",
     "name": "stdout",
     "text": [
      "https://github.com/bamblebam/image-classification-rps/tree/master/models\n",
      "https://github.com/bamblebam/image-classification-rps/blob/master/image_classification.py\n",
      "bam\n",
      "https://github.com/bamblebam/image-classification-rps/blob/master/testmodels.py\n",
      "bam\n",
      "Ended\n"
     ]
    }
   ],
   "source": [
    "t=get_data_from_repository(url2)"
   ]
  },
  {
   "cell_type": "code",
   "execution_count": 28,
   "metadata": {},
   "outputs": [
    {
     "output_type": "stream",
     "name": "stdout",
     "text": [
      "[None, None]\n"
     ]
    }
   ],
   "source": [
    "print(t)"
   ]
  },
  {
   "cell_type": "code",
   "execution_count": 9,
   "metadata": {},
   "outputs": [],
   "source": [
    "\n",
    "def getLayerSequence1helper(code):\n",
    "    '''\n",
    "    This is the function for models of type Sequential([...])\n",
    "    :param code: the code to check layer sequence\n",
    "    :return: array in correct sequence of layers\n",
    "    :rtype: array model.add(.*)\n",
    "    '''\n",
    "    # re.findall('Sequential\\((.*)',code,re.DOTALL)\n",
    "    # re.findall('(Sequential\\()(.+)((?:\\n.+)+)(\\]\\))',code)\n",
    "    # re.findall('(?s)_\\(Sequential(.*?)\\)',code) \\[([^]]+)\\]\n",
    "    rawLayerSequence = re.findall('Sequential\\(\\[([^]]+)\\]\\)',code,re.DOTALL)\n",
    "    layerSequence = list()\n",
    "    temp=list()\n",
    "    for i in rawLayerSequence:\n",
    "        temp = re.findall('.?(.*)\\)',i)\n",
    "        layerSequence.append(temp)\n",
    "    return layerSequence\n"
   ]
  },
  {
   "cell_type": "code",
   "execution_count": 24,
   "metadata": {},
   "outputs": [],
   "source": [
    "def getCleanedLayers(layerlist):\n",
    "    isValid = True\n",
    "    for model in layerlist:\n",
    "        temp=list()\n",
    "        for layer in model:\n",
    "           word=layer.split('(')[0]\n",
    "           word=word.split('.')[-1]\n",
    "           word=''.join([char for char in word if char.isalnum()])\n",
    "           temp.append(word)\n",
    "        layers = ['Conv2D', 'Dense', 'LSTM', 'SimpleRNN', 'Dropout', 'Flatten', 'ZeroPadding2D', 'AveragePooling2D', 'MaxPooling2D']\n",
    "        for layer in temp:\n",
    "            if layer not in layers:\n",
    "                isValid = False\n",
    "        if len(model) < 4:\n",
    "            isValid = False\n",
    "        if isValid:\n",
    "            model_to_pickle(temp)"
   ]
  },
  {
   "cell_type": "code",
   "execution_count": 11,
   "metadata": {},
   "outputs": [],
   "source": [
    "def getLayerSequence1(code):\n",
    "    layerlist=getLayerSequence1helper(code)\n",
    "    getCleanedLayers(layerlist)"
   ]
  },
  {
   "cell_type": "code",
   "execution_count": 12,
   "metadata": {},
   "outputs": [],
   "source": [
    "def getLayerSequence2(code):\n",
    "    '''\n",
    "    This is the function for models of type model.add(layerName)\n",
    "    :param code: the code to check layer sequence\n",
    "    :return: None\n",
    "    :rtype: None \n",
    "    '''\n",
    "    isValid = True\n",
    "    model_names = re.findall('(.*) *=.*Sequential\\(\\)',code)\n",
    "    for model in model_names:\n",
    "        modelLayers = []\n",
    "        model.strip()\n",
    "        model = model.replace(' ', '')\n",
    "        rawLayerSequences = re.findall(f\"{model}\\.add\\((.*)\\(\",code)\n",
    "        for rawLayerSequence in rawLayerSequences:\n",
    "            k = rawLayerSequence.split('(')[0]\n",
    "            k=k.split('.')[-1]\n",
    "            modelLayers.append(k)\n",
    "        layers = ['Conv2D', 'Dense', 'LSTM', 'SimpleRNN', 'Dropout', 'Flatten', 'ZeroPadding2D', 'AveragePooling2D', 'MaxPooling2D']\n",
    "        for layer in modelLayers:\n",
    "            if layer not in layers:\n",
    "                isValid = False\n",
    "        if len(model) < 4:\n",
    "            isValid = False\n",
    "        if isValid:\n",
    "            model_to_pickle(modelLayers)\n",
    "      \n"
   ]
  },
  {
   "cell_type": "code",
   "execution_count": 13,
   "metadata": {},
   "outputs": [],
   "source": [
    "def getSequentialModel(link):\n",
    "    layerSequence = []\n",
    "    get_all_relevant_links(link)\n",
    "    for url in full_list:\n",
    "        driver.get(url)\n",
    "        time.sleep(2.5)\n",
    "        print(url)\n",
    "        try:\n",
    "            code_body=driver.find_element_by_xpath(\"//*[@class='Box-body p-0 blob-wrapper data type-python  gist-border-0']\")\n",
    "            if 'Sequential' in code_body.text:\n",
    "                layers1=getLayerSequence1(code_body.text)\n",
    "                layers2 = getLayerSequence2(code_body.text)\n",
    "                layerSequence.extend(layers1)\n",
    "                layerSequence.append(layers2)\n",
    "        except e:\n",
    "            print(e)\n",
    "    return layerSequence"
   ]
  },
  {
   "cell_type": "code",
   "execution_count": 14,
   "metadata": {},
   "outputs": [],
   "source": [
    "def get_model_arrays(code):\n",
    "    getLayerSequence1(code)\n",
    "    getLayerSequence2(code)"
   ]
  },
  {
   "cell_type": "code",
   "execution_count": 15,
   "metadata": {},
   "outputs": [],
   "source": [
    "def model_to_pickle(model):\n",
    "    fname=str(uuid4().hex[:32])+'.pkl'\n",
    "    curr_dir=pathlib.Path(os.getcwd()).parent\n",
    "    fpath=os.path.join(curr_dir,'data',fname)\n",
    "    with open(fpath,'wb') as f:\n",
    "        pickle.dump(model,f)\n",
    "        f.close()"
   ]
  },
  {
   "cell_type": "code",
   "execution_count": 16,
   "metadata": {},
   "outputs": [
    {
     "output_type": "error",
     "ename": "FileNotFoundError",
     "evalue": "[Errno 2] No such file or directory: '../data/2ad0cea4440a443ea2d46fb452393d5d.pkl'",
     "traceback": [
      "\u001b[1;31m---------------------------------------------------------------------------\u001b[0m",
      "\u001b[1;31mFileNotFoundError\u001b[0m                         Traceback (most recent call last)",
      "\u001b[1;32m~\\AppData\\Local\\Temp/ipykernel_12512/2511429431.py\u001b[0m in \u001b[0;36m<module>\u001b[1;34m\u001b[0m\n\u001b[1;32m----> 1\u001b[1;33m \u001b[1;32mwith\u001b[0m \u001b[0mopen\u001b[0m\u001b[1;33m(\u001b[0m\u001b[1;34m'../data/2ad0cea4440a443ea2d46fb452393d5d.pkl'\u001b[0m\u001b[1;33m,\u001b[0m\u001b[1;34m'rb'\u001b[0m\u001b[1;33m)\u001b[0m \u001b[1;32mas\u001b[0m \u001b[0mf\u001b[0m\u001b[1;33m:\u001b[0m\u001b[1;33m\u001b[0m\u001b[1;33m\u001b[0m\u001b[0m\n\u001b[0m\u001b[0;32m      2\u001b[0m     \u001b[0mcontent\u001b[0m\u001b[1;33m=\u001b[0m\u001b[0mpickle\u001b[0m\u001b[1;33m.\u001b[0m\u001b[0mload\u001b[0m\u001b[1;33m(\u001b[0m\u001b[0mf\u001b[0m\u001b[1;33m)\u001b[0m\u001b[1;33m\u001b[0m\u001b[1;33m\u001b[0m\u001b[0m\n\u001b[0;32m      3\u001b[0m \u001b[0mprint\u001b[0m\u001b[1;33m(\u001b[0m\u001b[0mcontent\u001b[0m\u001b[1;33m)\u001b[0m\u001b[1;33m\u001b[0m\u001b[1;33m\u001b[0m\u001b[0m\n",
      "\u001b[1;31mFileNotFoundError\u001b[0m: [Errno 2] No such file or directory: '../data/2ad0cea4440a443ea2d46fb452393d5d.pkl'"
     ]
    }
   ],
   "source": [
    "with open('../data/ab0def3f972e43e9a4f5ec2b51d91668.pkl','rb') as f:\n",
    "    content=pickle.load(f)\n",
    "print(content)"
   ]
  },
  {
   "cell_type": "code",
   "execution_count": null,
   "metadata": {},
   "outputs": [],
   "source": [
    "# layers = ['Conv2D', 'Dense', 'LSTM', 'SimpleRNN', 'Dropout', 'Flatten', 'ZeroPadding2D', 'AveragePooling2D', 'MaxPooling2D']\n",
    "# for i in model:\n",
    "#     if i not in layers:\n",
    "#         '''Reject model'''\n",
    "#         pass\n",
    "# if len(model) < 4:\n",
    "#     '''Reject model'''"
   ]
  }
 ]
}